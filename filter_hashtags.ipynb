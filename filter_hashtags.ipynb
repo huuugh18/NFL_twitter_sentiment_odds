{
 "cells": [
  {
   "cell_type": "code",
   "execution_count": 2,
   "metadata": {},
   "outputs": [],
   "source": [
    "import pandas as pd"
   ]
  },
  {
   "cell_type": "code",
   "execution_count": 9,
   "metadata": {},
   "outputs": [
    {
     "data": {
      "text/html": [
       "<div>\n",
       "<style scoped>\n",
       "    .dataframe tbody tr th:only-of-type {\n",
       "        vertical-align: middle;\n",
       "    }\n",
       "\n",
       "    .dataframe tbody tr th {\n",
       "        vertical-align: top;\n",
       "    }\n",
       "\n",
       "    .dataframe thead th {\n",
       "        text-align: right;\n",
       "    }\n",
       "</style>\n",
       "<table border=\"1\" class=\"dataframe\">\n",
       "  <thead>\n",
       "    <tr style=\"text-align: right;\">\n",
       "      <th></th>\n",
       "      <th>team</th>\n",
       "      <th>timestamp</th>\n",
       "      <th>tweet_text</th>\n",
       "      <th>userid</th>\n",
       "    </tr>\n",
       "  </thead>\n",
       "  <tbody>\n",
       "    <tr>\n",
       "      <th>0</th>\n",
       "      <td>bears</td>\n",
       "      <td>2022-11-27 16:58:58+00:00</td>\n",
       "      <td>b'For the rest of the season, lol. #DaBears #B...</td>\n",
       "      <td>718550336575815680</td>\n",
       "    </tr>\n",
       "    <tr>\n",
       "      <th>1</th>\n",
       "      <td>bears</td>\n",
       "      <td>2022-11-27 16:58:31+00:00</td>\n",
       "      <td>b'\\xf0\\x9f\\x9a\\xa8BREAKING NEWS: Justin Fields...</td>\n",
       "      <td>1100098670324838403</td>\n",
       "    </tr>\n",
       "    <tr>\n",
       "      <th>2</th>\n",
       "      <td>bears</td>\n",
       "      <td>2022-11-27 16:57:45+00:00</td>\n",
       "      <td>b'#Jets RB James Robinson is a healthy inactiv...</td>\n",
       "      <td>1395552062650437635</td>\n",
       "    </tr>\n",
       "    <tr>\n",
       "      <th>3</th>\n",
       "      <td>bears</td>\n",
       "      <td>2022-11-27 16:55:18+00:00</td>\n",
       "      <td>b'AdamRonis: Justin Fields is inactive for the...</td>\n",
       "      <td>11221412</td>\n",
       "    </tr>\n",
       "    <tr>\n",
       "      <th>4</th>\n",
       "      <td>bears</td>\n",
       "      <td>2022-11-27 16:54:32+00:00</td>\n",
       "      <td>b'Now- my subscription is 7,77 cause I like it...</td>\n",
       "      <td>1239072082077667328</td>\n",
       "    </tr>\n",
       "  </tbody>\n",
       "</table>\n",
       "</div>"
      ],
      "text/plain": [
       "    team                  timestamp  \\\n",
       "0  bears  2022-11-27 16:58:58+00:00   \n",
       "1  bears  2022-11-27 16:58:31+00:00   \n",
       "2  bears  2022-11-27 16:57:45+00:00   \n",
       "3  bears  2022-11-27 16:55:18+00:00   \n",
       "4  bears  2022-11-27 16:54:32+00:00   \n",
       "\n",
       "                                          tweet_text               userid  \n",
       "0  b'For the rest of the season, lol. #DaBears #B...   718550336575815680  \n",
       "1  b'\\xf0\\x9f\\x9a\\xa8BREAKING NEWS: Justin Fields...  1100098670324838403  \n",
       "2  b'#Jets RB James Robinson is a healthy inactiv...  1395552062650437635  \n",
       "3  b'AdamRonis: Justin Fields is inactive for the...             11221412  \n",
       "4  b'Now- my subscription is 7,77 cause I like it...  1239072082077667328  "
      ]
     },
     "execution_count": 9,
     "metadata": {},
     "output_type": "execute_result"
    }
   ],
   "source": [
    "wk = 'wk_12'\n",
    "team = 'bears'\n",
    "\n",
    "def get_team_wk_twitter_data(wk, team):\n",
    "    filename = f'{wk}_{team}_tweets.csv'\n",
    "    filepath = f'./team_data/{wk}/{filename}'\n",
    "    df = pd.read_csv(filepath)\n",
    "    return df\n",
    "\n",
    "bear_12_df = get_team_wk_twitter_data(wk, team)\n",
    "bear_12_df.head()\n"
   ]
  },
  {
   "cell_type": "code",
   "execution_count": 15,
   "metadata": {},
   "outputs": [
    {
     "ename": "AttributeError",
     "evalue": "'NoneType' object has no attribute 'flatten'",
     "output_type": "error",
     "traceback": [
      "\u001b[1;31m---------------------------------------------------------------------------\u001b[0m",
      "\u001b[1;31mAttributeError\u001b[0m                            Traceback (most recent call last)",
      "\u001b[1;32mc:\\Users\\hugho\\Documents\\datascience\\500RP\\filter_hashtags.ipynb Cell 3\u001b[0m in \u001b[0;36m<cell line: 3>\u001b[1;34m()\u001b[0m\n\u001b[0;32m      <a href='vscode-notebook-cell:/c%3A/Users/hugho/Documents/datascience/500RP/filter_hashtags.ipynb#W3sZmlsZQ%3D%3D?line=0'>1</a>\u001b[0m \u001b[39mfrom\u001b[39;00m \u001b[39mhashtags_stripped\u001b[39;00m \u001b[39mimport\u001b[39;00m ht_half_2, ht_extra\n\u001b[1;32m----> <a href='vscode-notebook-cell:/c%3A/Users/hugho/Documents/datascience/500RP/filter_hashtags.ipynb#W3sZmlsZQ%3D%3D?line=2'>3</a>\u001b[0m hashtags_to_remove \u001b[39m=\u001b[39m ht_half_2\u001b[39m.\u001b[39;49mappend(ht_extra)\u001b[39m.\u001b[39;49mflatten()\n\u001b[0;32m      <a href='vscode-notebook-cell:/c%3A/Users/hugho/Documents/datascience/500RP/filter_hashtags.ipynb#W3sZmlsZQ%3D%3D?line=5'>6</a>\u001b[0m \u001b[39mdef\u001b[39;00m \u001b[39mremove_tweets_if_contain_hashtags\u001b[39m(df, hashtags):\n\u001b[0;32m      <a href='vscode-notebook-cell:/c%3A/Users/hugho/Documents/datascience/500RP/filter_hashtags.ipynb#W3sZmlsZQ%3D%3D?line=6'>7</a>\u001b[0m     \u001b[39mreturn\u001b[39;00m\n",
      "\u001b[1;31mAttributeError\u001b[0m: 'NoneType' object has no attribute 'flatten'"
     ]
    }
   ],
   "source": [
    "from hashtags_stripped import ht_half_2, ht_extra\n",
    "\n",
    "# combine hashtag list to filter\n",
    "hashtags_to_remove = ht_half_2.append(ht_extra).flatten()\n",
    "\n",
    "\n",
    "\n",
    "def remove_tweets_if_contain_hashtags(df, hashtags, team_hashtags):\n",
    "    \n",
    "    # remove team hashtags from hashtags list\n",
    "    # don't want to remove these\n",
    "    # hashtag_list = all_hashtags.filter(team_hashtags)\n",
    "\n",
    "\n",
    "    # for each row in dataframe, check if tweet_text contains any of the hashtags from list\n",
    "\n",
    "    # if true then remove row from new dataframe\n",
    "\n",
    "    #return new dataframe\n",
    "    return\n"
   ]
  }
 ],
 "metadata": {
  "kernelspec": {
   "display_name": "Python 3.10.2 64-bit",
   "language": "python",
   "name": "python3"
  },
  "language_info": {
   "codemirror_mode": {
    "name": "ipython",
    "version": 3
   },
   "file_extension": ".py",
   "mimetype": "text/x-python",
   "name": "python",
   "nbconvert_exporter": "python",
   "pygments_lexer": "ipython3",
   "version": "3.10.2"
  },
  "orig_nbformat": 4,
  "vscode": {
   "interpreter": {
    "hash": "2fc6efb3340bf4aae142c4471c3414bb5b17e6e80ba42a259676c40f0503db89"
   }
  }
 },
 "nbformat": 4,
 "nbformat_minor": 2
}
