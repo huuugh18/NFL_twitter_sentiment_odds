{
 "cells": [
  {
   "attachments": {},
   "cell_type": "markdown",
   "metadata": {},
   "source": [
    "## Preprocessing of tweets\n",
    "- Removing all URLs (“https://t.co/hSizQPxVFy”) and mentions (“@CardiffCityFC”) DONE\n",
    "\n",
    "- Removing emoticons not analyzable as provided by the Twitter API in R (“<U+009F>”) DONE\n",
    "\n",
    "- Removing punctuation characters and digits DONE\n",
    "\n",
    "- Removing tabs, line breaks and unnecessary spaces DONE \n",
    "\n",
    "- Removing any non-ascii character DONE\n",
    "\n",
    "- Changing text to lower case DONE\n",
    "\n",
    "- Replacing contractions with full forms (“wouldn’t” → “would not”)\n",
    "\n",
    "- Replacing acronyms with full forms (“omg” → “oh my god”)\n",
    "    - pychant? \n",
    "    \n",
    "    \n",
    "- Correcting and doubling intentionally misspelled words that express some sort of intensification\n",
    "(“niiiiiiiiiiiiiiiice” → “nice nice”)"
   ]
  },
  {
   "attachments": {
    "image.png": {
     "image/png": "[encoded data removed]"
    }
   },
   "cell_type": "markdown",
   "metadata": {},
   "source": [
    "Have tweets with bizzare encoding for I think punctuation and emojis\n",
    "\n",
    "Example: \n",
    "Tweet Collected:\n",
    "\"b'1hr til kick off. Let\\\\xe2\\\\x80\\\\x99s Go Niners!! #fttb \\\\xe2\\\\x9d\\\\xa4\\\\xef\\\\xb8\\\\x8f\\\\xf0\\\\x9f\\\\x92\\\\x9b'\"\n",
    "\n",
    "Real Tweet:\n",
    "1hr til kick off. Let’s Go Niners!! #fttb ❤️💛\n",
    "\n",
    "![image.png](attachment:image.png)  \n",
    "( also has the SF logo in it )"
   ]
  },
  {
   "attachments": {},
   "cell_type": "markdown",
   "metadata": {},
   "source": [
    "Would like to keep emojis but might not be possible"
   ]
  },
  {
   "cell_type": "code",
   "execution_count": 1,
   "metadata": {},
   "outputs": [],
   "source": [
    "import re\n",
    "from nltk.tokenize import TweetTokenizer\n",
    "import pandas as pd\n",
    "from ast import literal_eval"
   ]
  },
  {
   "cell_type": "code",
   "execution_count": 2,
   "metadata": {},
   "outputs": [],
   "source": [
    "\n",
    "def get_tweets(team, wk):\n",
    "    df = pd.read_csv(\n",
    "        f'../team_data/wk_{wk}/wk_{wk}_{team}_tweets.csv', \n",
    "        converters={\"tweet_text\":lambda x:literal_eval(x).decode(\"utf8\")}\n",
    "        )\n",
    "    return df"
   ]
  },
  {
   "cell_type": "code",
   "execution_count": 3,
   "metadata": {},
   "outputs": [],
   "source": [
    "df_49ers_12 = get_tweets('49ers', '12')\n",
    "\n",
    "\n",
    "tweets_49ers_12 = df_49ers_12['tweet_text']\n",
    "test_tweets = tweets_49ers_12[:5]"
   ]
  },
  {
   "cell_type": "code",
   "execution_count": 4,
   "metadata": {},
   "outputs": [
    {
     "data": {
      "text/plain": [
       "'1hr til kick off. Let’s Go Niners!! #fttb ❤️💛'"
      ]
     },
     "execution_count": 4,
     "metadata": {},
     "output_type": "execute_result"
    }
   ],
   "source": [
    "test_tweets[0]"
   ]
  },
  {
   "cell_type": "code",
   "execution_count": 245,
   "metadata": {},
   "outputs": [],
   "source": [
    "import  emot\n",
    "\n",
    "text1 = \"Hilarious 😂. The feeling of making a sale 😎, The feeling of actually fulfilling orders 😒\""
   ]
  },
  {
   "cell_type": "code",
   "execution_count": 243,
   "metadata": {},
   "outputs": [
    {
     "data": {
      "text/plain": [
       "{'value': ['😂', '😎', '😒'],\n",
       " 'location': [[10, 11], [42, 43], [87, 88]],\n",
       " 'mean': [':face_with_tears_of_joy:',\n",
       "  ':smiling_face_with_sunglasses:',\n",
       "  ':unamused_face:'],\n",
       " 'flag': True}"
      ]
     },
     "execution_count": 243,
     "metadata": {},
     "output_type": "execute_result"
    }
   ],
   "source": [
    "emot_object = emot.core.emot()\n",
    "emot_object.emoji(text1)"
   ]
  },
  {
   "cell_type": "code",
   "execution_count": 244,
   "metadata": {},
   "outputs": [
    {
     "data": {
      "text/plain": [
       "'Hilarious :face_with_tears_of_joy:. The feeling of making a sale :smiling_face_with_sunglasses:, The feeling of actually fulfilling orders :unamused_face:'"
      ]
     },
     "execution_count": 244,
     "metadata": {},
     "output_type": "execute_result"
    }
   ],
   "source": [
    "import emoji\n",
    "\n",
    "emoji.demojize(text1)"
   ]
  },
  {
   "cell_type": "code",
   "execution_count": 235,
   "metadata": {},
   "outputs": [
    {
     "ename": "ImportError",
     "evalue": "cannot import name 'UNICODE_EMO' from 'emot.emo_unicode' (c:\\Users\\hugho\\AppData\\Local\\Programs\\Python\\Python310\\lib\\site-packages\\emot\\emo_unicode.py)",
     "output_type": "error",
     "traceback": [
      "\u001b[1;31m---------------------------------------------------------------------------\u001b[0m",
      "\u001b[1;31mImportError\u001b[0m                               Traceback (most recent call last)",
      "\u001b[1;32mc:\\Users\\hugho\\Documents\\datascience\\500RP\\tweet_collection\\tweet_preprocessing.ipynb Cell 7\u001b[0m in \u001b[0;36m<cell line: 2>\u001b[1;34m()\u001b[0m\n\u001b[0;32m      <a href='vscode-notebook-cell:/c%3A/Users/hugho/Documents/datascience/500RP/tweet_collection/tweet_preprocessing.ipynb#W3sZmlsZQ%3D%3D?line=0'>1</a>\u001b[0m \u001b[39mimport\u001b[39;00m \u001b[39mpickle\u001b[39;00m\n\u001b[1;32m----> <a href='vscode-notebook-cell:/c%3A/Users/hugho/Documents/datascience/500RP/tweet_collection/tweet_preprocessing.ipynb#W3sZmlsZQ%3D%3D?line=1'>2</a>\u001b[0m \u001b[39mfrom\u001b[39;00m \u001b[39memot\u001b[39;00m\u001b[39m.\u001b[39;00m\u001b[39memo_unicode\u001b[39;00m \u001b[39mimport\u001b[39;00m UNICODE_EMO, EMOTICONS\n\u001b[0;32m      <a href='vscode-notebook-cell:/c%3A/Users/hugho/Documents/datascience/500RP/tweet_collection/tweet_preprocessing.ipynb#W3sZmlsZQ%3D%3D?line=3'>4</a>\u001b[0m \u001b[39m# with open('Emoji_dict.p', 'rb') as fp:\u001b[39;00m\n\u001b[0;32m      <a href='vscode-notebook-cell:/c%3A/Users/hugho/Documents/datascience/500RP/tweet_collection/tweet_preprocessing.ipynb#W3sZmlsZQ%3D%3D?line=4'>5</a>\u001b[0m \u001b[39m#     Emoji_Dict = pickle.load(fp)\u001b[39;00m\n\u001b[0;32m      <a href='vscode-notebook-cell:/c%3A/Users/hugho/Documents/datascience/500RP/tweet_collection/tweet_preprocessing.ipynb#W3sZmlsZQ%3D%3D?line=6'>7</a>\u001b[0m \u001b[39mdef\u001b[39;00m \u001b[39mclean_tweet\u001b[39m(tweet):\n",
      "\u001b[1;31mImportError\u001b[0m: cannot import name 'UNICODE_EMO' from 'emot.emo_unicode' (c:\\Users\\hugho\\AppData\\Local\\Programs\\Python\\Python310\\lib\\site-packages\\emot\\emo_unicode.py)"
     ]
    }
   ],
   "source": [
    "\n",
    "\n",
    "def clean_tweet(tweet):\n",
    "    print('OG: ', tweet)\n",
    "    \n",
    "    if type(tweet) == float:\n",
    "        return \"\"\n",
    "    # lower case\n",
    "    r = tweet.lower()\n",
    "\n",
    "    # remove mentions\n",
    "    r = re.sub(\"@[A-Za-z0-9_]+\",\"\", r)\n",
    "    \n",
    "    # remove hashtags\n",
    "    r = re.sub(\"#\",\"\", r)\n",
    "    \n",
    "    # remove urls\n",
    "    r = re.sub(r'http\\S+', '', r)\n",
    "    \n",
    "    # remove string literal utf-8 characters\n",
    "    # r = re.sub('\\\\\\\\x[a-z0-9][a-z0-9]', '', r)\n",
    "\n",
    "    # remove punctuation?\n",
    "    r = re.sub('[()!?]', ' ', r)\n",
    "    \n",
    "    # remove anything in square brackets - not sure why\n",
    "    r = re.sub('\\[.*?\\]',' ', r)\n",
    "\n",
    "\n",
    "    # This is to avoid removing contractions in english\n",
    "    r = re.sub(\"'\", \"\", r) \n",
    "\n",
    "    # remove 'RT'\n",
    "    r = re.sub(r'^RT[\\s]+', '', r)\n",
    "\n",
    "    # replace &amp\n",
    "    # r = re.sub(r'&amp', 'and', r)\n",
    "\n",
    "    # remove non digits\n",
    "    r = re.sub(\"[^a-z]\",\" \", r)\n",
    "    \n",
    "    # remove special characters\n",
    "    r = re.sub(\"\\[\\n]\", \"\", r)\n",
    "\n",
    "    # split tokens\n",
    "    # r = r.split()\n",
    "\n",
    "    # # remove stopwords\n",
    "    # stopwords = [\"for\", \"on\", \"an\", \"a\", \"of\", \"and\", \"in\", \"the\", \"to\", \"from\"]\n",
    "    # r = [w for w in r if not w in stopwords]\n",
    "    # r = \" \".join(word for word in r)\n",
    "\n",
    "    return r\n",
    "\n",
    "# NLTK Tweet Tokenizer\n",
    "tweet_tokenizer = TweetTokenizer(preserve_case=False, reduce_len=True, strip_handles=True, match_phone_numbers=False)\n",
    "\n",
    "for tweet in tweets_49ers_12[:4]:\n",
    "    # tweet = tweet.decode('utf-8')\n",
    "    print(tweet_tokenizer.tokenize(clean_tweet(tweet)))"
   ]
  },
  {
   "cell_type": "code",
   "execution_count": 57,
   "metadata": {},
   "outputs": [],
   "source": []
  },
  {
   "cell_type": "code",
   "execution_count": 230,
   "metadata": {},
   "outputs": [
    {
     "name": "stdout",
     "output_type": "stream",
     "text": [
      "OG:  1hr til kick off. Let’s Go Niners!! #fttb ❤️💛\n",
      "['hr', 'til', 'kick', 'off', 'let', 's', 'go', 'niners', 'fttb']\n",
      "OG:  Big test today for Jimmy Garoppolo and the #49ers offense today: Can he lead a drive across midfield against Dennis Allen's Saints defense?\n",
      "['ig', 'test', 'today', 'for', 'jimmy', 'garoppolo', 'and', 'the', 'ers', 'offense', 'today', 'can', 'he', 'lead', 'a', 'drive', 'across', 'midfield', 'against', 'dennis', 'allens', 'saints', 'defense']\n",
      "OG:  #49ers have held three straight opponents scoreless in the second half for the first time since 2019 and have outscored the opposition 54-0 after halftime in those games.\n",
      "['ers', 'have', 'held', 'three', 'straight', 'opponents', 'scoreless', 'in', 'the', 'second', 'half', 'for', 'the', 'first', 'time', 'since', 'and', 'have', 'outscored', 'the', 'opposition', 'after', 'halftime', 'in', 'those', 'games']\n",
      "OG:  @49erHodge Hell yea GO NINERS 🤘 #FTTB\n",
      "['hell', 'yea', 'go', 'niners', 'fttb']\n"
     ]
    }
   ],
   "source": [
    "for tweet in tweets_49ers_12[:4]:\n",
    "    # tweet = tweet.decode('utf-8')\n",
    "    print(tweet_tokenizer.tokenize(clean_tweet(tweet)))"
   ]
  },
  {
   "attachments": {},
   "cell_type": "markdown",
   "metadata": {},
   "source": [
    "## FINALLY FIGURED OUT - everything is encoded in bytes object (UTF-8)\n",
    "### To convert back to string using ```.decode('utf-8')```  \n",
    "```b'1hr til kick off. Let\\xe2\\x80\\x99s Go Niners!! #fttb \\xe2\\x9d\\xa4\\xef\\xb8\\x8f\\xf0\\x9f\\x92\\x9b'.decode('utf-8')```  \n",
    "\n",
    "\n",
    "https://stackoverflow.com/questions/6269765/what-does-the-b-character-do-in-front-of-a-string-literal"
   ]
  },
  {
   "cell_type": "code",
   "execution_count": 1,
   "metadata": {},
   "outputs": [
    {
     "ename": "ModuleNotFoundError",
     "evalue": "No module named 'emojientities'",
     "output_type": "error",
     "traceback": [
      "\u001b[1;31m---------------------------------------------------------------------------\u001b[0m",
      "\u001b[1;31mModuleNotFoundError\u001b[0m                       Traceback (most recent call last)",
      "\u001b[1;32mc:\\Users\\hugho\\Documents\\datascience\\500RP\\tweet_collection\\tweet_preprocessing.ipynb Cell 14\u001b[0m in \u001b[0;36m<cell line: 1>\u001b[1;34m()\u001b[0m\n\u001b[1;32m----> <a href='vscode-notebook-cell:/c%3A/Users/hugho/Documents/datascience/500RP/tweet_collection/tweet_preprocessing.ipynb#X16sZmlsZQ%3D%3D?line=0'>1</a>\u001b[0m \u001b[39mimport\u001b[39;00m \u001b[39mwebis\u001b[39;00m\n",
      "File \u001b[1;32mc:\\Users\\hugho\\AppData\\Local\\Programs\\Python\\Python310\\lib\\site-packages\\webis-0.3.1-py3.10.egg\\webis\\__init__.py:19\u001b[0m, in \u001b[0;36m<module>\u001b[1;34m\u001b[0m\n\u001b[0;32m      1\u001b[0m \u001b[39m#!/usr/bin/env python3\u001b[39;00m\n\u001b[0;32m      2\u001b[0m \u001b[39m# -*- coding: utf-8 -*-\u001b[39;00m\n\u001b[0;32m      3\u001b[0m \n\u001b[1;32m   (...)\u001b[0m\n\u001b[0;32m     16\u001b[0m \u001b[39m#   You should have received a copy of the GNU General Public License\u001b[39;00m\n\u001b[0;32m     17\u001b[0m \u001b[39m#   along with this program; if not, see <http://www.gnu.org/licenses/>.\u001b[39;00m\n\u001b[1;32m---> 19\u001b[0m \u001b[39mfrom\u001b[39;00m \u001b[39m.\u001b[39;00m\u001b[39mSentimentIdentifier\u001b[39;00m \u001b[39mimport\u001b[39;00m (\n\u001b[0;32m     20\u001b[0m     SentimentIdentifier\n\u001b[0;32m     21\u001b[0m )\n\u001b[0;32m     23\u001b[0m __all__ \u001b[39m=\u001b[39m [\n\u001b[0;32m     24\u001b[0m     \u001b[39m\"\u001b[39m\u001b[39mSentimentIdentifier\u001b[39m\u001b[39m\"\u001b[39m,\n\u001b[0;32m     25\u001b[0m     \u001b[39m\"\u001b[39m\u001b[39midentifySentiment\u001b[39m\u001b[39m\"\u001b[39m,\n\u001b[0;32m     26\u001b[0m     \u001b[39m\"\u001b[39m\u001b[39m__name__\u001b[39m\u001b[39m\"\u001b[39m,\n\u001b[0;32m     27\u001b[0m     \u001b[39m\"\u001b[39m\u001b[39m__version__\u001b[39m\u001b[39m\"\u001b[39m\n\u001b[0;32m     28\u001b[0m ]\n\u001b[0;32m     30\u001b[0m \u001b[39mfrom\u001b[39;00m \u001b[39m.\u001b[39;00m\u001b[39m_version\u001b[39;00m \u001b[39mimport\u001b[39;00m get_versions\n",
      "File \u001b[1;32mc:\\Users\\hugho\\AppData\\Local\\Programs\\Python\\Python310\\lib\\site-packages\\webis-0.3.1-py3.10.egg\\webis\\SentimentIdentifier.py:24\u001b[0m, in \u001b[0;36m<module>\u001b[1;34m\u001b[0m\n\u001b[0;32m     22\u001b[0m \u001b[39mimport\u001b[39;00m \u001b[39mcollections\u001b[39;00m\u001b[39m.\u001b[39;00m\u001b[39mabc\u001b[39;00m\n\u001b[0;32m     23\u001b[0m \u001b[39mimport\u001b[39;00m \u001b[39mcontextlib\u001b[39;00m\n\u001b[1;32m---> 24\u001b[0m \u001b[39mimport\u001b[39;00m \u001b[39memojientities\u001b[39;00m  \u001b[39m# noqa: F401\u001b[39;00m\n\u001b[0;32m     25\u001b[0m \u001b[39mimport\u001b[39;00m \u001b[39mjnius_config\u001b[39;00m\n\u001b[0;32m     26\u001b[0m \u001b[39mimport\u001b[39;00m \u001b[39moperator\u001b[39;00m\n",
      "\u001b[1;31mModuleNotFoundError\u001b[0m: No module named 'emojientities'"
     ]
    }
   ],
   "source": [
    "import webis"
   ]
  }
 ],
 "metadata": {
  "kernelspec": {
   "display_name": "Python 3",
   "language": "python",
   "name": "python3"
  },
  "language_info": {
   "codemirror_mode": {
    "name": "ipython",
    "version": 3
   },
   "file_extension": ".py",
   "mimetype": "text/x-python",
   "name": "python",
   "nbconvert_exporter": "python",
   "pygments_lexer": "ipython3",
   "version": "3.10.2 (tags/v3.10.2:a58ebcc, Jan 17 2022, 14:12:15) [MSC v.1929 64 bit (AMD64)]"
  },
  "orig_nbformat": 4,
  "vscode": {
   "interpreter": {
    "hash": "2fc6efb3340bf4aae142c4471c3414bb5b17e6e80ba42a259676c40f0503db89"
   }
  }
 },
 "nbformat": 4,
 "nbformat_minor": 2
}
