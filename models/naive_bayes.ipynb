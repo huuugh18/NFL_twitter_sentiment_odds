{
 "cells": [
  {
   "cell_type": "code",
   "execution_count": 40,
   "metadata": {},
   "outputs": [],
   "source": [
    "import os\n",
    "import pandas as  pd\n",
    "import numpy as np\n",
    "import matplotlib.pyplot as plt\n",
    "from sklearn.preprocessing import MinMaxScaler"
   ]
  },
  {
   "attachments": {},
   "cell_type": "markdown",
   "metadata": {},
   "source": [
    "### File Retrieval and Preprocessing"
   ]
  },
  {
   "cell_type": "code",
   "execution_count": 73,
   "metadata": {},
   "outputs": [],
   "source": [
    "files = os.listdir('../final_stats/preprocessed/')\n",
    "files[:2]\n",
    "\n",
    "def split_target(df, target_col='away_winner_wts'):\n",
    "    df = df.copy()\n",
    "    target = df.pop(target_col)\n",
    "    return df, target\n",
    "\n",
    "def normalize_df(df):\n",
    "    scaler = MinMaxScaler()\n",
    "    df = pd.DataFrame(scaler.fit_transform(df), columns=df.columns)\n",
    "    data, target = split_target(df)\n",
    "    return data, target\n",
    "\n",
    "def get_data(file):\n",
    "    df = pd.read_csv(f'../final_stats/preprocessed/{file}', index_col=[0])\n",
    "    data, target = normalize_df(df)\n",
    "    return data, target\n",
    "\n",
    "def remove_last_1(df):\n",
    "    df = df.copy()\n",
    "    df.drop(df.iloc[:, 1:52], inplace=True, axis=1)\n",
    "    df.drop(df.iloc[:, 53:103], inplace=True, axis=1)\n",
    "    return df\n",
    "\n",
    "def get_data_skip_last_1(file):\n",
    "    df = pd.read_csv(f'../final_stats/preprocessed/{file}', index_col=[0])\n",
    "    df = remove_last_1(df)\n",
    "    data, target = normalize_df(df)\n",
    "    return data, target\n"
   ]
  },
  {
   "cell_type": "code",
   "execution_count": 65,
   "metadata": {},
   "outputs": [
    {
     "name": "stdout",
     "output_type": "stream",
     "text": [
      "preprocessed_no_sent_last_10.csv\n"
     ]
    },
    {
     "data": {
      "text/html": [
       "<div>\n",
       "<style scoped>\n",
       "    .dataframe tbody tr th:only-of-type {\n",
       "        vertical-align: middle;\n",
       "    }\n",
       "\n",
       "    .dataframe tbody tr th {\n",
       "        vertical-align: top;\n",
       "    }\n",
       "\n",
       "    .dataframe thead th {\n",
       "        text-align: right;\n",
       "    }\n",
       "</style>\n",
       "<table border=\"1\" class=\"dataframe\">\n",
       "  <thead>\n",
       "    <tr style=\"text-align: right;\">\n",
       "      <th></th>\n",
       "      <th>home_score_team_last_1</th>\n",
       "      <th>home_score_opp_last_1</th>\n",
       "      <th>home_pass_cmp_off_last_1</th>\n",
       "      <th>home_pass_att_off_last_1</th>\n",
       "      <th>home_pass_yds_off_last_1</th>\n",
       "      <th>home_pass_tds_off_last_1</th>\n",
       "      <th>home_ints_off_last_1</th>\n",
       "      <th>home_sacks_off_last_1</th>\n",
       "      <th>home_sacks_yds_off_last_1</th>\n",
       "      <th>home_pass_yds_per_att_last_1</th>\n",
       "      <th>...</th>\n",
       "      <th>away_ravens</th>\n",
       "      <th>away_saints</th>\n",
       "      <th>away_seahawks</th>\n",
       "      <th>away_steelers</th>\n",
       "      <th>away_texans</th>\n",
       "      <th>away_titans</th>\n",
       "      <th>away_vikings</th>\n",
       "      <th>day_Sat</th>\n",
       "      <th>day_Sun</th>\n",
       "      <th>day_Thu</th>\n",
       "    </tr>\n",
       "  </thead>\n",
       "  <tbody>\n",
       "    <tr>\n",
       "      <th>0</th>\n",
       "      <td>0.470588</td>\n",
       "      <td>0.414634</td>\n",
       "      <td>0.515152</td>\n",
       "      <td>0.315789</td>\n",
       "      <td>0.732323</td>\n",
       "      <td>0.75</td>\n",
       "      <td>0.333333</td>\n",
       "      <td>0.428571</td>\n",
       "      <td>0.278689</td>\n",
       "      <td>1.000000</td>\n",
       "      <td>...</td>\n",
       "      <td>0.0</td>\n",
       "      <td>0.0</td>\n",
       "      <td>0.0</td>\n",
       "      <td>0.0</td>\n",
       "      <td>0.0</td>\n",
       "      <td>0.0</td>\n",
       "      <td>0.0</td>\n",
       "      <td>0.0</td>\n",
       "      <td>1.0</td>\n",
       "      <td>0.0</td>\n",
       "    </tr>\n",
       "    <tr>\n",
       "      <th>1</th>\n",
       "      <td>0.392157</td>\n",
       "      <td>0.756098</td>\n",
       "      <td>0.636364</td>\n",
       "      <td>0.631579</td>\n",
       "      <td>0.722222</td>\n",
       "      <td>0.75</td>\n",
       "      <td>0.000000</td>\n",
       "      <td>0.142857</td>\n",
       "      <td>0.131148</td>\n",
       "      <td>0.543210</td>\n",
       "      <td>...</td>\n",
       "      <td>0.0</td>\n",
       "      <td>0.0</td>\n",
       "      <td>0.0</td>\n",
       "      <td>0.0</td>\n",
       "      <td>0.0</td>\n",
       "      <td>0.0</td>\n",
       "      <td>0.0</td>\n",
       "      <td>0.0</td>\n",
       "      <td>1.0</td>\n",
       "      <td>0.0</td>\n",
       "    </tr>\n",
       "    <tr>\n",
       "      <th>2</th>\n",
       "      <td>0.705882</td>\n",
       "      <td>0.414634</td>\n",
       "      <td>0.575758</td>\n",
       "      <td>0.421053</td>\n",
       "      <td>0.671717</td>\n",
       "      <td>0.75</td>\n",
       "      <td>0.000000</td>\n",
       "      <td>0.142857</td>\n",
       "      <td>0.098361</td>\n",
       "      <td>0.703704</td>\n",
       "      <td>...</td>\n",
       "      <td>0.0</td>\n",
       "      <td>0.0</td>\n",
       "      <td>0.0</td>\n",
       "      <td>0.0</td>\n",
       "      <td>1.0</td>\n",
       "      <td>0.0</td>\n",
       "      <td>0.0</td>\n",
       "      <td>0.0</td>\n",
       "      <td>1.0</td>\n",
       "      <td>0.0</td>\n",
       "    </tr>\n",
       "    <tr>\n",
       "      <th>3</th>\n",
       "      <td>0.392157</td>\n",
       "      <td>0.243902</td>\n",
       "      <td>0.242424</td>\n",
       "      <td>0.263158</td>\n",
       "      <td>0.406566</td>\n",
       "      <td>0.00</td>\n",
       "      <td>0.000000</td>\n",
       "      <td>0.000000</td>\n",
       "      <td>0.000000</td>\n",
       "      <td>0.444444</td>\n",
       "      <td>...</td>\n",
       "      <td>0.0</td>\n",
       "      <td>0.0</td>\n",
       "      <td>0.0</td>\n",
       "      <td>0.0</td>\n",
       "      <td>0.0</td>\n",
       "      <td>0.0</td>\n",
       "      <td>0.0</td>\n",
       "      <td>0.0</td>\n",
       "      <td>1.0</td>\n",
       "      <td>0.0</td>\n",
       "    </tr>\n",
       "    <tr>\n",
       "      <th>4</th>\n",
       "      <td>0.000000</td>\n",
       "      <td>0.317073</td>\n",
       "      <td>0.424242</td>\n",
       "      <td>0.421053</td>\n",
       "      <td>0.351010</td>\n",
       "      <td>0.00</td>\n",
       "      <td>0.666667</td>\n",
       "      <td>0.571429</td>\n",
       "      <td>0.442623</td>\n",
       "      <td>0.296296</td>\n",
       "      <td>...</td>\n",
       "      <td>0.0</td>\n",
       "      <td>0.0</td>\n",
       "      <td>0.0</td>\n",
       "      <td>0.0</td>\n",
       "      <td>0.0</td>\n",
       "      <td>0.0</td>\n",
       "      <td>0.0</td>\n",
       "      <td>0.0</td>\n",
       "      <td>1.0</td>\n",
       "      <td>0.0</td>\n",
       "    </tr>\n",
       "  </tbody>\n",
       "</table>\n",
       "<p>5 rows × 272 columns</p>\n",
       "</div>"
      ],
      "text/plain": [
       "   home_score_team_last_1  home_score_opp_last_1  home_pass_cmp_off_last_1  \\\n",
       "0                0.470588               0.414634                  0.515152   \n",
       "1                0.392157               0.756098                  0.636364   \n",
       "2                0.705882               0.414634                  0.575758   \n",
       "3                0.392157               0.243902                  0.242424   \n",
       "4                0.000000               0.317073                  0.424242   \n",
       "\n",
       "   home_pass_att_off_last_1  home_pass_yds_off_last_1  \\\n",
       "0                  0.315789                  0.732323   \n",
       "1                  0.631579                  0.722222   \n",
       "2                  0.421053                  0.671717   \n",
       "3                  0.263158                  0.406566   \n",
       "4                  0.421053                  0.351010   \n",
       "\n",
       "   home_pass_tds_off_last_1  home_ints_off_last_1  home_sacks_off_last_1  \\\n",
       "0                      0.75              0.333333               0.428571   \n",
       "1                      0.75              0.000000               0.142857   \n",
       "2                      0.75              0.000000               0.142857   \n",
       "3                      0.00              0.000000               0.000000   \n",
       "4                      0.00              0.666667               0.571429   \n",
       "\n",
       "   home_sacks_yds_off_last_1  home_pass_yds_per_att_last_1  ...  away_ravens  \\\n",
       "0                   0.278689                      1.000000  ...          0.0   \n",
       "1                   0.131148                      0.543210  ...          0.0   \n",
       "2                   0.098361                      0.703704  ...          0.0   \n",
       "3                   0.000000                      0.444444  ...          0.0   \n",
       "4                   0.442623                      0.296296  ...          0.0   \n",
       "\n",
       "   away_saints  away_seahawks  away_steelers  away_texans  away_titans  \\\n",
       "0          0.0            0.0            0.0          0.0          0.0   \n",
       "1          0.0            0.0            0.0          0.0          0.0   \n",
       "2          0.0            0.0            0.0          1.0          0.0   \n",
       "3          0.0            0.0            0.0          0.0          0.0   \n",
       "4          0.0            0.0            0.0          0.0          0.0   \n",
       "\n",
       "   away_vikings  day_Sat  day_Sun  day_Thu  \n",
       "0           0.0      0.0      1.0      0.0  \n",
       "1           0.0      0.0      1.0      0.0  \n",
       "2           0.0      0.0      1.0      0.0  \n",
       "3           0.0      0.0      1.0      0.0  \n",
       "4           0.0      0.0      1.0      0.0  \n",
       "\n",
       "[5 rows x 272 columns]"
      ]
     },
     "execution_count": 65,
     "metadata": {},
     "output_type": "execute_result"
    }
   ],
   "source": [
    "print(files[1])\n",
    "x, y = get_data(files[1])\n",
    "x.head()"
   ]
  },
  {
   "attachments": {},
   "cell_type": "markdown",
   "metadata": {},
   "source": [
    "### Chart Code"
   ]
  },
  {
   "cell_type": "code",
   "execution_count": 4,
   "metadata": {},
   "outputs": [],
   "source": [
    "def get_average_acc_history(acc_histories):\n",
    "    num_epochs = len(acc_histories[0])\n",
    "    return [np.mean([x[i] for x in acc_histories]) for i in range(num_epochs)]\n",
    "\n",
    "def get_average_loss_history(loss_histories):\n",
    "    num_epochs = len(loss_histories[0])\n",
    "    return [np.mean([x[i] for x in loss_histories]) for i in range(num_epochs)]\n",
    "        \n",
    "def plot_ave_acc_and_loss_histories(acc_histories, loss_histories):\n",
    "    average_acc_history = get_average_acc_history(acc_histories)\n",
    "    average_loss_history = get_average_loss_history(loss_histories)\n",
    "\n",
    "    plt.figure(figsize=(15,5))\n",
    "    \n",
    "    plt.subplot(1, 2, 1)\n",
    "    plt.plot(range(1, len(average_acc_history) + 1), average_acc_history)\n",
    "    plt.xlabel(\"Epochs\")\n",
    "    plt.ylabel(\"Validation Accuracy\")\n",
    "\n",
    "    plt.subplot(1, 2, 2)\n",
    "\n",
    "    plt.plot(range(1, len(average_loss_history) + 1), average_loss_history)\n",
    "    plt.xlabel(\"Epochs\")\n",
    "    plt.ylabel(\"Validation Loss\")\n",
    "    plt.show()\n",
    "\n",
    "def compare_ave_loss_acc_histories(acc_hist_1, acc_hist_2, loss_hist_1, loss_hist_2):\n",
    "    min_epochs = min(len(acc_hist_1[0]), len(acc_hist_2[0]))\n",
    "    \n",
    "    ave_acc_hist_1 = get_average_acc_history(acc_hist_1)\n",
    "    ave_loss_hist_1 = get_average_loss_history(loss_hist_1)\n",
    "    \n",
    "    ave_acc_hist_2 = get_average_acc_history(acc_hist_2)\n",
    "    ave_loss_hist_2 = get_average_loss_history(loss_hist_2)\n",
    "\n",
    "\n",
    "    blue_dots = 'bo'\n",
    "    solid_blue_line = 'b'\n",
    "    red_dots = 'ro'\n",
    "    solid_red_line = 'r'\n",
    "\n",
    "    epochs = range(1, min_epochs + 1)\n",
    "    plt.figure(figsize=(15,5))\n",
    "    \n",
    "    plt.subplot(1, 2, 1)\n",
    "    plt.plot(epochs, ave_acc_hist_1, solid_blue_line, label='Model 1')\n",
    "    plt.plot(epochs, ave_acc_hist_2, solid_red_line, label='Model 2')\n",
    "    plt.xlabel(\"Epochs\")\n",
    "    plt.ylabel(\"Validation Accuracy\")\n",
    "    plt.legend()\n",
    "\n",
    "    plt.subplot(1, 2, 2)\n",
    "\n",
    "    plt.plot(epochs, ave_loss_hist_1, solid_blue_line, label='Model 1')\n",
    "    plt.plot(epochs, ave_loss_hist_2, solid_red_line, label='Model 2')\n",
    "    plt.xlabel(\"Epochs\")\n",
    "    plt.ylabel(\"Validation Loss\")\n",
    "    plt.legend()\n",
    "    \n",
    "    plt.show()\n",
    "    "
   ]
  },
  {
   "cell_type": "code",
   "execution_count": 33,
   "metadata": {},
   "outputs": [],
   "source": [
    "from sklearn.model_selection import KFold\n",
    "from sklearn.model_selection import cross_val_score\n",
    "from sklearn.model_selection import train_test_split\n",
    "from sklearn.model_selection import RepeatedKFold\n",
    "from sklearn.naive_bayes import GaussianNB\n"
   ]
  },
  {
   "attachments": {},
   "cell_type": "markdown",
   "metadata": {},
   "source": [
    "### Repeated K-Fold Cross Validation\n",
    "Limited in dataset so want to run a few times\n",
    "Grid search of the learning rate and the n-estimators perameter\n",
    "Hold out test set of 0.2 "
   ]
  },
  {
   "cell_type": "code",
   "execution_count": 91,
   "metadata": {},
   "outputs": [],
   "source": [
    "\n",
    "\n",
    "def get_nb_model(smoothing=1e-9):\n",
    "    clf = GaussianNB(var_smoothing=smoothing)\n",
    "    return clf\n",
    "\n",
    "def grid_search(X_train, y_train, smoothings):\n",
    "    max_score = {\n",
    "        'scores_mean': 0\n",
    "    }\n",
    "\n",
    "    all_scores = []\n",
    "    \n",
    "    for n in smoothings:\n",
    "        clf = get_nb_model(n)\n",
    "\n",
    "        cv = RepeatedKFold(n_splits=10, n_repeats=3, random_state=1)\n",
    "\n",
    "        scores = cross_val_score(\n",
    "            clf, \n",
    "            X_train, \n",
    "            y_train, \n",
    "            scoring='accuracy', \n",
    "            cv=cv, \n",
    "            n_jobs=-1\n",
    "        )\n",
    "        scores_dict = {\n",
    "            'scores_mean': scores.mean(),\n",
    "            'scores_std': scores.std(),\n",
    "            'smoothing': n,\n",
    "            'scores': scores\n",
    "        }\n",
    "        all_scores.append(scores_dict)\n",
    "\n",
    "        if scores.mean() > max_score['scores_mean']:\n",
    "            max_score = scores_dict\n",
    "    return all_scores, max_score\n"
   ]
  },
  {
   "cell_type": "code",
   "execution_count": 92,
   "metadata": {},
   "outputs": [],
   "source": [
    "smoothings = np.logspace(0,-9, num=100)\n",
    "X_train, X_test, y_train, y_test = train_test_split(x, y, test_size=0.2, random_state=0)\n",
    "\n",
    "all_scores_1, max_score_1 = grid_search(X_train,y_train, smoothings)"
   ]
  },
  {
   "cell_type": "code",
   "execution_count": 48,
   "metadata": {},
   "outputs": [
    {
     "name": "stdout",
     "output_type": "stream",
     "text": [
      "100\n"
     ]
    },
    {
     "data": {
      "text/plain": [
       "{'scores_mean': 0.562037037037037,\n",
       " 'scores_std': 0.17084776110910707,\n",
       " 'smoothing': 1.0,\n",
       " 'scores': array([0.33333333, 0.44444444, 0.55555556, 0.66666667, 0.5       ,\n",
       "        0.75      , 0.625     , 0.5       , 0.75      , 0.625     ,\n",
       "        0.55555556, 0.33333333, 0.33333333, 0.77777778, 0.625     ,\n",
       "        0.25      , 0.75      , 0.5       , 0.625     , 0.75      ,\n",
       "        0.55555556, 0.44444444, 0.55555556, 0.55555556, 0.125     ,\n",
       "        0.75      , 0.375     , 0.75      , 0.75      , 0.75      ])}"
      ]
     },
     "execution_count": 48,
     "metadata": {},
     "output_type": "execute_result"
    }
   ],
   "source": [
    "print(len(all_scores_1))\n",
    "max_score_1"
   ]
  },
  {
   "cell_type": "code",
   "execution_count": 49,
   "metadata": {},
   "outputs": [],
   "source": [
    "def get_best_params(all_scores):\n",
    "    ms = max(all_scores, key=lambda x:x['scores_mean'])\n",
    "    print(f\"Accuracy: {round(ms['scores_mean']*100,2)}%\")\n",
    "    print(f\"Best Paramaters: \\n var_smoothing: {ms['smoothing']}\")\n",
    "\n"
   ]
  },
  {
   "cell_type": "code",
   "execution_count": 50,
   "metadata": {},
   "outputs": [
    {
     "name": "stdout",
     "output_type": "stream",
     "text": [
      "Accuracy: 56.2%\n",
      "Best Paramaters: \n",
      " var_smoothing: 1.0\n"
     ]
    }
   ],
   "source": [
    "get_best_params(all_scores_1)"
   ]
  },
  {
   "attachments": {},
   "cell_type": "markdown",
   "metadata": {},
   "source": [
    "### Train Base Model and Test"
   ]
  },
  {
   "cell_type": "code",
   "execution_count": 95,
   "metadata": {},
   "outputs": [],
   "source": [
    "def test_model(max_score, X_train, y_train, X_test, y_test):\n",
    "    base_model = get_nb_model(max_score['smoothing'])\n",
    "    base_model.fit(X_train, y_train)\n",
    "\n",
    "    score = base_model.score(X_test, y_test)\n",
    "    print(f\"Final Accuracy: {round(score*100, 2)}%\")\n",
    "\n",
    "    return score"
   ]
  },
  {
   "cell_type": "code",
   "execution_count": 52,
   "metadata": {},
   "outputs": [
    {
     "name": "stdout",
     "output_type": "stream",
     "text": [
      "Final Accuracy: 42.86%\n"
     ]
    }
   ],
   "source": [
    "score = test_model(max_score_1, x, y)"
   ]
  },
  {
   "attachments": {},
   "cell_type": "markdown",
   "metadata": {},
   "source": [
    "### Run for every dataset on base model??\n"
   ]
  },
  {
   "cell_type": "code",
   "execution_count": 96,
   "metadata": {},
   "outputs": [
    {
     "name": "stdout",
     "output_type": "stream",
     "text": [
      "preprocessed_no_sent_last_1.csv\n",
      "Final Accuracy: 42.86%\n",
      "preprocessed_no_sent_last_10.csv\n",
      "Final Accuracy: 42.86%\n",
      "preprocessed_no_sent_last_3.csv\n",
      "Final Accuracy: 42.86%\n",
      "preprocessed_no_sent_last_5.csv\n",
      "Final Accuracy: 57.14%\n",
      "preprocessed_no_sent_last_7.csv\n",
      "Final Accuracy: 47.62%\n",
      "preprocessed_sent_24_last_1.csv\n",
      "Final Accuracy: 47.62%\n",
      "preprocessed_sent_24_last_10.csv\n",
      "Final Accuracy: 52.38%\n",
      "preprocessed_sent_24_last_3.csv\n",
      "Final Accuracy: 42.86%\n",
      "preprocessed_sent_24_last_5.csv\n",
      "Final Accuracy: 57.14%\n",
      "preprocessed_sent_24_last_7.csv\n",
      "Final Accuracy: 47.62%\n",
      "preprocessed_sent_96_last_1.csv\n",
      "Final Accuracy: 52.38%\n",
      "preprocessed_sent_96_last_10.csv\n",
      "Final Accuracy: 42.86%\n",
      "preprocessed_sent_96_last_3.csv\n",
      "Final Accuracy: 42.86%\n",
      "preprocessed_sent_96_last_5.csv\n",
      "Final Accuracy: 57.14%\n",
      "preprocessed_sent_96_last_7.csv\n",
      "Final Accuracy: 47.62%\n",
      "preprocessed_sent_cross_last_1.csv\n",
      "Final Accuracy: 42.86%\n",
      "preprocessed_sent_cross_last_10.csv\n",
      "Final Accuracy: 42.86%\n",
      "preprocessed_sent_cross_last_3.csv\n",
      "Final Accuracy: 47.62%\n",
      "preprocessed_sent_cross_last_5.csv\n",
      "Final Accuracy: 57.14%\n",
      "preprocessed_sent_cross_last_7.csv\n",
      "Final Accuracy: 47.62%\n"
     ]
    }
   ],
   "source": [
    "\n",
    "# X_train, X_test, y_train, y_test = train_test_split(x, y, test_size=0.2, random_state=0)\n",
    "\n",
    "def all_datasets(files):\n",
    "    results = [ ]\n",
    "    smoothings = np.logspace(0,-9, num=100)\n",
    "\n",
    "    for file in files:\n",
    "        print(file)\n",
    "        x, y = get_data(file)\n",
    "        X_train, X_test, y_train, y_test = train_test_split(x, y, test_size=0.2, random_state=0)\n",
    "        # print (np.shape(X_train), np.shape(X_test))\n",
    "        all_scores, max_score = grid_search(X_train, y_train, smoothings)\n",
    "        # print(max_score)\n",
    "        test_score = test_model(max_score, X_train, y_train, X_test, y_test)\n",
    "        results.append([file, test_score, max_score])\n",
    "    return results\n",
    "\n",
    "results = all_datasets(files)\n"
   ]
  },
  {
   "cell_type": "code",
   "execution_count": 97,
   "metadata": {},
   "outputs": [
    {
     "name": "stdout",
     "output_type": "stream",
     "text": [
      "preprocessed_no_sent_last_3.csv\n",
      "Final Accuracy: 57.14%\n",
      "preprocessed_no_sent_last_5.csv\n",
      "Final Accuracy: 42.86%\n",
      "preprocessed_no_sent_last_7.csv\n",
      "Final Accuracy: 47.62%\n",
      "preprocessed_sent_24_last_3.csv\n",
      "Final Accuracy: 47.62%\n",
      "preprocessed_sent_24_last_5.csv\n",
      "Final Accuracy: 52.38%\n",
      "preprocessed_sent_24_last_7.csv\n",
      "Final Accuracy: 42.86%\n",
      "preprocessed_sent_96_last_3.csv\n",
      "Final Accuracy: 47.62%\n",
      "preprocessed_sent_96_last_5.csv\n",
      "Final Accuracy: 52.38%\n",
      "preprocessed_sent_96_last_7.csv\n",
      "Final Accuracy: 42.86%\n",
      "preprocessed_sent_cross_last_3.csv\n",
      "Final Accuracy: 52.38%\n",
      "preprocessed_sent_cross_last_5.csv\n",
      "Final Accuracy: 47.62%\n",
      "preprocessed_sent_cross_last_7.csv\n",
      "Final Accuracy: 42.86%\n"
     ]
    }
   ],
   "source": [
    "def all_datasets_skip_last_1(files):\n",
    "    results = [ ]\n",
    "    smoothings = np.logspace(0,-9, num=100)\n",
    "    files = [f for f in files if 'last_1' not in f]\n",
    "    for file in files:\n",
    "        print(file)\n",
    "        x, y = get_data_skip_last_1(file)\n",
    "\n",
    "        X_train, X_test, y_train, y_test = train_test_split(x, y, test_size=0.2, random_state=0)\n",
    "\n",
    "        all_scores, max_score = grid_search(X_train, y_train, smoothings)\n",
    "        test_score = test_model(max_score, X_train, y_train, X_test, y_test)\n",
    "        results.append([file, test_score, max_score])\n",
    "    return results\n",
    "\n",
    "results2= all_datasets_skip_last_1(files)"
   ]
  },
  {
   "cell_type": "code",
   "execution_count": 85,
   "metadata": {},
   "outputs": [],
   "source": [
    "def get_top_score(results):\n",
    "    top_score = 0\n",
    "    top_index = 0\n",
    "    for i, result in enumerate(results):\n",
    "        # print(f'Test Accuracy: {result[1]}')\n",
    "        if result[1] >= top_score:\n",
    "            top_score = result[1]\n",
    "            top_index = i\n",
    "            print(i, top_score)\n",
    "\n",
    "    print('Top Score: ', top_score, '\\t Top Data: ', results[top_index][0])\n",
    "    return results[top_index]"
   ]
  },
  {
   "cell_type": "code",
   "execution_count": 98,
   "metadata": {},
   "outputs": [
    {
     "name": "stdout",
     "output_type": "stream",
     "text": [
      "0 0.42857142857142855\n",
      "1 0.42857142857142855\n",
      "2 0.42857142857142855\n",
      "3 0.5714285714285714\n",
      "8 0.5714285714285714\n",
      "13 0.5714285714285714\n",
      "18 0.5714285714285714\n",
      "Top Score:  0.5714285714285714 \t Top Data:  preprocessed_sent_cross_last_5.csv\n"
     ]
    }
   ],
   "source": [
    "top1 = get_top_score(results)"
   ]
  },
  {
   "cell_type": "code",
   "execution_count": 99,
   "metadata": {},
   "outputs": [
    {
     "name": "stdout",
     "output_type": "stream",
     "text": [
      "0 0.5714285714285714\n",
      "Top Score:  0.5714285714285714 \t Top Data:  preprocessed_no_sent_last_3.csv\n"
     ]
    }
   ],
   "source": [
    "top2 = get_top_score(results2)"
   ]
  },
  {
   "cell_type": "code",
   "execution_count": 100,
   "metadata": {},
   "outputs": [
    {
     "name": "stdout",
     "output_type": "stream",
     "text": [
      "preprocessed_no_sent_last_5.csv\n",
      "preprocessed_sent_24_last_5.csv\n",
      "preprocessed_sent_96_last_5.csv\n",
      "preprocessed_sent_cross_last_5.csv\n",
      "preprocessed_no_sent_last_3.csv\n"
     ]
    }
   ],
   "source": [
    "print(results[3][0])\n",
    "print(results[8][0])\n",
    "print(results[13][0])\n",
    "print(results[18][0])\n",
    "\n",
    "print(results2[0][0])"
   ]
  },
  {
   "attachments": {},
   "cell_type": "markdown",
   "metadata": {},
   "source": [
    "### 5 Top models Achieving 57% accuracy on test holdout set\n",
    "1. 96 Hour Sentiment model + last 1 + last 5\n",
    "2. 96 Hour Sentiment model + last 3\n",
    "3. 24 Hour Sentiment model + last 3\n"
   ]
  }
 ],
 "metadata": {
  "kernelspec": {
   "display_name": "Python 3",
   "language": "python",
   "name": "python3"
  },
  "language_info": {
   "codemirror_mode": {
    "name": "ipython",
    "version": 3
   },
   "file_extension": ".py",
   "mimetype": "text/x-python",
   "name": "python",
   "nbconvert_exporter": "python",
   "pygments_lexer": "ipython3",
   "version": "3.10.2"
  },
  "orig_nbformat": 4,
  "vscode": {
   "interpreter": {
    "hash": "2fc6efb3340bf4aae142c4471c3414bb5b17e6e80ba42a259676c40f0503db89"
   }
  }
 },
 "nbformat": 4,
 "nbformat_minor": 2
}
