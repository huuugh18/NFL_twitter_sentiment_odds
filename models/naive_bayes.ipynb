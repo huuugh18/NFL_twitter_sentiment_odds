{
 "cells": [
  {
   "cell_type": "code",
   "execution_count": 2,
   "metadata": {},
   "outputs": [],
   "source": [
    "import os\n",
    "import pandas as  pd\n",
    "import numpy as np\n",
    "import matplotlib.pyplot as plt\n",
    "from sklearn.preprocessing import StandardScaler\n",
    "from sklearn.model_selection import train_test_split\n",
    "from sklearn.naive_bayes import GaussianNB\n",
    "from sklearn.model_selection import KFold\n",
    "from sklearn.model_selection import RepeatedKFold\n",
    "from sklearn.model_selection import cross_val_score\n"
   ]
  },
  {
   "attachments": {},
   "cell_type": "markdown",
   "metadata": {},
   "source": [
    "### File Retrieval and Preprocessing"
   ]
  },
  {
   "cell_type": "code",
   "execution_count": 3,
   "metadata": {},
   "outputs": [
    {
     "data": {
      "text/plain": [
       "['preprocessed_no_sent_last_1.csv', 'preprocessed_no_sent_last_3.csv']"
      ]
     },
     "execution_count": 3,
     "metadata": {},
     "output_type": "execute_result"
    }
   ],
   "source": [
    "files = os.listdir('../final_stats/preprocessed_3/')\n",
    "files[:2]"
   ]
  },
  {
   "cell_type": "code",
   "execution_count": 5,
   "metadata": {},
   "outputs": [],
   "source": [
    "\n",
    "\n",
    "def split_target(df, target_col='away_winner_wts'):\n",
    "    df = df.copy()\n",
    "    target = df.pop(target_col)\n",
    "    return df, target\n",
    "\n",
    "def normalize_df(df):\n",
    "    scaler = StandardScaler()\n",
    "    data, target = split_target(df)\n",
    "    data = pd.DataFrame(scaler.fit_transform(data), columns=data.columns)\n",
    "    return data, target\n",
    "\n",
    "def get_data(file):\n",
    "    df = pd.read_csv(f'../final_stats/preprocessed_3/{file}', index_col=[0])\n",
    "    data, target = normalize_df(df)\n",
    "    return data, target\n",
    "\n",
    "def remove_last_1(df):\n",
    "    df = df.copy()\n",
    "    df.drop(df.iloc[:, 1:52], inplace=True, axis=1)\n",
    "    df.drop(df.iloc[:, 53:103], inplace=True, axis=1)\n",
    "    return df\n",
    "\n",
    "def get_data_skip_last_1(file):\n",
    "    df = pd.read_csv(f'../final_stats/preprocessed/{file}', index_col=[0])\n",
    "    # df = remove_last_1(df)\n",
    "    data, target = normalize_df(df)\n",
    "    return data, target\n"
   ]
  },
  {
   "cell_type": "code",
   "execution_count": 6,
   "metadata": {},
   "outputs": [
    {
     "name": "stdout",
     "output_type": "stream",
     "text": [
      "preprocessed_no_sent_last_3.csv\n"
     ]
    },
    {
     "data": {
      "text/html": [
       "<div>\n",
       "<style scoped>\n",
       "    .dataframe tbody tr th:only-of-type {\n",
       "        vertical-align: middle;\n",
       "    }\n",
       "\n",
       "    .dataframe tbody tr th {\n",
       "        vertical-align: top;\n",
       "    }\n",
       "\n",
       "    .dataframe thead th {\n",
       "        text-align: right;\n",
       "    }\n",
       "</style>\n",
       "<table border=\"1\" class=\"dataframe\">\n",
       "  <thead>\n",
       "    <tr style=\"text-align: right;\">\n",
       "      <th></th>\n",
       "      <th>home_score_team</th>\n",
       "      <th>home_score_opp</th>\n",
       "      <th>home_pass_cmp_off</th>\n",
       "      <th>home_pass_att_off</th>\n",
       "      <th>home_pass_yds_off</th>\n",
       "      <th>home_pass_tds_off</th>\n",
       "      <th>home_sacks_off</th>\n",
       "      <th>home_sacks_yds_off</th>\n",
       "      <th>home_pass_qb_rate</th>\n",
       "      <th>home_rush_att_off</th>\n",
       "      <th>...</th>\n",
       "      <th>away_ravens</th>\n",
       "      <th>away_saints</th>\n",
       "      <th>away_seahawks</th>\n",
       "      <th>away_steelers</th>\n",
       "      <th>away_texans</th>\n",
       "      <th>away_titans</th>\n",
       "      <th>away_vikings</th>\n",
       "      <th>day_Sat</th>\n",
       "      <th>day_Sun</th>\n",
       "      <th>day_Thu</th>\n",
       "    </tr>\n",
       "  </thead>\n",
       "  <tbody>\n",
       "    <tr>\n",
       "      <th>0</th>\n",
       "      <td>-0.330684</td>\n",
       "      <td>-1.022436</td>\n",
       "      <td>-1.185954</td>\n",
       "      <td>-0.990053</td>\n",
       "      <td>-0.197476</td>\n",
       "      <td>0.349873</td>\n",
       "      <td>0.015198</td>\n",
       "      <td>0.208516</td>\n",
       "      <td>0.087025</td>\n",
       "      <td>-0.033972</td>\n",
       "      <td>...</td>\n",
       "      <td>-0.199007</td>\n",
       "      <td>-0.199007</td>\n",
       "      <td>-0.171499</td>\n",
       "      <td>-0.199007</td>\n",
       "      <td>-0.199007</td>\n",
       "      <td>-0.139347</td>\n",
       "      <td>-0.171499</td>\n",
       "      <td>-0.454859</td>\n",
       "      <td>0.603023</td>\n",
       "      <td>-0.223607</td>\n",
       "    </tr>\n",
       "    <tr>\n",
       "      <th>1</th>\n",
       "      <td>0.244527</td>\n",
       "      <td>0.938400</td>\n",
       "      <td>0.200903</td>\n",
       "      <td>0.001574</td>\n",
       "      <td>0.729646</td>\n",
       "      <td>0.349873</td>\n",
       "      <td>-0.303967</td>\n",
       "      <td>-0.043624</td>\n",
       "      <td>1.006098</td>\n",
       "      <td>0.639060</td>\n",
       "      <td>...</td>\n",
       "      <td>-0.199007</td>\n",
       "      <td>-0.199007</td>\n",
       "      <td>-0.171499</td>\n",
       "      <td>-0.199007</td>\n",
       "      <td>-0.199007</td>\n",
       "      <td>-0.139347</td>\n",
       "      <td>-0.171499</td>\n",
       "      <td>-0.454859</td>\n",
       "      <td>0.603023</td>\n",
       "      <td>-0.223607</td>\n",
       "    </tr>\n",
       "    <tr>\n",
       "      <th>2</th>\n",
       "      <td>1.970161</td>\n",
       "      <td>0.557127</td>\n",
       "      <td>0.857836</td>\n",
       "      <td>0.001574</td>\n",
       "      <td>1.969984</td>\n",
       "      <td>2.209956</td>\n",
       "      <td>-1.261462</td>\n",
       "      <td>-1.136230</td>\n",
       "      <td>3.156507</td>\n",
       "      <td>-0.168578</td>\n",
       "      <td>...</td>\n",
       "      <td>-0.199007</td>\n",
       "      <td>-0.199007</td>\n",
       "      <td>-0.171499</td>\n",
       "      <td>-0.199007</td>\n",
       "      <td>5.024938</td>\n",
       "      <td>-0.139347</td>\n",
       "      <td>-0.171499</td>\n",
       "      <td>-0.454859</td>\n",
       "      <td>0.603023</td>\n",
       "      <td>-0.223607</td>\n",
       "    </tr>\n",
       "    <tr>\n",
       "      <th>3</th>\n",
       "      <td>0.244527</td>\n",
       "      <td>-0.804566</td>\n",
       "      <td>-1.258947</td>\n",
       "      <td>-0.824782</td>\n",
       "      <td>-0.986782</td>\n",
       "      <td>-1.045190</td>\n",
       "      <td>-0.303967</td>\n",
       "      <td>0.418632</td>\n",
       "      <td>-1.113307</td>\n",
       "      <td>2.321639</td>\n",
       "      <td>...</td>\n",
       "      <td>-0.199007</td>\n",
       "      <td>-0.199007</td>\n",
       "      <td>-0.171499</td>\n",
       "      <td>-0.199007</td>\n",
       "      <td>-0.199007</td>\n",
       "      <td>-0.139347</td>\n",
       "      <td>-0.171499</td>\n",
       "      <td>-0.454859</td>\n",
       "      <td>0.603023</td>\n",
       "      <td>-0.223607</td>\n",
       "    </tr>\n",
       "    <tr>\n",
       "      <th>4</th>\n",
       "      <td>-0.958188</td>\n",
       "      <td>0.230321</td>\n",
       "      <td>-1.185954</td>\n",
       "      <td>-1.100234</td>\n",
       "      <td>-1.368906</td>\n",
       "      <td>-1.045190</td>\n",
       "      <td>-0.623132</td>\n",
       "      <td>-0.505880</td>\n",
       "      <td>-1.472078</td>\n",
       "      <td>-0.168578</td>\n",
       "      <td>...</td>\n",
       "      <td>-0.199007</td>\n",
       "      <td>-0.199007</td>\n",
       "      <td>-0.171499</td>\n",
       "      <td>-0.199007</td>\n",
       "      <td>-0.199007</td>\n",
       "      <td>-0.139347</td>\n",
       "      <td>-0.171499</td>\n",
       "      <td>-0.454859</td>\n",
       "      <td>0.603023</td>\n",
       "      <td>-0.223607</td>\n",
       "    </tr>\n",
       "  </tbody>\n",
       "</table>\n",
       "<p>5 rows × 142 columns</p>\n",
       "</div>"
      ],
      "text/plain": [
       "   home_score_team  home_score_opp  home_pass_cmp_off  home_pass_att_off  \\\n",
       "0        -0.330684       -1.022436          -1.185954          -0.990053   \n",
       "1         0.244527        0.938400           0.200903           0.001574   \n",
       "2         1.970161        0.557127           0.857836           0.001574   \n",
       "3         0.244527       -0.804566          -1.258947          -0.824782   \n",
       "4        -0.958188        0.230321          -1.185954          -1.100234   \n",
       "\n",
       "   home_pass_yds_off  home_pass_tds_off  home_sacks_off  home_sacks_yds_off  \\\n",
       "0          -0.197476           0.349873        0.015198            0.208516   \n",
       "1           0.729646           0.349873       -0.303967           -0.043624   \n",
       "2           1.969984           2.209956       -1.261462           -1.136230   \n",
       "3          -0.986782          -1.045190       -0.303967            0.418632   \n",
       "4          -1.368906          -1.045190       -0.623132           -0.505880   \n",
       "\n",
       "   home_pass_qb_rate  home_rush_att_off  ...  away_ravens  away_saints  \\\n",
       "0           0.087025          -0.033972  ...    -0.199007    -0.199007   \n",
       "1           1.006098           0.639060  ...    -0.199007    -0.199007   \n",
       "2           3.156507          -0.168578  ...    -0.199007    -0.199007   \n",
       "3          -1.113307           2.321639  ...    -0.199007    -0.199007   \n",
       "4          -1.472078          -0.168578  ...    -0.199007    -0.199007   \n",
       "\n",
       "   away_seahawks  away_steelers  away_texans  away_titans  away_vikings  \\\n",
       "0      -0.171499      -0.199007    -0.199007    -0.139347     -0.171499   \n",
       "1      -0.171499      -0.199007    -0.199007    -0.139347     -0.171499   \n",
       "2      -0.171499      -0.199007     5.024938    -0.139347     -0.171499   \n",
       "3      -0.171499      -0.199007    -0.199007    -0.139347     -0.171499   \n",
       "4      -0.171499      -0.199007    -0.199007    -0.139347     -0.171499   \n",
       "\n",
       "    day_Sat   day_Sun   day_Thu  \n",
       "0 -0.454859  0.603023 -0.223607  \n",
       "1 -0.454859  0.603023 -0.223607  \n",
       "2 -0.454859  0.603023 -0.223607  \n",
       "3 -0.454859  0.603023 -0.223607  \n",
       "4 -0.454859  0.603023 -0.223607  \n",
       "\n",
       "[5 rows x 142 columns]"
      ]
     },
     "execution_count": 6,
     "metadata": {},
     "output_type": "execute_result"
    }
   ],
   "source": [
    "print(files[1])\n",
    "df = pd.read_csv(f'../final_stats/preprocessed_3/{files[2]}', index_col=[0])\n",
    "# df.head()\n",
    "x, y = get_data(files[1])\n",
    "x.head()"
   ]
  },
  {
   "attachments": {},
   "cell_type": "markdown",
   "metadata": {},
   "source": [
    "### Chart Code"
   ]
  },
  {
   "cell_type": "code",
   "execution_count": 18,
   "metadata": {},
   "outputs": [],
   "source": [
    "def get_average_acc_history(acc_histories):\n",
    "    num_epochs = len(acc_histories[0])\n",
    "    return [np.mean([x[i] for x in acc_histories]) for i in range(num_epochs)]\n",
    "\n",
    "def get_average_loss_history(loss_histories):\n",
    "    num_epochs = len(loss_histories[0])\n",
    "    return [np.mean([x[i] for x in loss_histories]) for i in range(num_epochs)]\n",
    "        \n",
    "def plot_ave_acc_and_loss_histories(acc_histories, loss_histories):\n",
    "    average_acc_history = get_average_acc_history(acc_histories)\n",
    "    average_loss_history = get_average_loss_history(loss_histories)\n",
    "\n",
    "    plt.figure(figsize=(15,5))\n",
    "    \n",
    "    plt.subplot(1, 2, 1)\n",
    "    plt.plot(range(1, len(average_acc_history) + 1), average_acc_history)\n",
    "    plt.xlabel(\"Epochs\")\n",
    "    plt.ylabel(\"Validation Accuracy\")\n",
    "\n",
    "    plt.subplot(1, 2, 2)\n",
    "\n",
    "    plt.plot(range(1, len(average_loss_history) + 1), average_loss_history)\n",
    "    plt.xlabel(\"Epochs\")\n",
    "    plt.ylabel(\"Validation Loss\")\n",
    "    plt.show()\n",
    "\n",
    "def compare_ave_loss_acc_histories(acc_hist_1, acc_hist_2, loss_hist_1, loss_hist_2):\n",
    "    min_epochs = min(len(acc_hist_1[0]), len(acc_hist_2[0]))\n",
    "    \n",
    "    ave_acc_hist_1 = get_average_acc_history(acc_hist_1)\n",
    "    ave_loss_hist_1 = get_average_loss_history(loss_hist_1)\n",
    "    \n",
    "    ave_acc_hist_2 = get_average_acc_history(acc_hist_2)\n",
    "    ave_loss_hist_2 = get_average_loss_history(loss_hist_2)\n",
    "\n",
    "\n",
    "    blue_dots = 'bo'\n",
    "    solid_blue_line = 'b'\n",
    "    red_dots = 'ro'\n",
    "    solid_red_line = 'r'\n",
    "\n",
    "    epochs = range(1, min_epochs + 1)\n",
    "    plt.figure(figsize=(15,5))\n",
    "    \n",
    "    plt.subplot(1, 2, 1)\n",
    "    plt.plot(epochs, ave_acc_hist_1, solid_blue_line, label='Model 1')\n",
    "    plt.plot(epochs, ave_acc_hist_2, solid_red_line, label='Model 2')\n",
    "    plt.xlabel(\"Epochs\")\n",
    "    plt.ylabel(\"Validation Accuracy\")\n",
    "    plt.legend()\n",
    "\n",
    "    plt.subplot(1, 2, 2)\n",
    "\n",
    "    plt.plot(epochs, ave_loss_hist_1, solid_blue_line, label='Model 1')\n",
    "    plt.plot(epochs, ave_loss_hist_2, solid_red_line, label='Model 2')\n",
    "    plt.xlabel(\"Epochs\")\n",
    "    plt.ylabel(\"Validation Loss\")\n",
    "    plt.legend()\n",
    "    \n",
    "    plt.show()\n",
    "    "
   ]
  },
  {
   "cell_type": "code",
   "execution_count": 19,
   "metadata": {},
   "outputs": [],
   "source": [
    "from sklearn.model_selection import KFold\n",
    "from sklearn.model_selection import cross_val_score\n",
    "from sklearn.model_selection import train_test_split\n",
    "from sklearn.model_selection import RepeatedKFold\n",
    "from sklearn.naive_bayes import GaussianNB\n"
   ]
  },
  {
   "attachments": {},
   "cell_type": "markdown",
   "metadata": {},
   "source": [
    "### Repeated K-Fold Cross Validation\n",
    "Limited in dataset so want to run a few times\n",
    "Grid search of the learning rate and the n-estimators perameter\n",
    "Hold out test set of 0.2 "
   ]
  },
  {
   "cell_type": "code",
   "execution_count": 7,
   "metadata": {},
   "outputs": [],
   "source": [
    "# create NB model with smoothing hyperparam\n",
    "def get_nb_model(smoothing=1e-9):\n",
    "    clf = GaussianNB(var_smoothing=smoothing)\n",
    "    return clf\n",
    "\n",
    "# grid search\n",
    "def grid_search(X_train, y_train, smoothings, file):\n",
    "\n",
    "    max_score = {\n",
    "        'scores_mean': 0\n",
    "    }\n",
    "\n",
    "    all_scores = []\n",
    "    \n",
    "    for n in smoothings:\n",
    "        # get classifier\n",
    "        clf = get_nb_model(n)\n",
    "\n",
    "        # k-fold cross validation\n",
    "        cv = RepeatedKFold(n_splits=10, n_repeats=10, random_state=99)\n",
    "\n",
    "        # run k-fold \n",
    "        scores = cross_val_score(\n",
    "            clf, \n",
    "            X_train, \n",
    "            y_train, \n",
    "            scoring='accuracy', \n",
    "            cv=cv, \n",
    "            n_jobs=-1\n",
    "        )\n",
    "        # add scores to scores dictionary\n",
    "        scores_dict = {\n",
    "            'file': file,\n",
    "            'scores_mean': scores.mean(),\n",
    "            'scores_std': scores.std(),\n",
    "            'smoothing': n,\n",
    "            'scores': scores,\n",
    "        }\n",
    "        all_scores.append(scores_dict)\n",
    "        # if new max score, add to max_score dict\n",
    "        if scores.mean() > max_score['scores_mean']:\n",
    "            max_score = scores_dict\n",
    "    return all_scores, max_score\n"
   ]
  },
  {
   "cell_type": "code",
   "execution_count": 8,
   "metadata": {},
   "outputs": [],
   "source": [
    "def get_best_params(all_scores):\n",
    "    ms = max(all_scores, key=lambda x:x['scores_mean'])\n",
    "    print(f\"Accuracy: {round(ms['scores_mean']*100,2)}%\")\n",
    "    print(f\"Best Paramaters: \\n var_smoothing: {ms['smoothing']}\")\n",
    "\n"
   ]
  },
  {
   "cell_type": "code",
   "execution_count": 36,
   "metadata": {},
   "outputs": [
    {
     "name": "stdout",
     "output_type": "stream",
     "text": [
      "Accuracy: 55.52%\n",
      "Best Paramaters: \n",
      " var_smoothing: 5.336699231206302e-08\n"
     ]
    }
   ],
   "source": [
    "get_best_params(all_scores_1)"
   ]
  },
  {
   "attachments": {},
   "cell_type": "markdown",
   "metadata": {},
   "source": [
    "## figure out best model without any sentiment\n",
    "then use that for rest of model\n",
    "train on all data, no holdout test set, not enough data"
   ]
  },
  {
   "attachments": {},
   "cell_type": "markdown",
   "metadata": {},
   "source": [
    "## no sentiment files"
   ]
  },
  {
   "cell_type": "code",
   "execution_count": 10,
   "metadata": {},
   "outputs": [
    {
     "data": {
      "text/plain": [
       "['preprocessed_no_sent_last_1.csv',\n",
       " 'preprocessed_no_sent_last_3.csv',\n",
       " 'preprocessed_no_sent_last_3_wt.csv',\n",
       " 'preprocessed_no_sent_last_7.csv',\n",
       " 'preprocessed_no_sent_last_7_wt.csv',\n",
       " 'preprocessed_no_sent_last_ssn.csv',\n",
       " 'preprocessed_no_sent_last_ssn_wt.csv']"
      ]
     },
     "execution_count": 10,
     "metadata": {},
     "output_type": "execute_result"
    }
   ],
   "source": [
    "no_sent_files = files[:7]\n",
    "no_sent_files"
   ]
  },
  {
   "cell_type": "code",
   "execution_count": 14,
   "metadata": {},
   "outputs": [],
   "source": [
    "def all_datasets(files):\n",
    "    results = [ ]\n",
    "    smoothings = np.logspace(0,-9, num=100)\n",
    "\n",
    "    for file in files:\n",
    "        x, y = get_data(file)\n",
    "        all_scores, max_score = grid_search(x, y, smoothings, file)\n",
    "        # print(max_score)\n",
    "        # test_score = test_model(max_score, X_train, y_train, X_test, y_test)\n",
    "        results.append(max_score)\n",
    "    return results\n",
    "\n",
    "\n"
   ]
  },
  {
   "cell_type": "code",
   "execution_count": 15,
   "metadata": {},
   "outputs": [],
   "source": [
    "results = all_datasets(no_sent_files)"
   ]
  },
  {
   "cell_type": "code",
   "execution_count": 16,
   "metadata": {},
   "outputs": [
    {
     "data": {
      "text/html": [
       "<div>\n",
       "<style scoped>\n",
       "    .dataframe tbody tr th:only-of-type {\n",
       "        vertical-align: middle;\n",
       "    }\n",
       "\n",
       "    .dataframe tbody tr th {\n",
       "        vertical-align: top;\n",
       "    }\n",
       "\n",
       "    .dataframe thead th {\n",
       "        text-align: right;\n",
       "    }\n",
       "</style>\n",
       "<table border=\"1\" class=\"dataframe\">\n",
       "  <thead>\n",
       "    <tr style=\"text-align: right;\">\n",
       "      <th></th>\n",
       "      <th>scores_mean</th>\n",
       "      <th>scores_std</th>\n",
       "      <th>smoothing</th>\n",
       "      <th>scores</th>\n",
       "    </tr>\n",
       "    <tr>\n",
       "      <th>file</th>\n",
       "      <th></th>\n",
       "      <th></th>\n",
       "      <th></th>\n",
       "      <th></th>\n",
       "    </tr>\n",
       "  </thead>\n",
       "  <tbody>\n",
       "    <tr>\n",
       "      <th>preprocessed_no_sent_last_7.csv</th>\n",
       "      <td>0.554455</td>\n",
       "      <td>0.129873</td>\n",
       "      <td>5.336699e-01</td>\n",
       "      <td>[0.5454545454545454, 0.6363636363636364, 0.454...</td>\n",
       "    </tr>\n",
       "    <tr>\n",
       "      <th>preprocessed_no_sent_last_7_wt.csv</th>\n",
       "      <td>0.554455</td>\n",
       "      <td>0.129873</td>\n",
       "      <td>5.336699e-01</td>\n",
       "      <td>[0.5454545454545454, 0.6363636363636364, 0.454...</td>\n",
       "    </tr>\n",
       "    <tr>\n",
       "      <th>preprocessed_no_sent_last_1.csv</th>\n",
       "      <td>0.549455</td>\n",
       "      <td>0.145422</td>\n",
       "      <td>1.000000e-04</td>\n",
       "      <td>[0.5454545454545454, 0.6363636363636364, 0.454...</td>\n",
       "    </tr>\n",
       "    <tr>\n",
       "      <th>preprocessed_no_sent_last_ssn.csv</th>\n",
       "      <td>0.542000</td>\n",
       "      <td>0.134076</td>\n",
       "      <td>1.873817e-02</td>\n",
       "      <td>[0.45454545454545453, 0.6363636363636364, 0.36...</td>\n",
       "    </tr>\n",
       "    <tr>\n",
       "      <th>preprocessed_no_sent_last_ssn_wt.csv</th>\n",
       "      <td>0.542000</td>\n",
       "      <td>0.134076</td>\n",
       "      <td>1.873817e-02</td>\n",
       "      <td>[0.45454545454545453, 0.6363636363636364, 0.36...</td>\n",
       "    </tr>\n",
       "    <tr>\n",
       "      <th>preprocessed_no_sent_last_3.csv</th>\n",
       "      <td>0.539000</td>\n",
       "      <td>0.147790</td>\n",
       "      <td>1.232847e-09</td>\n",
       "      <td>[0.5454545454545454, 0.6363636363636364, 0.545...</td>\n",
       "    </tr>\n",
       "    <tr>\n",
       "      <th>preprocessed_no_sent_last_3_wt.csv</th>\n",
       "      <td>0.539000</td>\n",
       "      <td>0.147790</td>\n",
       "      <td>1.232847e-09</td>\n",
       "      <td>[0.5454545454545454, 0.6363636363636364, 0.545...</td>\n",
       "    </tr>\n",
       "  </tbody>\n",
       "</table>\n",
       "</div>"
      ],
      "text/plain": [
       "                                      scores_mean  scores_std     smoothing  \\\n",
       "file                                                                          \n",
       "preprocessed_no_sent_last_7.csv          0.554455    0.129873  5.336699e-01   \n",
       "preprocessed_no_sent_last_7_wt.csv       0.554455    0.129873  5.336699e-01   \n",
       "preprocessed_no_sent_last_1.csv          0.549455    0.145422  1.000000e-04   \n",
       "preprocessed_no_sent_last_ssn.csv        0.542000    0.134076  1.873817e-02   \n",
       "preprocessed_no_sent_last_ssn_wt.csv     0.542000    0.134076  1.873817e-02   \n",
       "preprocessed_no_sent_last_3.csv          0.539000    0.147790  1.232847e-09   \n",
       "preprocessed_no_sent_last_3_wt.csv       0.539000    0.147790  1.232847e-09   \n",
       "\n",
       "                                                                                 scores  \n",
       "file                                                                                     \n",
       "preprocessed_no_sent_last_7.csv       [0.5454545454545454, 0.6363636363636364, 0.454...  \n",
       "preprocessed_no_sent_last_7_wt.csv    [0.5454545454545454, 0.6363636363636364, 0.454...  \n",
       "preprocessed_no_sent_last_1.csv       [0.5454545454545454, 0.6363636363636364, 0.454...  \n",
       "preprocessed_no_sent_last_ssn.csv     [0.45454545454545453, 0.6363636363636364, 0.36...  \n",
       "preprocessed_no_sent_last_ssn_wt.csv  [0.45454545454545453, 0.6363636363636364, 0.36...  \n",
       "preprocessed_no_sent_last_3.csv       [0.5454545454545454, 0.6363636363636364, 0.545...  \n",
       "preprocessed_no_sent_last_3_wt.csv    [0.5454545454545454, 0.6363636363636364, 0.545...  "
      ]
     },
     "execution_count": 16,
     "metadata": {},
     "output_type": "execute_result"
    }
   ],
   "source": [
    "df_results = pd.DataFrame.from_records(results, index='file').sort_values('scores_mean', ascending=False)\n",
    "df_results"
   ]
  },
  {
   "attachments": {},
   "cell_type": "markdown",
   "metadata": {},
   "source": [
    "Best accuracy comes from datasets with last 7 games.  \n",
    "Both weighted and not weighted had the same accuracy of 57.36%."
   ]
  },
  {
   "attachments": {},
   "cell_type": "markdown",
   "metadata": {},
   "source": [
    "Try and create a dataframe with just the scores so that can plot boxplots  \n",
    "Column labels should be file, with values being all the scores."
   ]
  },
  {
   "attachments": {},
   "cell_type": "markdown",
   "metadata": {},
   "source": [
    "Take the scores values and expand them then transpose to get datasets as columns"
   ]
  },
  {
   "cell_type": "code",
   "execution_count": 25,
   "metadata": {},
   "outputs": [
    {
     "data": {
      "image/png": "[encoded data removed]",
      "text/plain": [
       "<Figure size 864x576 with 1 Axes>"
      ]
     },
     "metadata": {
      "needs_background": "light"
     },
     "output_type": "display_data"
    }
   ],
   "source": [
    "column_dict_no_sent = {\n",
    "    'preprocessed_no_sent_last_7.csv': '7 Games',\n",
    "    'preprocessed_no_sent_last_7_wt.csv': '7 Games Wtd',\n",
    "    'preprocessed_no_sent_last_1.csv': '1 Game',\n",
    "    'preprocessed_no_sent_last_3.csv': '3 Games',\n",
    "    'preprocessed_no_sent_last_3_wt.csv': '3 Games Wtd',\n",
    "    'preprocessed_no_sent_last_ssn.csv': 'Season',\n",
    "    'preprocessed_no_sent_last_ssn_wt.csv': 'Season Weighted',\n",
    "}\n",
    "def get_box_plot(df, col_labels):\n",
    "    scores = df['scores'].apply(pd.Series).transpose()\n",
    "    # print(scores.columns)\n",
    "    scores = scores.rename(columns=col_labels)\n",
    "    scores.boxplot(rot=90, figsize=(12,8), grid=False, fontsize=15)\n",
    "\n",
    "get_box_plot(df_results, column_dict_no_sent)"
   ]
  },
  {
   "attachments": {},
   "cell_type": "markdown",
   "metadata": {},
   "source": [
    "7 Games, 7 Games Weigthed and 1 Game best accuracies. \n",
    "Use 7 games then as most accurate and easier to calculate for future studies. "
   ]
  },
  {
   "cell_type": "code",
   "execution_count": 19,
   "metadata": {},
   "outputs": [
    {
     "data": {
      "text/plain": [
       "['preprocessed_no_sent_last_7.csv',\n",
       " 'preprocessed_no_sent_last_7_wt.csv',\n",
       " 'preprocessed_sent_24_last_7.csv',\n",
       " 'preprocessed_sent_24_last_7_wt.csv',\n",
       " 'preprocessed_sent_96_last_7.csv',\n",
       " 'preprocessed_sent_96_last_7_wt.csv',\n",
       " 'preprocessed_sent_cross_last_7.csv',\n",
       " 'preprocessed_sent_cross_last_7_wt.csv']"
      ]
     },
     "execution_count": 19,
     "metadata": {},
     "output_type": "execute_result"
    }
   ],
   "source": [
    "files_7_games = [f for f in files if 'last_7' in f]\n",
    "files_test = files_7_games\n",
    "files_test"
   ]
  },
  {
   "cell_type": "code",
   "execution_count": 20,
   "metadata": {},
   "outputs": [],
   "source": [
    "results_test = all_datasets(files_test)\n"
   ]
  },
  {
   "cell_type": "code",
   "execution_count": 21,
   "metadata": {},
   "outputs": [
    {
     "data": {
      "text/html": [
       "<div>\n",
       "<style scoped>\n",
       "    .dataframe tbody tr th:only-of-type {\n",
       "        vertical-align: middle;\n",
       "    }\n",
       "\n",
       "    .dataframe tbody tr th {\n",
       "        vertical-align: top;\n",
       "    }\n",
       "\n",
       "    .dataframe thead th {\n",
       "        text-align: right;\n",
       "    }\n",
       "</style>\n",
       "<table border=\"1\" class=\"dataframe\">\n",
       "  <thead>\n",
       "    <tr style=\"text-align: right;\">\n",
       "      <th></th>\n",
       "      <th>scores_mean</th>\n",
       "      <th>scores_std</th>\n",
       "      <th>smoothing</th>\n",
       "      <th>scores</th>\n",
       "    </tr>\n",
       "    <tr>\n",
       "      <th>file</th>\n",
       "      <th></th>\n",
       "      <th></th>\n",
       "      <th></th>\n",
       "      <th></th>\n",
       "    </tr>\n",
       "  </thead>\n",
       "  <tbody>\n",
       "    <tr>\n",
       "      <th>preprocessed_sent_24_last_7.csv</th>\n",
       "      <td>0.565909</td>\n",
       "      <td>0.132835</td>\n",
       "      <td>0.351119</td>\n",
       "      <td>[0.5454545454545454, 0.6363636363636364, 0.454...</td>\n",
       "    </tr>\n",
       "    <tr>\n",
       "      <th>preprocessed_sent_24_last_7_wt.csv</th>\n",
       "      <td>0.565909</td>\n",
       "      <td>0.132835</td>\n",
       "      <td>0.351119</td>\n",
       "      <td>[0.5454545454545454, 0.6363636363636364, 0.454...</td>\n",
       "    </tr>\n",
       "    <tr>\n",
       "      <th>preprocessed_sent_96_last_7.csv</th>\n",
       "      <td>0.555636</td>\n",
       "      <td>0.129890</td>\n",
       "      <td>0.432876</td>\n",
       "      <td>[0.5454545454545454, 0.5454545454545454, 0.454...</td>\n",
       "    </tr>\n",
       "    <tr>\n",
       "      <th>preprocessed_sent_96_last_7_wt.csv</th>\n",
       "      <td>0.555636</td>\n",
       "      <td>0.129890</td>\n",
       "      <td>0.432876</td>\n",
       "      <td>[0.5454545454545454, 0.5454545454545454, 0.454...</td>\n",
       "    </tr>\n",
       "    <tr>\n",
       "      <th>preprocessed_no_sent_last_7.csv</th>\n",
       "      <td>0.554455</td>\n",
       "      <td>0.129873</td>\n",
       "      <td>0.533670</td>\n",
       "      <td>[0.5454545454545454, 0.6363636363636364, 0.454...</td>\n",
       "    </tr>\n",
       "    <tr>\n",
       "      <th>preprocessed_no_sent_last_7_wt.csv</th>\n",
       "      <td>0.554455</td>\n",
       "      <td>0.129873</td>\n",
       "      <td>0.533670</td>\n",
       "      <td>[0.5454545454545454, 0.6363636363636364, 0.454...</td>\n",
       "    </tr>\n",
       "    <tr>\n",
       "      <th>preprocessed_sent_cross_last_7.csv</th>\n",
       "      <td>0.551545</td>\n",
       "      <td>0.128745</td>\n",
       "      <td>0.432876</td>\n",
       "      <td>[0.45454545454545453, 0.6363636363636364, 0.45...</td>\n",
       "    </tr>\n",
       "    <tr>\n",
       "      <th>preprocessed_sent_cross_last_7_wt.csv</th>\n",
       "      <td>0.551545</td>\n",
       "      <td>0.128745</td>\n",
       "      <td>0.432876</td>\n",
       "      <td>[0.45454545454545453, 0.6363636363636364, 0.45...</td>\n",
       "    </tr>\n",
       "  </tbody>\n",
       "</table>\n",
       "</div>"
      ],
      "text/plain": [
       "                                       scores_mean  scores_std  smoothing  \\\n",
       "file                                                                        \n",
       "preprocessed_sent_24_last_7.csv           0.565909    0.132835   0.351119   \n",
       "preprocessed_sent_24_last_7_wt.csv        0.565909    0.132835   0.351119   \n",
       "preprocessed_sent_96_last_7.csv           0.555636    0.129890   0.432876   \n",
       "preprocessed_sent_96_last_7_wt.csv        0.555636    0.129890   0.432876   \n",
       "preprocessed_no_sent_last_7.csv           0.554455    0.129873   0.533670   \n",
       "preprocessed_no_sent_last_7_wt.csv        0.554455    0.129873   0.533670   \n",
       "preprocessed_sent_cross_last_7.csv        0.551545    0.128745   0.432876   \n",
       "preprocessed_sent_cross_last_7_wt.csv     0.551545    0.128745   0.432876   \n",
       "\n",
       "                                                                                  scores  \n",
       "file                                                                                      \n",
       "preprocessed_sent_24_last_7.csv        [0.5454545454545454, 0.6363636363636364, 0.454...  \n",
       "preprocessed_sent_24_last_7_wt.csv     [0.5454545454545454, 0.6363636363636364, 0.454...  \n",
       "preprocessed_sent_96_last_7.csv        [0.5454545454545454, 0.5454545454545454, 0.454...  \n",
       "preprocessed_sent_96_last_7_wt.csv     [0.5454545454545454, 0.5454545454545454, 0.454...  \n",
       "preprocessed_no_sent_last_7.csv        [0.5454545454545454, 0.6363636363636364, 0.454...  \n",
       "preprocessed_no_sent_last_7_wt.csv     [0.5454545454545454, 0.6363636363636364, 0.454...  \n",
       "preprocessed_sent_cross_last_7.csv     [0.45454545454545453, 0.6363636363636364, 0.45...  \n",
       "preprocessed_sent_cross_last_7_wt.csv  [0.45454545454545453, 0.6363636363636364, 0.45...  "
      ]
     },
     "execution_count": 21,
     "metadata": {},
     "output_type": "execute_result"
    }
   ],
   "source": [
    "df_results_test = pd.DataFrame.from_records(results_test, index='file').sort_values('scores_mean', ascending=False)\n",
    "df_results_test"
   ]
  },
  {
   "cell_type": "code",
   "execution_count": 22,
   "metadata": {},
   "outputs": [],
   "source": [
    "# df_results.to_csv('../results/nb_no_sent.csv')\n",
    "# df_results_test.to_csv('../results/nb_sent.csv')"
   ]
  },
  {
   "cell_type": "code",
   "execution_count": 26,
   "metadata": {},
   "outputs": [
    {
     "data": {
      "image/png": "[encoded data removed]",
      "text/plain": [
       "<Figure size 864x576 with 1 Axes>"
      ]
     },
     "metadata": {
      "needs_background": "light"
     },
     "output_type": "display_data"
    }
   ],
   "source": [
    "column_dict_test = {\n",
    "    'preprocessed_no_sent_last_7.csv': '7 Games No Sent',\n",
    "    'preprocessed_no_sent_last_7_wt.csv': '7 Games Wtd No Sent',\n",
    "    'preprocessed_sent_24_last_7.csv': '7 Games 24h',\n",
    "    'preprocessed_sent_24_last_7_wt.csv': '7 Games Wtd 24h',\n",
    "    'preprocessed_sent_96_last_7.csv': '7 Games 96h',\n",
    "    'preprocessed_sent_96_last_7_wt.csv': '7 Games Wtd 96h',\n",
    "    'preprocessed_sent_cross_last_7.csv': '7 Games Cross',\n",
    "    'preprocessed_sent_cross_last_7_wt.csv': '7 Games Wtd Cross',\n",
    "}\n",
    "get_box_plot(df_results_test, column_dict_test)"
   ]
  },
  {
   "attachments": {},
   "cell_type": "markdown",
   "metadata": {},
   "source": [
    "### Top Models\n",
    "1. 7 games 24h + 7 games wtd 24hr (56.59%)\n",
    "3. 7 games 96h + 7 games wtd 96hr (55.56%)\n",
    "5. 7 games no sent + 7 games wtd no sent (55.45%)\n",
    "7. 7 games cross + 7 games wtd cross (55.15%)\n"
   ]
  }
 ],
 "metadata": {
  "kernelspec": {
   "display_name": "Python 3",
   "language": "python",
   "name": "python3"
  },
  "language_info": {
   "codemirror_mode": {
    "name": "ipython",
    "version": 3
   },
   "file_extension": ".py",
   "mimetype": "text/x-python",
   "name": "python",
   "nbconvert_exporter": "python",
   "pygments_lexer": "ipython3",
   "version": "3.10.2"
  },
  "orig_nbformat": 4,
  "vscode": {
   "interpreter": {
    "hash": "2fc6efb3340bf4aae142c4471c3414bb5b17e6e80ba42a259676c40f0503db89"
   }
  }
 },
 "nbformat": 4,
 "nbformat_minor": 2
}
