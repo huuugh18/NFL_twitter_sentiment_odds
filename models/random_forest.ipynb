{
 "cells": [
  {
   "cell_type": "code",
   "execution_count": 34,
   "metadata": {},
   "outputs": [],
   "source": [
    "import os\n",
    "import pandas as  pd\n",
    "import numpy as np\n",
    "import matplotlib.pyplot as plt\n",
    "from sklearn.preprocessing import StandardScaler\n",
    "from sklearn.model_selection import train_test_split\n",
    "from sklearn.model_selection import KFold\n",
    "from sklearn.model_selection import RepeatedKFold\n",
    "from sklearn.model_selection import cross_val_score\n",
    "from sklearn.model_selection import GridSearchCV\n",
    "from sklearn.ensemble import RandomForestClassifier"
   ]
  },
  {
   "cell_type": "code",
   "execution_count": 2,
   "metadata": {},
   "outputs": [
    {
     "data": {
      "text/plain": [
       "['preprocessed_no_sent_last_1.csv', 'preprocessed_no_sent_last_3.csv']"
      ]
     },
     "execution_count": 2,
     "metadata": {},
     "output_type": "execute_result"
    }
   ],
   "source": [
    "files = os.listdir('../final_stats/preprocessed_3/')\n",
    "files[:2]"
   ]
  },
  {
   "cell_type": "code",
   "execution_count": 3,
   "metadata": {},
   "outputs": [],
   "source": [
    "def split_target(df, target_col='away_winner_wts'):\n",
    "    df = df.copy()\n",
    "    target = df.pop(target_col)\n",
    "    return df, target\n",
    "\n",
    "def normalize_df(df):\n",
    "    scaler = StandardScaler()\n",
    "    data, target = split_target(df)\n",
    "    data = pd.DataFrame(scaler.fit_transform(data), columns=data.columns)\n",
    "    return data, target\n",
    "\n",
    "def get_data(file):\n",
    "    df = pd.read_csv(f'../final_stats/preprocessed_3/{file}', index_col=[0])\n",
    "    data, target = normalize_df(df)\n",
    "    return data, target\n"
   ]
  },
  {
   "cell_type": "code",
   "execution_count": 32,
   "metadata": {},
   "outputs": [],
   "source": [
    "from sklearn.model_selection import RandomizedSearchCV\n",
    "\n",
    "# Number of trees in random forest\n",
    "n_estimators = [int(x) for x in np.linspace(start = 10, stop = 200, num = 8)]\n",
    "# Number of features to consider at every split\n",
    "max_features = ['auto']\n",
    "# Maximum number of levels in tree\n",
    "max_depth = [int(x) for x in np.linspace(30, 100, num = 8)]\n",
    "# max_depth.append(None)\n",
    "# Minimum number of samples required to split a node\n",
    "min_samples_split = [4, 8, 10, 12, 15]\n",
    "# Minimum number of samples required at each leaf node\n",
    "min_samples_leaf = [4, 8, 10, 12, 15]\n",
    "# Method of selecting samples for training each tree\n",
    "bootstrap = [True]\n",
    "\n",
    "random_grid = {'n_estimators': n_estimators,\n",
    "               'max_features': max_features,\n",
    "               'max_depth': max_depth,\n",
    "               'min_samples_split': min_samples_split,\n",
    "               'min_samples_leaf': min_samples_leaf,\n",
    "               'bootstrap': bootstrap}"
   ]
  },
  {
   "cell_type": "code",
   "execution_count": 27,
   "metadata": {},
   "outputs": [
    {
     "name": "stdout",
     "output_type": "stream",
     "text": [
      "preprocessed_no_sent_last_7.csv\n"
     ]
    }
   ],
   "source": [
    "print(files[3])\n",
    "x,y = get_data(files[3])"
   ]
  },
  {
   "cell_type": "code",
   "execution_count": 28,
   "metadata": {},
   "outputs": [
    {
     "name": "stderr",
     "output_type": "stream",
     "text": [
      "c:\\Users\\hugho\\AppData\\Local\\Programs\\Python\\Python310\\lib\\site-packages\\sklearn\\model_selection\\_search.py:292: UserWarning: The total space of parameters 768 is smaller than n_iter=1000. Running 768 iterations. For exhaustive searches, use GridSearchCV.\n",
      "  warnings.warn(\n"
     ]
    },
    {
     "name": "stdout",
     "output_type": "stream",
     "text": [
      "Fitting 10 folds for each of 768 candidates, totalling 7680 fits\n"
     ]
    },
    {
     "data": {
      "text/plain": [
       "RandomizedSearchCV(cv=10, estimator=RandomForestClassifier(), n_iter=1000,\n",
       "                   n_jobs=-1,\n",
       "                   param_distributions={'bootstrap': [True],\n",
       "                                        'max_depth': [30, 40, 50, 60, 70, 80],\n",
       "                                        'max_features': ['auto'],\n",
       "                                        'min_samples_leaf': [2, 4, 8, 10],\n",
       "                                        'min_samples_split': [2, 4, 8, 10],\n",
       "                                        'n_estimators': [10, 37, 64, 91, 118,\n",
       "                                                         145, 172, 200]},\n",
       "                   random_state=42, verbose=2)"
      ]
     },
     "execution_count": 28,
     "metadata": {},
     "output_type": "execute_result"
    }
   ],
   "source": [
    " #Use the random grid to search for best hyperparameters\n",
    "# First create the base model to tune\n",
    "rf = RandomForestClassifier()\n",
    "# Random search of parameters, using 3 fold cross validation, \n",
    "# search across 100 different combinations, and use all available cores\n",
    "rf_random = RandomizedSearchCV(estimator = rf, param_distributions = random_grid, n_iter = 1000, cv = 10, verbose=2, random_state=42, n_jobs = -1\n",
    ")# Fit the random search model\n",
    "rf_random.fit(x, y)"
   ]
  },
  {
   "attachments": {},
   "cell_type": "markdown",
   "metadata": {},
   "source": [
    "### 1st run best parameters and results  \n",
    "{  \n",
    "    'n_estimators': 400,  \n",
    "    'min_samples_split': 10,  \n",
    "    'min_samples_leaf': 4,  \n",
    "    'max_features': 'auto',  \n",
    "    'max_depth': 70,  \n",
    "    'bootstrap': True  \n",
    "}  \n",
    "\n",
    "0.5990909090909091\n",
    "\n",
    "### 2nd Run Best Params and results\n",
    "{'n_estimators': 100,\n",
    " 'min_samples_split': 8,\n",
    " 'min_samples_leaf': 8,\n",
    " 'max_features': 'auto',\n",
    " 'max_depth': 75,\n",
    " 'bootstrap': True}\n",
    "\n",
    "0.6272727272727272\n",
    "\n",
    "### 3rd Run Best Params and Results\n",
    "{'n_estimators': 64,\n",
    " 'min_samples_split': 10,\n",
    " 'min_samples_leaf': 10,\n",
    " 'max_features': 'auto',\n",
    " 'max_depth': 80,\n",
    " 'bootstrap': True}\n",
    "\n",
    "0.6381818181818182"
   ]
  },
  {
   "cell_type": "code",
   "execution_count": 31,
   "metadata": {},
   "outputs": [
    {
     "data": {
      "text/plain": [
       "['preprocessed_no_sent_last_1.csv',\n",
       " 'preprocessed_no_sent_last_3.csv',\n",
       " 'preprocessed_no_sent_last_3_wt.csv',\n",
       " 'preprocessed_no_sent_last_7.csv',\n",
       " 'preprocessed_no_sent_last_7_wt.csv',\n",
       " 'preprocessed_no_sent_last_ssn.csv',\n",
       " 'preprocessed_no_sent_last_ssn_wt.csv']"
      ]
     },
     "execution_count": 31,
     "metadata": {},
     "output_type": "execute_result"
    }
   ],
   "source": [
    "no_sent_files = files[:7]\n",
    "no_sent_files"
   ]
  },
  {
   "cell_type": "code",
   "execution_count": 33,
   "metadata": {},
   "outputs": [
    {
     "data": {
      "text/plain": [
       "{'n_estimators': [10, 37, 64, 91, 118, 145, 172, 200],\n",
       " 'max_features': ['auto'],\n",
       " 'max_depth': [30, 40, 50, 60, 70, 80, 90, 100],\n",
       " 'min_samples_split': [4, 8, 10, 12, 15],\n",
       " 'min_samples_leaf': [4, 8, 10, 12, 15],\n",
       " 'bootstrap': [True]}"
      ]
     },
     "execution_count": 33,
     "metadata": {},
     "output_type": "execute_result"
    }
   ],
   "source": [
    "random_grid"
   ]
  },
  {
   "cell_type": "code",
   "execution_count": 55,
   "metadata": {},
   "outputs": [],
   "source": [
    "param_dict = {\n",
    "    'n_estimators': [5, 8, 10, 25, 50, 75, 100, 300],\n",
    "    'max_features': ['auto'],\n",
    "    'max_depth': [25, 50, 75, 100, 125, 150, 200, 400],\n",
    "    'min_samples_split': [2, 4, 8, 10, 12, 15],\n",
    "    'min_samples_leaf': [2, 4, 8, 10, 12, 15],\n",
    "    'bootstrap': [True]\n",
    "}\n",
    "\n",
    "param_dict_test = {\n",
    "    'n_estimators': [91, 118, ],\n",
    "    'max_features': ['auto'],\n",
    "    'max_depth': [50, 60, 70],\n",
    "    'min_samples_split': [8, 10, 12],\n",
    "    'min_samples_leaf': [8, 10, 12],\n",
    "    'bootstrap': [True]\n",
    "   \n",
    "}\n",
    "\n",
    "\n",
    "def grid_search(x, y, params):\n",
    "    max_score = {\n",
    "        'scores_mean':0\n",
    "    }\n",
    "\n",
    "    all_scores = []\n",
    "\n",
    "    for n in params['n_estimators']:\n",
    "        for depth in params['max_depth']:\n",
    "            for split in params['min_samples_split']:\n",
    "                for leaf in params['min_samples_leaf']:\n",
    "                    rf = RandomForestClassifier(\n",
    "                        n_estimators=n,\n",
    "                        max_depth=depth,\n",
    "                        min_samples_split=split,\n",
    "                        min_samples_leaf=leaf,\n",
    "                        bootstrap=True,\n",
    "                        max_features='auto'\n",
    "                    )\n",
    "\n",
    "                    cv = RepeatedKFold(n_splits=10, n_repeats=10, random_state=1)\n",
    "\n",
    "                    scores = cross_val_score(\n",
    "                        rf,\n",
    "                        x,\n",
    "                        y,\n",
    "                        scoring='accuracy',\n",
    "                        cv=cv,\n",
    "                        n_jobs=-1\n",
    "                    )\n",
    "\n",
    "                    scores_dict = {\n",
    "                        'scores_mean': scores.mean(),\n",
    "                        'scores_std': scores.std(),\n",
    "                        'n_estimators': n,\n",
    "                        'max_depth': depth,\n",
    "                        'min_samples_split': split,\n",
    "                        'min_samples_leaf': leaf,\n",
    "                        'scores': scores\n",
    "                    }\n",
    "\n",
    "                    all_scores.append(scores_dict)\n",
    "                    if scores.mean() > max_score['scores_mean']:\n",
    "                        max_score = scores_dict\n",
    "    return all_scores, max_score"
   ]
  },
  {
   "cell_type": "code",
   "execution_count": 44,
   "metadata": {},
   "outputs": [],
   "source": [
    "all_scores, max_score = grid_search(x,y, param_dict)"
   ]
  },
  {
   "cell_type": "code",
   "execution_count": null,
   "metadata": {},
   "outputs": [],
   "source": []
  },
  {
   "cell_type": "code",
   "execution_count": 45,
   "metadata": {},
   "outputs": [],
   "source": [
    "def get_best_params(all_scores):\n",
    "    ms = max(all_scores, key=lambda x:x['scores_mean'])\n",
    "    print(f\"Accuracy: {round(ms['scores_mean']*100,2)}%\")\n",
    "    print(ms)\n",
    "    print(f\"Best Paramaters: \\nn_estimators: {ms['n_estimators']} \\t max_depth: {ms['max_depth']} \\t min_samples_split: {ms['min_samples_split']} \\t min_samples_leaf: {ms['min_samples_leaf']}\")"
   ]
  },
  {
   "attachments": {},
   "cell_type": "markdown",
   "metadata": {},
   "source": [
    "param_dict = {\n",
    "    'n_estimators': [10, 37, 64, 91, 118, 145, 172, 200],\n",
    "    'max_features': ['auto'],\n",
    "    'max_depth': [30, 40, 50, 60, 70, 80, 90, 100],\n",
    "    'min_samples_split': [4, 8, 10, 12, 15],\n",
    "    'min_samples_leaf': [4, 8, 10, 12, 15],\n",
    "    'bootstrap': [True]  \n",
    "}\n",
    "\n",
    "n_estimators: 10 \t max_depth: 100 \t min_samples_split: 4 \t min_samples_leaf: 4"
   ]
  },
  {
   "cell_type": "code",
   "execution_count": 46,
   "metadata": {},
   "outputs": [
    {
     "name": "stdout",
     "output_type": "stream",
     "text": [
      "Accuracy: 53.34%\n",
      "{'scores_mean': 0.5333636363636363, 'scores_std': 0.14517618250574763, 'n_estimators': 10, 'max_depth': 100, 'min_samples_split': 4, 'min_samples_leaf': 4, 'scores': array([0.54545455, 0.63636364, 0.81818182, 0.72727273, 0.90909091,\n",
      "       0.6       , 0.4       , 0.6       , 0.4       , 0.5       ,\n",
      "       0.54545455, 0.63636364, 0.45454545, 0.36363636, 0.45454545,\n",
      "       0.6       , 0.2       , 0.4       , 0.5       , 0.3       ,\n",
      "       0.45454545, 0.45454545, 0.54545455, 0.63636364, 0.72727273,\n",
      "       0.5       , 0.3       , 0.8       , 0.4       , 0.5       ,\n",
      "       0.63636364, 0.63636364, 0.45454545, 0.54545455, 0.63636364,\n",
      "       0.6       , 0.2       , 0.7       , 0.4       , 0.4       ,\n",
      "       0.45454545, 0.45454545, 0.54545455, 0.63636364, 0.54545455,\n",
      "       0.5       , 0.5       , 0.4       , 0.8       , 0.4       ,\n",
      "       0.54545455, 0.54545455, 0.72727273, 0.36363636, 0.72727273,\n",
      "       0.6       , 0.6       , 0.6       , 0.6       , 0.4       ,\n",
      "       0.72727273, 0.63636364, 0.54545455, 0.45454545, 0.45454545,\n",
      "       0.5       , 0.6       , 0.4       , 0.7       , 0.3       ,\n",
      "       0.54545455, 0.54545455, 0.36363636, 0.36363636, 0.63636364,\n",
      "       0.7       , 0.6       , 0.3       , 0.6       , 0.4       ,\n",
      "       0.63636364, 0.81818182, 0.54545455, 0.72727273, 0.45454545,\n",
      "       0.5       , 0.6       , 0.3       , 0.2       , 0.8       ,\n",
      "       0.54545455, 0.54545455, 0.63636364, 0.63636364, 0.45454545,\n",
      "       0.7       , 0.4       , 0.5       , 0.3       , 0.6       ])}\n",
      "Best Paramaters: \n",
      "n_estimators: 10 \t max_depth: 100 \t min_samples_split: 4 \t min_samples_leaf: 4\n"
     ]
    }
   ],
   "source": [
    "get_best_params(all_scores)"
   ]
  },
  {
   "cell_type": "code",
   "execution_count": 57,
   "metadata": {},
   "outputs": [],
   "source": [
    "param_dict_2 = {\n",
    "    'n_estimators': [5, 8, 10, 25, 50, 100],\n",
    "    'max_features': ['auto'],\n",
    "    'max_depth': [25, 50, 75, 100, 125, 150, 200],\n",
    "    'min_samples_split': [2, 4, 8, 10, 12, 15],\n",
    "    'min_samples_leaf': [2, 4, 8, 10, 12, 15],\n",
    "    'bootstrap': [True]\n",
    "}\n",
    "\n",
    "param_dict_3 = {\n",
    "    'n_estimators': [5, 8, 10, 25, 50, 75, 100, 300],\n",
    "    'max_features': ['auto'],\n",
    "    'max_depth': [5, 10, 15, 25, 50, 75, 100, 150, 200],\n",
    "    'min_samples_split': [2, 4, 8, 10, 12, 15],\n",
    "    'min_samples_leaf': [2, 4, 8, 10, 12, 15],\n",
    "    'bootstrap': [True]\n",
    "}\n",
    "\n",
    "def all_datasets(files, params):\n",
    "    results = []\n",
    "    for f in files:\n",
    "        x,y = get_data(f)\n",
    "        all_scores, max_score = grid_search(x, y, params)\n",
    "        max_score['file'] = f\n",
    "        results.append(max_score)\n",
    "    return results\n",
    "\n"
   ]
  },
  {
   "cell_type": "code",
   "execution_count": 49,
   "metadata": {},
   "outputs": [
    {
     "data": {
      "text/plain": [
       "['preprocessed_no_sent_last_1.csv',\n",
       " 'preprocessed_no_sent_last_3.csv',\n",
       " 'preprocessed_no_sent_last_3_wt.csv',\n",
       " 'preprocessed_no_sent_last_7.csv',\n",
       " 'preprocessed_no_sent_last_7_wt.csv',\n",
       " 'preprocessed_no_sent_last_ssn.csv',\n",
       " 'preprocessed_no_sent_last_ssn_wt.csv']"
      ]
     },
     "execution_count": 49,
     "metadata": {},
     "output_type": "execute_result"
    }
   ],
   "source": [
    "no_sent_files = files[:7]\n",
    "no_sent_files\n"
   ]
  },
  {
   "cell_type": "code",
   "execution_count": 50,
   "metadata": {},
   "outputs": [],
   "source": [
    "no_sent_results = all_datasets(no_sent_files, param_dict_2)"
   ]
  },
  {
   "cell_type": "code",
   "execution_count": 58,
   "metadata": {},
   "outputs": [],
   "source": [
    "no_sent_results2 = all_datasets(no_sent_files, param_dict_3)"
   ]
  },
  {
   "cell_type": "code",
   "execution_count": 59,
   "metadata": {},
   "outputs": [
    {
     "data": {
      "text/html": [
       "<div>\n",
       "<style scoped>\n",
       "    .dataframe tbody tr th:only-of-type {\n",
       "        vertical-align: middle;\n",
       "    }\n",
       "\n",
       "    .dataframe tbody tr th {\n",
       "        vertical-align: top;\n",
       "    }\n",
       "\n",
       "    .dataframe thead th {\n",
       "        text-align: right;\n",
       "    }\n",
       "</style>\n",
       "<table border=\"1\" class=\"dataframe\">\n",
       "  <thead>\n",
       "    <tr style=\"text-align: right;\">\n",
       "      <th></th>\n",
       "      <th>scores_mean</th>\n",
       "      <th>scores_std</th>\n",
       "      <th>n_estimators</th>\n",
       "      <th>max_depth</th>\n",
       "      <th>min_samples_split</th>\n",
       "      <th>min_samples_leaf</th>\n",
       "      <th>scores</th>\n",
       "    </tr>\n",
       "    <tr>\n",
       "      <th>file</th>\n",
       "      <th></th>\n",
       "      <th></th>\n",
       "      <th></th>\n",
       "      <th></th>\n",
       "      <th></th>\n",
       "      <th></th>\n",
       "      <th></th>\n",
       "    </tr>\n",
       "  </thead>\n",
       "  <tbody>\n",
       "    <tr>\n",
       "      <th>preprocessed_no_sent_last_ssn_wt.csv</th>\n",
       "      <td>0.545545</td>\n",
       "      <td>0.146978</td>\n",
       "      <td>5</td>\n",
       "      <td>75</td>\n",
       "      <td>8</td>\n",
       "      <td>4</td>\n",
       "      <td>[0.6363636363636364, 0.45454545454545453, 0.36...</td>\n",
       "    </tr>\n",
       "    <tr>\n",
       "      <th>preprocessed_no_sent_last_7.csv</th>\n",
       "      <td>0.537364</td>\n",
       "      <td>0.127389</td>\n",
       "      <td>8</td>\n",
       "      <td>150</td>\n",
       "      <td>2</td>\n",
       "      <td>8</td>\n",
       "      <td>[0.5454545454545454, 0.5454545454545454, 0.636...</td>\n",
       "    </tr>\n",
       "    <tr>\n",
       "      <th>preprocessed_no_sent_last_ssn.csv</th>\n",
       "      <td>0.534909</td>\n",
       "      <td>0.146082</td>\n",
       "      <td>5</td>\n",
       "      <td>50</td>\n",
       "      <td>2</td>\n",
       "      <td>2</td>\n",
       "      <td>[0.36363636363636365, 0.5454545454545454, 0.63...</td>\n",
       "    </tr>\n",
       "    <tr>\n",
       "      <th>preprocessed_no_sent_last_1.csv</th>\n",
       "      <td>0.533455</td>\n",
       "      <td>0.156722</td>\n",
       "      <td>8</td>\n",
       "      <td>100</td>\n",
       "      <td>4</td>\n",
       "      <td>2</td>\n",
       "      <td>[0.5454545454545454, 0.45454545454545453, 0.72...</td>\n",
       "    </tr>\n",
       "    <tr>\n",
       "      <th>preprocessed_no_sent_last_7_wt.csv</th>\n",
       "      <td>0.529909</td>\n",
       "      <td>0.133245</td>\n",
       "      <td>10</td>\n",
       "      <td>10</td>\n",
       "      <td>4</td>\n",
       "      <td>4</td>\n",
       "      <td>[0.45454545454545453, 0.7272727272727273, 0.54...</td>\n",
       "    </tr>\n",
       "    <tr>\n",
       "      <th>preprocessed_no_sent_last_3.csv</th>\n",
       "      <td>0.492636</td>\n",
       "      <td>0.155328</td>\n",
       "      <td>8</td>\n",
       "      <td>100</td>\n",
       "      <td>12</td>\n",
       "      <td>4</td>\n",
       "      <td>[0.36363636363636365, 0.45454545454545453, 0.6...</td>\n",
       "    </tr>\n",
       "    <tr>\n",
       "      <th>preprocessed_no_sent_last_3_wt.csv</th>\n",
       "      <td>0.490818</td>\n",
       "      <td>0.157373</td>\n",
       "      <td>5</td>\n",
       "      <td>15</td>\n",
       "      <td>8</td>\n",
       "      <td>4</td>\n",
       "      <td>[0.5454545454545454, 0.45454545454545453, 0.54...</td>\n",
       "    </tr>\n",
       "  </tbody>\n",
       "</table>\n",
       "</div>"
      ],
      "text/plain": [
       "                                      scores_mean  scores_std  n_estimators  \\\n",
       "file                                                                          \n",
       "preprocessed_no_sent_last_ssn_wt.csv     0.545545    0.146978             5   \n",
       "preprocessed_no_sent_last_7.csv          0.537364    0.127389             8   \n",
       "preprocessed_no_sent_last_ssn.csv        0.534909    0.146082             5   \n",
       "preprocessed_no_sent_last_1.csv          0.533455    0.156722             8   \n",
       "preprocessed_no_sent_last_7_wt.csv       0.529909    0.133245            10   \n",
       "preprocessed_no_sent_last_3.csv          0.492636    0.155328             8   \n",
       "preprocessed_no_sent_last_3_wt.csv       0.490818    0.157373             5   \n",
       "\n",
       "                                      max_depth  min_samples_split  \\\n",
       "file                                                                 \n",
       "preprocessed_no_sent_last_ssn_wt.csv         75                  8   \n",
       "preprocessed_no_sent_last_7.csv             150                  2   \n",
       "preprocessed_no_sent_last_ssn.csv            50                  2   \n",
       "preprocessed_no_sent_last_1.csv             100                  4   \n",
       "preprocessed_no_sent_last_7_wt.csv           10                  4   \n",
       "preprocessed_no_sent_last_3.csv             100                 12   \n",
       "preprocessed_no_sent_last_3_wt.csv           15                  8   \n",
       "\n",
       "                                      min_samples_leaf  \\\n",
       "file                                                     \n",
       "preprocessed_no_sent_last_ssn_wt.csv                 4   \n",
       "preprocessed_no_sent_last_7.csv                      8   \n",
       "preprocessed_no_sent_last_ssn.csv                    2   \n",
       "preprocessed_no_sent_last_1.csv                      2   \n",
       "preprocessed_no_sent_last_7_wt.csv                   4   \n",
       "preprocessed_no_sent_last_3.csv                      4   \n",
       "preprocessed_no_sent_last_3_wt.csv                   4   \n",
       "\n",
       "                                                                                 scores  \n",
       "file                                                                                     \n",
       "preprocessed_no_sent_last_ssn_wt.csv  [0.6363636363636364, 0.45454545454545453, 0.36...  \n",
       "preprocessed_no_sent_last_7.csv       [0.5454545454545454, 0.5454545454545454, 0.636...  \n",
       "preprocessed_no_sent_last_ssn.csv     [0.36363636363636365, 0.5454545454545454, 0.63...  \n",
       "preprocessed_no_sent_last_1.csv       [0.5454545454545454, 0.45454545454545453, 0.72...  \n",
       "preprocessed_no_sent_last_7_wt.csv    [0.45454545454545453, 0.7272727272727273, 0.54...  \n",
       "preprocessed_no_sent_last_3.csv       [0.36363636363636365, 0.45454545454545453, 0.6...  \n",
       "preprocessed_no_sent_last_3_wt.csv    [0.5454545454545454, 0.45454545454545453, 0.54...  "
      ]
     },
     "execution_count": 59,
     "metadata": {},
     "output_type": "execute_result"
    }
   ],
   "source": [
    "df_no_sent_results2 = pd.DataFrame.from_records(no_sent_results2, index ='file').sort_values('scores_mean', ascending=False)\n",
    "df_no_sent_results2"
   ]
  },
  {
   "cell_type": "code",
   "execution_count": 51,
   "metadata": {},
   "outputs": [
    {
     "data": {
      "text/html": [
       "<div>\n",
       "<style scoped>\n",
       "    .dataframe tbody tr th:only-of-type {\n",
       "        vertical-align: middle;\n",
       "    }\n",
       "\n",
       "    .dataframe tbody tr th {\n",
       "        vertical-align: top;\n",
       "    }\n",
       "\n",
       "    .dataframe thead th {\n",
       "        text-align: right;\n",
       "    }\n",
       "</style>\n",
       "<table border=\"1\" class=\"dataframe\">\n",
       "  <thead>\n",
       "    <tr style=\"text-align: right;\">\n",
       "      <th></th>\n",
       "      <th>scores_mean</th>\n",
       "      <th>scores_std</th>\n",
       "      <th>n_estimators</th>\n",
       "      <th>max_depth</th>\n",
       "      <th>min_samples_split</th>\n",
       "      <th>min_samples_leaf</th>\n",
       "      <th>scores</th>\n",
       "    </tr>\n",
       "    <tr>\n",
       "      <th>file</th>\n",
       "      <th></th>\n",
       "      <th></th>\n",
       "      <th></th>\n",
       "      <th></th>\n",
       "      <th></th>\n",
       "      <th></th>\n",
       "      <th></th>\n",
       "    </tr>\n",
       "  </thead>\n",
       "  <tbody>\n",
       "    <tr>\n",
       "      <th>preprocessed_no_sent_last_ssn_wt.csv</th>\n",
       "      <td>0.538727</td>\n",
       "      <td>0.158717</td>\n",
       "      <td>5</td>\n",
       "      <td>75</td>\n",
       "      <td>2</td>\n",
       "      <td>2</td>\n",
       "      <td>[0.2727272727272727, 0.45454545454545453, 0.45...</td>\n",
       "    </tr>\n",
       "    <tr>\n",
       "      <th>preprocessed_no_sent_last_7.csv</th>\n",
       "      <td>0.537909</td>\n",
       "      <td>0.151560</td>\n",
       "      <td>8</td>\n",
       "      <td>50</td>\n",
       "      <td>12</td>\n",
       "      <td>4</td>\n",
       "      <td>[0.45454545454545453, 0.6363636363636364, 0.54...</td>\n",
       "    </tr>\n",
       "    <tr>\n",
       "      <th>preprocessed_no_sent_last_1.csv</th>\n",
       "      <td>0.537636</td>\n",
       "      <td>0.158015</td>\n",
       "      <td>8</td>\n",
       "      <td>25</td>\n",
       "      <td>2</td>\n",
       "      <td>10</td>\n",
       "      <td>[0.45454545454545453, 0.36363636363636365, 0.4...</td>\n",
       "    </tr>\n",
       "    <tr>\n",
       "      <th>preprocessed_no_sent_last_ssn.csv</th>\n",
       "      <td>0.536545</td>\n",
       "      <td>0.157144</td>\n",
       "      <td>10</td>\n",
       "      <td>150</td>\n",
       "      <td>4</td>\n",
       "      <td>4</td>\n",
       "      <td>[0.45454545454545453, 0.36363636363636365, 0.7...</td>\n",
       "    </tr>\n",
       "    <tr>\n",
       "      <th>preprocessed_no_sent_last_7_wt.csv</th>\n",
       "      <td>0.536091</td>\n",
       "      <td>0.143978</td>\n",
       "      <td>5</td>\n",
       "      <td>25</td>\n",
       "      <td>4</td>\n",
       "      <td>4</td>\n",
       "      <td>[0.6363636363636364, 0.6363636363636364, 0.454...</td>\n",
       "    </tr>\n",
       "    <tr>\n",
       "      <th>preprocessed_no_sent_last_3_wt.csv</th>\n",
       "      <td>0.500545</td>\n",
       "      <td>0.152461</td>\n",
       "      <td>5</td>\n",
       "      <td>75</td>\n",
       "      <td>10</td>\n",
       "      <td>4</td>\n",
       "      <td>[0.6363636363636364, 0.5454545454545454, 0.454...</td>\n",
       "    </tr>\n",
       "    <tr>\n",
       "      <th>preprocessed_no_sent_last_3.csv</th>\n",
       "      <td>0.486000</td>\n",
       "      <td>0.176483</td>\n",
       "      <td>5</td>\n",
       "      <td>150</td>\n",
       "      <td>12</td>\n",
       "      <td>8</td>\n",
       "      <td>[0.45454545454545453, 0.5454545454545454, 0.63...</td>\n",
       "    </tr>\n",
       "  </tbody>\n",
       "</table>\n",
       "</div>"
      ],
      "text/plain": [
       "                                      scores_mean  scores_std  n_estimators  \\\n",
       "file                                                                          \n",
       "preprocessed_no_sent_last_ssn_wt.csv     0.538727    0.158717             5   \n",
       "preprocessed_no_sent_last_7.csv          0.537909    0.151560             8   \n",
       "preprocessed_no_sent_last_1.csv          0.537636    0.158015             8   \n",
       "preprocessed_no_sent_last_ssn.csv        0.536545    0.157144            10   \n",
       "preprocessed_no_sent_last_7_wt.csv       0.536091    0.143978             5   \n",
       "preprocessed_no_sent_last_3_wt.csv       0.500545    0.152461             5   \n",
       "preprocessed_no_sent_last_3.csv          0.486000    0.176483             5   \n",
       "\n",
       "                                      max_depth  min_samples_split  \\\n",
       "file                                                                 \n",
       "preprocessed_no_sent_last_ssn_wt.csv         75                  2   \n",
       "preprocessed_no_sent_last_7.csv              50                 12   \n",
       "preprocessed_no_sent_last_1.csv              25                  2   \n",
       "preprocessed_no_sent_last_ssn.csv           150                  4   \n",
       "preprocessed_no_sent_last_7_wt.csv           25                  4   \n",
       "preprocessed_no_sent_last_3_wt.csv           75                 10   \n",
       "preprocessed_no_sent_last_3.csv             150                 12   \n",
       "\n",
       "                                      min_samples_leaf  \\\n",
       "file                                                     \n",
       "preprocessed_no_sent_last_ssn_wt.csv                 2   \n",
       "preprocessed_no_sent_last_7.csv                      4   \n",
       "preprocessed_no_sent_last_1.csv                     10   \n",
       "preprocessed_no_sent_last_ssn.csv                    4   \n",
       "preprocessed_no_sent_last_7_wt.csv                   4   \n",
       "preprocessed_no_sent_last_3_wt.csv                   4   \n",
       "preprocessed_no_sent_last_3.csv                      8   \n",
       "\n",
       "                                                                                 scores  \n",
       "file                                                                                     \n",
       "preprocessed_no_sent_last_ssn_wt.csv  [0.2727272727272727, 0.45454545454545453, 0.45...  \n",
       "preprocessed_no_sent_last_7.csv       [0.45454545454545453, 0.6363636363636364, 0.54...  \n",
       "preprocessed_no_sent_last_1.csv       [0.45454545454545453, 0.36363636363636365, 0.4...  \n",
       "preprocessed_no_sent_last_ssn.csv     [0.45454545454545453, 0.36363636363636365, 0.7...  \n",
       "preprocessed_no_sent_last_7_wt.csv    [0.6363636363636364, 0.6363636363636364, 0.454...  \n",
       "preprocessed_no_sent_last_3_wt.csv    [0.6363636363636364, 0.5454545454545454, 0.454...  \n",
       "preprocessed_no_sent_last_3.csv       [0.45454545454545453, 0.5454545454545454, 0.63...  "
      ]
     },
     "execution_count": 51,
     "metadata": {},
     "output_type": "execute_result"
    }
   ],
   "source": [
    "df_no_sent_results = pd.DataFrame.from_records(no_sent_results, index ='file').sort_values('scores_mean', ascending=False)\n",
    "df_no_sent_results"
   ]
  },
  {
   "cell_type": "code",
   "execution_count": 52,
   "metadata": {},
   "outputs": [],
   "source": [
    "df_no_sent_results.to_csv('../results/df_no_sent.csv')"
   ]
  },
  {
   "cell_type": "code",
   "execution_count": 60,
   "metadata": {},
   "outputs": [],
   "source": [
    "df_no_sent_results2.to_csv('../results/df_no_sent2.csv')"
   ]
  },
  {
   "cell_type": "code",
   "execution_count": 54,
   "metadata": {},
   "outputs": [
    {
     "data": {
      "image/png": "[encoded data removed]",
      "text/plain": [
       "<Figure size 864x576 with 1 Axes>"
      ]
     },
     "metadata": {
      "needs_background": "light"
     },
     "output_type": "display_data"
    }
   ],
   "source": [
    "column_dict_no_sent = {\n",
    "    'preprocessed_no_sent_last_7.csv': '7 Games',\n",
    "    'preprocessed_no_sent_last_7_wt.csv': '7 Games Wtd',\n",
    "    'preprocessed_no_sent_last_1.csv': '1 Game',\n",
    "    'preprocessed_no_sent_last_3.csv': '3 Games',\n",
    "    'preprocessed_no_sent_last_3_wt.csv': '3 Games Wtd',\n",
    "    'preprocessed_no_sent_last_ssn.csv': 'Season',\n",
    "    'preprocessed_no_sent_last_ssn_wt.csv': 'Season Weighted',\n",
    "}\n",
    "def get_box_plot(df, col_labels):\n",
    "    scores = df['scores'].apply(pd.Series).transpose()\n",
    "    # print(scores.columns)\n",
    "    scores = scores.rename(columns=col_labels)\n",
    "    scores.boxplot(rot=90, figsize=(12,8), grid=False, fontsize=15)\n",
    "\n",
    "get_box_plot(df_no_sent_results, column_dict_no_sent)"
   ]
  },
  {
   "cell_type": "code",
   "execution_count": null,
   "metadata": {},
   "outputs": [],
   "source": [
    "from sklearn.model_selection import GridSearchCV\n",
    "\n",
    "\n",
    "# def all_datasets(files, random_grid):\n",
    "#     results = []\n",
    "\n",
    "#     for file in files:\n",
    "#         rf = RandomForestClassifier()\n",
    "#         cv = RepeatedKFold(n_splits=10, n_repeats=10, random_state=1)\n",
    "#         # Random search of parameters, using 3 fold cross validation, \n",
    "#         # search across 100 different combinations, and use all available cores\n",
    "#         rf_random = GridSearchCV(estimator = rf, param_distributions = random_grid, n_iter = 1000, cv = 10, verbose=2, random_state=42, n_jobs = -1\n",
    "#         )# Fit the random search model\n",
    "#         rf_random.fit(x, y)"
   ]
  },
  {
   "attachments": {},
   "cell_type": "markdown",
   "metadata": {},
   "source": [
    "#### take best no sentiment dataset and use with sentiment\n",
    "In this example all last 7 games, both weighted and not since tied\n"
   ]
  },
  {
   "cell_type": "code",
   "execution_count": null,
   "metadata": {},
   "outputs": [],
   "source": [
    "files_7_games = [f for f in files if 'last_7' in f]\n",
    "files_test = files_7_games\n",
    "files_test"
   ]
  },
  {
   "attachments": {},
   "cell_type": "markdown",
   "metadata": {},
   "source": [
    "#### Get results for test files w. and w.out sentiment"
   ]
  },
  {
   "cell_type": "code",
   "execution_count": null,
   "metadata": {},
   "outputs": [],
   "source": [
    "results_test = all_datasets(files_test)\n"
   ]
  },
  {
   "cell_type": "code",
   "execution_count": null,
   "metadata": {},
   "outputs": [],
   "source": [
    "df_results_test = pd.DataFrame.from_records(results_test, index='file').sort_values('scores_mean', ascending=False)\n",
    "df_results_test"
   ]
  },
  {
   "cell_type": "code",
   "execution_count": null,
   "metadata": {},
   "outputs": [],
   "source": [
    "df_res"
   ]
  }
 ],
 "metadata": {
  "kernelspec": {
   "display_name": "Python 3",
   "language": "python",
   "name": "python3"
  },
  "language_info": {
   "codemirror_mode": {
    "name": "ipython",
    "version": 3
   },
   "file_extension": ".py",
   "mimetype": "text/x-python",
   "name": "python",
   "nbconvert_exporter": "python",
   "pygments_lexer": "ipython3",
   "version": "3.10.2"
  },
  "orig_nbformat": 4,
  "vscode": {
   "interpreter": {
    "hash": "2fc6efb3340bf4aae142c4471c3414bb5b17e6e80ba42a259676c40f0503db89"
   }
  }
 },
 "nbformat": 4,
 "nbformat_minor": 2
}
