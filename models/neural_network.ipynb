{
 "cells": [
  {
   "cell_type": "code",
   "execution_count": 13,
   "metadata": {},
   "outputs": [],
   "source": [
    "import os\n",
    "import pandas as  pd\n",
    "import numpy as np\n",
    "import matplotlib.pyplot as plt\n",
    "from sklearn.preprocessing import StandardScaler\n",
    "import tensorflow as tf\n",
    "from sklearn.model_selection import KFold\n",
    "from sklearn.model_selection import RepeatedKFold\n",
    "import keras\n",
    "from tensorflow.keras import layers\n",
    "import keras_tuner"
   ]
  },
  {
   "cell_type": "code",
   "execution_count": 2,
   "metadata": {},
   "outputs": [],
   "source": [
    "files = os.listdir('../final_stats/preprocessed_3/')\n",
    "no_sent_files = files[:7]"
   ]
  },
  {
   "attachments": {},
   "cell_type": "markdown",
   "metadata": {},
   "source": [
    "### File Retrieval and Preprocessing"
   ]
  },
  {
   "cell_type": "code",
   "execution_count": 4,
   "metadata": {},
   "outputs": [],
   "source": [
    "def split_target(df, target_col='away_winner_wts'):\n",
    "    df = df.copy()\n",
    "    target = df.pop(target_col)\n",
    "    return df, target\n",
    "\n",
    "def normalize_df(df):\n",
    "    scaler = StandardScaler()\n",
    "    data, target = split_target(df)\n",
    "    data = pd.DataFrame(scaler.fit_transform(data), columns=data.columns)\n",
    "    return data, target\n",
    "\n",
    "def get_data(file):\n",
    "    df = pd.read_csv(f'../final_stats/preprocessed_3/{file}', index_col=[0])\n",
    "    data, target = normalize_df(df)\n",
    "    return data, target\n",
    "\n",
    "def shuffle_data(x,y, seed):\n",
    "    x_shuffle = x.sample(frac=1, random_state=seed)\n",
    "    y_shuffle = y.sample(frac=1, random_state=seed)\n",
    "    return x_shuffle, y_shuffle\n"
   ]
  },
  {
   "attachments": {},
   "cell_type": "markdown",
   "metadata": {},
   "source": [
    "### Chart Code"
   ]
  },
  {
   "cell_type": "code",
   "execution_count": 26,
   "metadata": {},
   "outputs": [],
   "source": [
    "def get_average_acc_history(acc_histories):\n",
    "    num_epochs = len(acc_histories[0])\n",
    "    return [np.mean([x[i] for x in acc_histories]) for i in range(num_epochs)]\n",
    "\n",
    "def get_average_loss_history(loss_histories):\n",
    "    num_epochs = len(loss_histories[0])\n",
    "    return [np.mean([x[i] for x in loss_histories]) for i in range(num_epochs)]\n",
    "        \n",
    "def plot_ave_acc_and_loss_histories(acc_histories, loss_histories):\n",
    "    average_acc_history = get_average_acc_history(acc_histories)\n",
    "    average_loss_history = get_average_loss_history(loss_histories)\n",
    "\n",
    "    plt.figure(figsize=(15,5))\n",
    "    \n",
    "    plt.subplot(1, 2, 1)\n",
    "    plt.plot(range(1, len(average_acc_history) + 1), average_acc_history)\n",
    "    plt.xlabel(\"Epochs\")\n",
    "    plt.ylabel(\"Validation Accuracy\")\n",
    "\n",
    "    plt.subplot(1, 2, 2)\n",
    "\n",
    "    plt.plot(range(1, len(average_loss_history) + 1), average_loss_history)\n",
    "    plt.xlabel(\"Epochs\")\n",
    "    plt.ylabel(\"Validation Loss\")\n",
    "    plt.show()\n",
    "\n",
    "def compare_ave_loss_acc_histories(acc_hist_1, acc_hist_2, loss_hist_1, loss_hist_2):\n",
    "    min_epochs = min(len(acc_hist_1[0]), len(acc_hist_2[0]))\n",
    "    \n",
    "    ave_acc_hist_1 = get_average_acc_history(acc_hist_1)\n",
    "    ave_loss_hist_1 = get_average_loss_history(loss_hist_1)\n",
    "    \n",
    "    ave_acc_hist_2 = get_average_acc_history(acc_hist_2)\n",
    "    ave_loss_hist_2 = get_average_loss_history(loss_hist_2)\n",
    "\n",
    "\n",
    "    blue_dots = 'bo'\n",
    "    solid_blue_line = 'b'\n",
    "    red_dots = 'ro'\n",
    "    solid_red_line = 'r'\n",
    "\n",
    "    epochs = range(1, min_epochs + 1)\n",
    "    plt.figure(figsize=(15,5))\n",
    "    \n",
    "    plt.subplot(1, 2, 1)\n",
    "    plt.plot(epochs, ave_acc_hist_1, solid_blue_line, label='Model 1')\n",
    "    plt.plot(epochs, ave_acc_hist_2, solid_red_line, label='Model 2')\n",
    "    plt.xlabel(\"Epochs\")\n",
    "    plt.ylabel(\"Validation Accuracy\")\n",
    "    plt.legend()\n",
    "\n",
    "    plt.subplot(1, 2, 2)\n",
    "\n",
    "    plt.plot(epochs, ave_loss_hist_1, solid_blue_line, label='Model 1')\n",
    "    plt.plot(epochs, ave_loss_hist_2, solid_red_line, label='Model 2')\n",
    "    plt.xlabel(\"Epochs\")\n",
    "    plt.ylabel(\"Validation Loss\")\n",
    "    plt.legend()\n",
    "    \n",
    "    plt.show()\n",
    "    "
   ]
  },
  {
   "attachments": {},
   "cell_type": "markdown",
   "metadata": {},
   "source": [
    "### Base model"
   ]
  },
  {
   "attachments": {},
   "cell_type": "markdown",
   "metadata": {},
   "source": [
    "### K-Fold Cross Validation"
   ]
  },
  {
   "attachments": {},
   "cell_type": "markdown",
   "metadata": {},
   "source": [
    "\n",
    "#### Option 1 - Base sklearn Pandas example"
   ]
  },
  {
   "cell_type": "code",
   "execution_count": 24,
   "metadata": {},
   "outputs": [],
   "source": [
    "\n",
    "\n",
    "def split_target(df, target_col='away_winner_wts'):\n",
    "    df = df.copy()\n",
    "    target = df.pop(target_col)\n",
    "    return df, target\n",
    "\n",
    "def normalize_df(df):\n",
    "    scaler = StandardScaler()\n",
    "    data, target = split_target(df)\n",
    "    data = pd.DataFrame(scaler.fit_transform(data), columns=data.columns)\n",
    "    return data, target\n",
    "\n",
    "def get_data(file):\n",
    "    df = pd.read_csv(f'../final_stats/preprocessed_3/{file}', index_col=[0])\n",
    "    data, target = normalize_df(df)\n",
    "    return data, target\n"
   ]
  },
  {
   "cell_type": "code",
   "execution_count": 25,
   "metadata": {},
   "outputs": [],
   "source": [
    "def get_max_ave_acc_min_ave_loss(acc_histories, loss_histories):\n",
    "    num_epochs = len(acc_histories[0])\n",
    "    average_acc_history = [\n",
    "        np.mean([x[i] for x in acc_histories]) for i in range(num_epochs)\n",
    "    ]\n",
    "    index_acc = np.argmax(average_acc_history)\n",
    "    max_acc = round(average_acc_history[index_acc]*100,2)\n",
    "    print(f'\\nMax Average Accuracy: {max_acc}% \\t Num Epochs: {index_acc + 1} ')\n",
    "\n",
    "    average_loss_history = [\n",
    "        np.mean([x[i] for x in loss_histories]) for i in range(num_epochs)\n",
    "    ]\n",
    "    index_loss = np.argmin(average_loss_history)\n",
    "    min_loss = round(average_loss_history[index_loss], 2)\n",
    "    print(f'Min Average Loss: {min_loss} \\t Num Epochs: {index_loss + 1} ')\n",
    "    return"
   ]
  },
  {
   "attachments": {},
   "cell_type": "markdown",
   "metadata": {},
   "source": [
    "### Fresh look at this"
   ]
  },
  {
   "cell_type": "code",
   "execution_count": 36,
   "metadata": {},
   "outputs": [],
   "source": [
    "def get_val_and_train(data, i, num_val_samples):\n",
    "    val = data[i * num_val_samples: (i + 1) * num_val_samples]\n",
    "    train = np.concatenate(\n",
    "                    [data[:i * num_val_samples],\n",
    "                    data[(i + 1) * num_val_samples:]],\n",
    "                    axis=0\n",
    "                )\n",
    "    return val, train\n",
    "\n",
    "\n",
    "def run_k_fold(x, y, build_m, num_epochs=30, k=10, n_repeats=10):\n",
    "    num_val_samples = len(x) // k\n",
    "    all_scores = [] \n",
    "    \n",
    "    all_histories = []\n",
    "    acc_histories = []\n",
    "    loss_histories = []\n",
    "    curr_fold = 0\n",
    "    total_folds = k*n_repeats\n",
    "    # cv = RepeatedKFold(10, 10, 99)\n",
    "    for n in range(n_repeats):\n",
    "        xs, ys = shuffle_data(x,y,n)\n",
    "        for i in range(k):\n",
    "            curr_fold = curr_fold + 1\n",
    "            if curr_fold % 10 == 0:\n",
    "                print(f\"Fold {curr_fold}/{total_folds}\")\n",
    " \n",
    "            X_val, X_train = get_val_and_train(xs, i, num_val_samples)\n",
    "            y_val, y_train = get_val_and_train(ys, i, num_val_samples)\n",
    "\n",
    "            model = build_m()\n",
    "            \n",
    "            history = model.fit(\n",
    "                    X_train, y_train, \n",
    "                    validation_data=(X_val, y_val),\n",
    "                    epochs=num_epochs, batch_size=16, verbose=0\n",
    "                )\n",
    "            \n",
    "            all_histories.append(history.history)\n",
    "            acc_histories.append(history.history['val_accuracy'])\n",
    "            loss_histories.append(history.history['val_loss'])\n",
    "\n",
    "    get_max_ave_acc_min_ave_loss(acc_histories, loss_histories)\n",
    "    plot_ave_acc_and_loss_histories(acc_histories, loss_histories)\n",
    "    return [all_histories, acc_histories, loss_histories]"
   ]
  },
  {
   "attachments": {},
   "cell_type": "markdown",
   "metadata": {},
   "source": [
    "RMS Default (1e-3): 56.8%\n",
    "RMS 1e-4: 51.5%\n",
    "Adam 1e-4: 49.9%\n",
    "Adam 1e-3: 54.3%"
   ]
  },
  {
   "attachments": {},
   "cell_type": "markdown",
   "metadata": {},
   "source": [
    "### Keras Tune Build Model"
   ]
  },
  {
   "cell_type": "code",
   "execution_count": 100,
   "metadata": {},
   "outputs": [
    {
     "data": {
      "text/plain": [
       "<keras.engine.sequential.Sequential at 0x196a0a9ee60>"
      ]
     },
     "execution_count": 100,
     "metadata": {},
     "output_type": "execute_result"
    }
   ],
   "source": [
    "def build_model_2(hp):\n",
    "    model = keras.Sequential()\n",
    "    # dense layers\n",
    "    for i in range(hp.Int('num_layers', 1, 10)):\n",
    "        model.add(\n",
    "            layers.Dense(\n",
    "                units= hp.Int(f'units_{i}', min_value=16, max_value=2048, step=32),\n",
    "                activation= hp.Choice('activation', ['relu','tanh'])\n",
    "            )   \n",
    "        )\n",
    "        if hp.Boolean('dropout'):\n",
    "            model.add(layers.Dropout(\n",
    "                rate=hp.Float('do_rate', min_value=0.1, max_value=0.8, step=0.1)\n",
    "                )\n",
    "            )\n",
    "    # dropout layer\n",
    "    # output layer\n",
    "    model.add(layers.Dense(1, activation='sigmoid'))\n",
    "\n",
    "    #learning rate\n",
    "    learning_rate = hp.Float('lr', min_value=1e-5, max_value=1e-1, sampling='log')\n",
    "    \n",
    "    model.compile(\n",
    "        optimizer=keras.optimizers.Adam(learning_rate=learning_rate), \n",
    "        loss='binary_crossentropy', \n",
    "        metrics=['accuracy']\n",
    "    )\n",
    "\n",
    "    return model\n",
    "\n",
    "build_model_2(keras_tuner.HyperParameters())"
   ]
  },
  {
   "attachments": {},
   "cell_type": "markdown",
   "metadata": {},
   "source": [
    "#### Create Tuner"
   ]
  },
  {
   "cell_type": "code",
   "execution_count": 101,
   "metadata": {},
   "outputs": [
    {
     "name": "stdout",
     "output_type": "stream",
     "text": [
      "Search space summary\n",
      "Default search space size: 5\n",
      "num_layers (Int)\n",
      "{'default': None, 'conditions': [], 'min_value': 1, 'max_value': 10, 'step': 1, 'sampling': 'linear'}\n",
      "units_0 (Int)\n",
      "{'default': None, 'conditions': [], 'min_value': 16, 'max_value': 2048, 'step': 32, 'sampling': 'linear'}\n",
      "activation (Choice)\n",
      "{'default': 'relu', 'conditions': [], 'values': ['relu', 'tanh'], 'ordered': False}\n",
      "dropout (Boolean)\n",
      "{'default': False, 'conditions': []}\n",
      "lr (Float)\n",
      "{'default': 1e-05, 'conditions': [], 'min_value': 1e-05, 'max_value': 0.1, 'step': None, 'sampling': 'log'}\n"
     ]
    }
   ],
   "source": [
    "x, y = get_data(files[0])  # NumPy data\n",
    "\n",
    "tuner = keras_tuner.RandomSearch(\n",
    "    hypermodel = build_model_2,\n",
    "    objective='val_accuracy',\n",
    "    max_trials=500,\n",
    "    executions_per_trial=3, # how many times to try the same combination of hps\n",
    "    overwrite=True,\n",
    "    directory='./nn_models',\n",
    ")\n",
    "tuner.search_space_summary()\n",
    "# tuner.search(x, y, batch_size=64, epochs=30)"
   ]
  },
  {
   "attachments": {},
   "cell_type": "markdown",
   "metadata": {},
   "source": [
    "#### Split data for Test and Train"
   ]
  },
  {
   "cell_type": "code",
   "execution_count": 102,
   "metadata": {},
   "outputs": [],
   "source": [
    "x,y = get_data(files[0])\n",
    "X_val, X_train = get_val_and_train(x, 1, num_val_samples = len(x) // 5)\n",
    "y_val, y_train = get_val_and_train(y, 1, num_val_samples = len(x) // 5)\n"
   ]
  },
  {
   "attachments": {},
   "cell_type": "markdown",
   "metadata": {},
   "source": [
    "#### Run Search"
   ]
  },
  {
   "cell_type": "code",
   "execution_count": 103,
   "metadata": {},
   "outputs": [
    {
     "name": "stdout",
     "output_type": "stream",
     "text": [
      "Trial 500 Complete [00h 00m 19s]\n",
      "val_accuracy: 0.6507936716079712\n",
      "\n",
      "Best val_accuracy So Far: 0.7777777910232544\n",
      "Total elapsed time: 02h 11m 16s\n",
      "INFO:tensorflow:Oracle triggered exit\n"
     ]
    }
   ],
   "source": [
    "tuner.search(\n",
    "    X_train, \n",
    "    y_train, \n",
    "    epochs=30, \n",
    "    batch_size=64, \n",
    "    validation_data=(X_val, y_val)\n",
    ")"
   ]
  },
  {
   "attachments": {},
   "cell_type": "markdown",
   "metadata": {},
   "source": [
    "#### Search Results"
   ]
  },
  {
   "cell_type": "code",
   "execution_count": 109,
   "metadata": {},
   "outputs": [
    {
     "name": "stdout",
     "output_type": "stream",
     "text": [
      "Results summary\n",
      "Results in ./nn_models\\untitled_project\n",
      "Showing 10 best trials\n",
      "<keras_tuner.engine.objective.Objective object at 0x00000196A0A9C580>\n",
      "Trial summary\n",
      "Hyperparameters:\n",
      "num_layers: 9\n",
      "units_0: 656\n",
      "activation: tanh\n",
      "dropout: True\n",
      "lr: 0.0039062177493685967\n",
      "units_1: 720\n",
      "units_2: 1168\n",
      "units_3: 400\n",
      "units_4: 1072\n",
      "do_rate: 0.2\n",
      "units_5: 560\n",
      "units_6: 592\n",
      "units_7: 1968\n",
      "units_8: 1040\n",
      "units_9: 1520\n",
      "Score: 0.7777777910232544\n",
      "Trial summary\n",
      "Hyperparameters:\n",
      "num_layers: 9\n",
      "units_0: 1328\n",
      "activation: relu\n",
      "dropout: True\n",
      "lr: 9.486902167151127e-05\n",
      "units_1: 272\n",
      "units_2: 720\n",
      "units_3: 1552\n",
      "units_4: 1008\n",
      "do_rate: 0.2\n",
      "units_5: 976\n",
      "units_6: 1168\n",
      "units_7: 560\n",
      "units_8: 496\n",
      "Score: 0.7301587462425232\n",
      "Trial summary\n",
      "Hyperparameters:\n",
      "num_layers: 9\n",
      "units_0: 1392\n",
      "activation: tanh\n",
      "dropout: True\n",
      "lr: 0.000294920699630526\n",
      "units_1: 752\n",
      "units_2: 400\n",
      "units_3: 1008\n",
      "units_4: 1616\n",
      "do_rate: 0.2\n",
      "units_5: 2000\n",
      "units_6: 1328\n",
      "units_7: 816\n",
      "units_8: 880\n",
      "units_9: 208\n",
      "Score: 0.7301587462425232\n",
      "Trial summary\n",
      "Hyperparameters:\n",
      "num_layers: 2\n",
      "units_0: 752\n",
      "activation: tanh\n",
      "dropout: False\n",
      "lr: 0.0252332939991115\n",
      "units_1: 624\n",
      "units_2: 1712\n",
      "units_3: 1040\n",
      "units_4: 1424\n",
      "do_rate: 0.4\n",
      "units_5: 208\n",
      "units_6: 528\n",
      "units_7: 48\n",
      "units_8: 1712\n",
      "units_9: 1072\n",
      "Score: 0.7301587462425232\n",
      "Trial summary\n",
      "Hyperparameters:\n",
      "num_layers: 6\n",
      "units_0: 240\n",
      "activation: tanh\n",
      "dropout: False\n",
      "lr: 0.004532234057437377\n",
      "units_1: 528\n",
      "units_2: 2000\n",
      "units_3: 1712\n",
      "units_4: 1872\n",
      "do_rate: 0.1\n",
      "units_5: 848\n",
      "units_6: 2000\n",
      "units_7: 1680\n",
      "units_8: 2000\n",
      "units_9: 528\n",
      "Score: 0.7301587462425232\n",
      "Trial summary\n",
      "Hyperparameters:\n",
      "num_layers: 7\n",
      "units_0: 144\n",
      "activation: tanh\n",
      "dropout: True\n",
      "lr: 1.7075567238425964e-05\n",
      "units_1: 304\n",
      "units_2: 1360\n",
      "units_3: 1680\n",
      "units_4: 1616\n",
      "do_rate: 0.1\n",
      "units_5: 1040\n",
      "units_6: 144\n",
      "units_7: 1872\n",
      "units_8: 1744\n",
      "units_9: 1968\n",
      "Score: 0.7301587462425232\n",
      "Trial summary\n",
      "Hyperparameters:\n",
      "num_layers: 8\n",
      "units_0: 432\n",
      "activation: relu\n",
      "dropout: True\n",
      "lr: 1.93864672991614e-05\n",
      "units_1: 944\n",
      "units_2: 1168\n",
      "units_3: 1136\n",
      "units_4: 1744\n",
      "do_rate: 0.30000000000000004\n",
      "units_5: 2000\n",
      "units_6: 1616\n",
      "units_7: 1072\n",
      "units_8: 496\n",
      "units_9: 1616\n",
      "Score: 0.7301587462425232\n",
      "Trial summary\n",
      "Hyperparameters:\n",
      "num_layers: 1\n",
      "units_0: 368\n",
      "activation: relu\n",
      "dropout: False\n",
      "lr: 0.0012043907945913914\n",
      "units_1: 1968\n",
      "units_2: 1904\n",
      "units_3: 240\n",
      "units_4: 1232\n",
      "do_rate: 0.4\n",
      "units_5: 1840\n",
      "units_6: 1936\n",
      "units_7: 48\n",
      "units_8: 1424\n",
      "units_9: 336\n",
      "Score: 0.7301587462425232\n",
      "Trial summary\n",
      "Hyperparameters:\n",
      "num_layers: 8\n",
      "units_0: 1776\n",
      "activation: tanh\n",
      "dropout: True\n",
      "lr: 0.007631775654498817\n",
      "units_1: 1552\n",
      "units_2: 272\n",
      "units_3: 880\n",
      "units_4: 1392\n",
      "do_rate: 0.7000000000000001\n",
      "units_5: 112\n",
      "units_6: 144\n",
      "units_7: 80\n",
      "units_8: 560\n",
      "units_9: 1552\n",
      "Score: 0.7301587462425232\n",
      "Trial summary\n",
      "Hyperparameters:\n",
      "num_layers: 4\n",
      "units_0: 1392\n",
      "activation: relu\n",
      "dropout: False\n",
      "lr: 1.4204765392361239e-05\n",
      "units_1: 1872\n",
      "units_2: 208\n",
      "units_3: 272\n",
      "units_4: 1456\n",
      "do_rate: 0.1\n",
      "units_5: 112\n",
      "units_6: 1072\n",
      "units_7: 1008\n",
      "units_8: 2000\n",
      "units_9: 240\n",
      "Score: 0.7301587462425232\n"
     ]
    }
   ],
   "source": [
    "tuner.results_summary()"
   ]
  },
  {
   "attachments": {},
   "cell_type": "markdown",
   "metadata": {},
   "source": [
    "#### Get Best Model Summary"
   ]
  },
  {
   "cell_type": "code",
   "execution_count": 105,
   "metadata": {},
   "outputs": [
    {
     "name": "stdout",
     "output_type": "stream",
     "text": [
      "WARNING:tensorflow:Detecting that an object or model or tf.train.Checkpoint is being deleted with unrestored values. See the following logs for the specific values in question. To silence these warnings, use `status.expect_partial()`. See https://www.tensorflow.org/api_docs/python/tf/train/Checkpoint#restorefor details about the status object returned by the restore function.\n",
      "WARNING:tensorflow:Value in checkpoint could not be found in the restored object: (root).optimizer.iter\n",
      "WARNING:tensorflow:Value in checkpoint could not be found in the restored object: (root).optimizer.beta_1\n",
      "WARNING:tensorflow:Value in checkpoint could not be found in the restored object: (root).optimizer.beta_2\n",
      "WARNING:tensorflow:Value in checkpoint could not be found in the restored object: (root).optimizer.decay\n",
      "WARNING:tensorflow:Value in checkpoint could not be found in the restored object: (root).optimizer.learning_rate\n",
      "Model: \"sequential\"\n",
      "_________________________________________________________________\n",
      " Layer (type)                Output Shape              Param #   \n",
      "=================================================================\n",
      " dense (Dense)               (82, 656)                 93808     \n",
      "                                                                 \n",
      " dropout (Dropout)           (82, 656)                 0         \n",
      "                                                                 \n",
      " dense_1 (Dense)             (82, 720)                 473040    \n",
      "                                                                 \n",
      " dropout_1 (Dropout)         (82, 720)                 0         \n",
      "                                                                 \n",
      " dense_2 (Dense)             (82, 1168)                842128    \n",
      "                                                                 \n",
      " dropout_2 (Dropout)         (82, 1168)                0         \n",
      "                                                                 \n",
      " dense_3 (Dense)             (82, 400)                 467600    \n",
      "                                                                 \n",
      " dropout_3 (Dropout)         (82, 400)                 0         \n",
      "                                                                 \n",
      " dense_4 (Dense)             (82, 1072)                429872    \n",
      "                                                                 \n",
      " dropout_4 (Dropout)         (82, 1072)                0         \n",
      "                                                                 \n",
      " dense_5 (Dense)             (82, 560)                 600880    \n",
      "                                                                 \n",
      " dropout_5 (Dropout)         (82, 560)                 0         \n",
      "                                                                 \n",
      " dense_6 (Dense)             (82, 592)                 332112    \n",
      "                                                                 \n",
      " dropout_6 (Dropout)         (82, 592)                 0         \n",
      "                                                                 \n",
      " dense_7 (Dense)             (82, 1968)                1167024   \n",
      "                                                                 \n",
      " dropout_7 (Dropout)         (82, 1968)                0         \n",
      "                                                                 \n",
      " dense_8 (Dense)             (82, 1040)                2047760   \n",
      "                                                                 \n",
      " dropout_8 (Dropout)         (82, 1040)                0         \n",
      "                                                                 \n",
      " dense_9 (Dense)             (82, 1)                   1041      \n",
      "                                                                 \n",
      "=================================================================\n",
      "Total params: 6,455,265\n",
      "Trainable params: 6,455,265\n",
      "Non-trainable params: 0\n",
      "_________________________________________________________________\n"
     ]
    }
   ],
   "source": [
    "models = tuner.get_best_models(2)\n",
    "best_model = models[0]\n",
    "best_model.build(input_shape = (82,142))\n",
    "best_model.summary()"
   ]
  },
  {
   "attachments": {},
   "cell_type": "markdown",
   "metadata": {},
   "source": [
    "#### Get Best HyperParams"
   ]
  },
  {
   "cell_type": "code",
   "execution_count": 131,
   "metadata": {},
   "outputs": [],
   "source": [
    "# get best hps\n",
    "best_hps = tuner.get_best_hyperparameters(5)\n",
    "# model_best = build_model_2(best_hps[0])"
   ]
  },
  {
   "attachments": {},
   "cell_type": "markdown",
   "metadata": {},
   "source": [
    "#### Repeated KFold Using Best HPs"
   ]
  },
  {
   "cell_type": "code",
   "execution_count": 128,
   "metadata": {},
   "outputs": [],
   "source": [
    "def run_k_fold_hps(x, y, build_m, hps, num_epochs=30, k=10, n_repeats=10):\n",
    "    num_val_samples = len(x) // k\n",
    "    all_scores = [] \n",
    "    \n",
    "    all_histories = []\n",
    "    acc_histories = []\n",
    "    loss_histories = []\n",
    "    curr_fold = 0\n",
    "    total_folds = k*n_repeats\n",
    "    # cv = RepeatedKFold(10, 10, 99)\n",
    "    for n in range(n_repeats):\n",
    "        xs, ys = shuffle_data(x,y,n)\n",
    "        for i in range(k):\n",
    "            curr_fold = curr_fold + 1\n",
    "            if curr_fold % 5 == 0:\n",
    "                print(f\"Fold {curr_fold}/{total_folds}\")\n",
    " \n",
    "            X_val, X_train = get_val_and_train(xs, i, num_val_samples)\n",
    "            y_val, y_train = get_val_and_train(ys, i, num_val_samples)\n",
    "\n",
    "            model = build_m(hps)\n",
    "            \n",
    "            history = model.fit(\n",
    "                    X_train, y_train, \n",
    "                    validation_data=(X_val, y_val),\n",
    "                    epochs=num_epochs, batch_size=16, verbose=0\n",
    "                )\n",
    "            \n",
    "            all_histories.append(history.history)\n",
    "            acc_histories.append(history.history['val_accuracy'])\n",
    "            loss_histories.append(history.history['val_loss'])\n",
    "\n",
    "    get_max_ave_acc_min_ave_loss(acc_histories, loss_histories)\n",
    "    plot_ave_acc_and_loss_histories(acc_histories, loss_histories)\n",
    "    return [all_histories, acc_histories, loss_histories]"
   ]
  },
  {
   "cell_type": "code",
   "execution_count": 116,
   "metadata": {},
   "outputs": [
    {
     "name": "stdout",
     "output_type": "stream",
     "text": [
      "Fold 10/50\n",
      "Fold 20/50\n",
      "Fold 30/50\n",
      "Fold 40/50\n",
      "Fold 50/50\n",
      "\n",
      "Max Average Accuracy: 67.6% \t Num Epochs: 25 \n",
      "Min Average Loss: 0.56 \t Num Epochs: 2 \n"
     ]
    },
    {
     "data": {
      "image/png": "[encoded data removed]",
      "text/plain": [
       "<Figure size 1080x360 with 2 Axes>"
      ]
     },
     "metadata": {
      "needs_background": "light"
     },
     "output_type": "display_data"
    }
   ],
   "source": [
    "hists_best = run_k_fold_hps(x, y, model_best, 30, 10, 5)\n"
   ]
  },
  {
   "cell_type": "code",
   "execution_count": 124,
   "metadata": {},
   "outputs": [
    {
     "data": {
      "text/plain": [
       "50"
      ]
     },
     "execution_count": 124,
     "metadata": {},
     "output_type": "execute_result"
    }
   ],
   "source": [
    "len(hists_best[0])"
   ]
  },
  {
   "attachments": {},
   "cell_type": "markdown",
   "metadata": {},
   "source": [
    "#### Best params 1"
   ]
  },
  {
   "cell_type": "code",
   "execution_count": 127,
   "metadata": {},
   "outputs": [
    {
     "name": "stdout",
     "output_type": "stream",
     "text": [
      "Fold 5/50\n",
      "Fold 10/50\n",
      "Fold 15/50\n",
      "Fold 20/50\n",
      "Fold 25/50\n",
      "Fold 30/50\n",
      "Fold 35/50\n",
      "Fold 40/50\n",
      "Fold 45/50\n",
      "Fold 50/50\n",
      "\n",
      "Max Average Accuracy: 53.4% \t Num Epochs: 27 \n",
      "Min Average Loss: 0.74 \t Num Epochs: 11 \n"
     ]
    },
    {
     "data": {
      "image/png": "[encoded data removed]",
      "text/plain": [
       "<Figure size 1080x360 with 2 Axes>"
      ]
     },
     "metadata": {
      "needs_background": "light"
     },
     "output_type": "display_data"
    }
   ],
   "source": [
    "hists_best2 = run_k_fold_hps(x, y, build_model_2, best_hps, 50, 10, 5)"
   ]
  },
  {
   "cell_type": "markdown",
   "metadata": {},
   "source": [
    "#### Best params 1"
   ]
  },
  {
   "cell_type": "code",
   "execution_count": 133,
   "metadata": {},
   "outputs": [
    {
     "name": "stdout",
     "output_type": "stream",
     "text": [
      "Fold 5/50\n",
      "Fold 10/50\n",
      "Fold 15/50\n",
      "Fold 20/50\n",
      "Fold 25/50\n",
      "Fold 30/50\n",
      "Fold 35/50\n",
      "Fold 40/50\n",
      "Fold 45/50\n",
      "Fold 50/50\n",
      "\n",
      "Max Average Accuracy: 55.8% \t Num Epochs: 50 \n",
      "Min Average Loss: 0.7 \t Num Epochs: 1 \n"
     ]
    },
    {
     "data": {
      "image/png": "[encoded data removed]",
      "text/plain": [
       "<Figure size 1080x360 with 2 Axes>"
      ]
     },
     "metadata": {
      "needs_background": "light"
     },
     "output_type": "display_data"
    }
   ],
   "source": [
    "hists_best3 = run_k_fold_hps(x, y, build_model_2, best_hps[1], 50, 10, 5)"
   ]
  },
  {
   "cell_type": "code",
   "execution_count": 63,
   "metadata": {},
   "outputs": [],
   "source": [
    "def plot_train_val_loss(history):\n",
    "    loss = history.history['loss']\n",
    "    val_loss = history.history['val_loss']\n",
    "\n",
    "    epochs = range(1, len(loss) + 1)\n",
    "\n",
    "    blue_dots = 'bo'\n",
    "    solid_blue_line = 'b'\n",
    "\n",
    "    plt.plot(epochs, loss, blue_dots, label = 'Training loss')\n",
    "    plt.plot(epochs, val_loss, solid_blue_line, label = 'Validation loss')\n",
    "    plt.title('Training and validation loss')\n",
    "    plt.xlabel('Epochs')\n",
    "    plt.ylabel('Loss')\n",
    "    plt.legend()\n",
    "\n",
    "    plt.show()\n",
    "    \n",
    "def plot_train_val_acc(history):\n",
    "    plt.clf()\n",
    "\n",
    "    acc = history.history['accuracy']\n",
    "    val_acc = history.history['val_accuracy']\n",
    "        \n",
    "    epochs = range(1, len(acc) + 1)\n",
    "\n",
    "    blue_dots = 'bo'\n",
    "    solid_blue_line = 'b'\n",
    "        \n",
    "    plt.plot(epochs, acc, blue_dots, label = 'Training Accuracy')\n",
    "    plt.plot(epochs, val_acc, solid_blue_line, label = 'Validation Accuracy')\n",
    "    plt.title('Training and validation acc')\n",
    "    plt.xlabel('Epochs')\n",
    "    plt.ylabel('Accuracy')\n",
    "    plt.legend()\n",
    "\n",
    "def plot_train_val_loss_acc(history):\n",
    "    acc = history.history['accuracy']\n",
    "    val_acc = history.history['val_accuracy']\n",
    "\n",
    "    loss = history.history['loss']\n",
    "    val_loss = history.history['val_loss']\n",
    "\n",
    "    epochs_range = range(1, len(acc) + 1)\n",
    "    blue_dots = 'bo'\n",
    "    solid_blue_line = 'b'\n",
    "\n",
    "    plt.figure(figsize=(15, 5))\n",
    "\n",
    "    plt.subplot(1, 2, 1)\n",
    "    # plt.plot(epochs_range, acc, label='Training Accuracy')\n",
    "    # plt.plot(epochs_range, val_acc, label='Validation Accuracy')\n",
    "    \n",
    " \n",
    "    plt.plot(epochs_range, acc, blue_dots, label = 'Training Accuracy')\n",
    "    plt.plot(epochs_range, val_acc, solid_blue_line, label = 'Validation Accuracy')\n",
    "    plt.legend(loc='lower right')\n",
    "    plt.title('Training and Validation Accuracy')\n",
    "    plt.xlabel('Epochs')\n",
    "    plt.ylabel('Accuracy')\n",
    "    plt.legend()\n",
    "\n",
    "    plt.subplot(1, 2, 2)\n",
    "    plt.plot(epochs_range, loss, blue_dots, label='Training Loss')\n",
    "    plt.plot(epochs_range, val_loss, solid_blue_line, label='Validation Loss')\n",
    "    plt.legend(loc='upper right')\n",
    "    plt.title('Training and Validation Loss')\n",
    "    plt.show()\n",
    "  \n",
    "def compare_loss_and_acc(hist1, hist2, title1, title2): \n",
    "    min_epochs = min(len(hist1.history['loss']), len(hist2.history['loss']))\n",
    "    \n",
    "    train_loss_1 = hist1['loss'][:min_epochs]\n",
    "    val_loss_1 = hist1['val_loss'][:min_epochs]\n",
    "\n",
    "    train_loss_2 = hist2['loss'][:min_epochs]\n",
    "    val_loss_2 = hist2['val_loss'][:min_epochs]\n",
    "\n",
    "\n",
    "    train_acc_1 = hist1['accuracy'][:min_epochs]\n",
    "    val_acc_1 = hist1['val_accuracy'][:min_epochs]\n",
    "\n",
    "    train_acc_2 = hist2['accuracy'][:min_epochs]\n",
    "    val_acc_2 = hist2['val_accuracy'][:min_epochs]\n",
    "\n",
    "    epochs = range(1, min_epochs + 1)\n",
    "\n",
    "    blue_dots = 'bo'\n",
    "    solid_blue_line = 'b'\n",
    "    red_dots = 'ro'\n",
    "    solid_red_line = 'r'\n",
    "\n",
    "    plt.figure(figsize=(15,5))\n",
    "    plt.subplot(1, 2, 1)\n",
    "\n",
    "    plt.plot(epochs, train_loss_1, blue_dots, label = f'{title1} Training Loss')\n",
    "    plt.plot(epochs, val_loss_1, solid_blue_line, label = f'{title1} Validation Loss')\n",
    "    plt.plot(epochs, train_loss_2, red_dots, label = f'{title2} Training Loss')\n",
    "    plt.plot(epochs, val_loss_2, solid_red_line, label = f'{title2} Validation Loss')\n",
    "    # plt.title('Loss With Dropout Layers')\n",
    "    plt.xlabel('Epochs')\n",
    "    plt.ylabel('Loss')\n",
    "    plt.legend()\n",
    "\n",
    "    plt.subplot(1, 2, 2)\n",
    "    plt.plot(epochs, train_acc_1, blue_dots, label = f'{title1} Training Accuracy')\n",
    "    plt.plot(epochs, val_acc_1, solid_blue_line, label = f'{title1} Validation Accuracy')\n",
    "    plt.plot(epochs, train_acc_2, red_dots, label = f'{title2} Training Accuracy')\n",
    "    plt.plot(epochs, val_acc_2, solid_red_line, label = f'{title2} Validation Accuracy')\n",
    "    # plt.title('Accuracy With Dropout Layers')\n",
    "    plt.xlabel('Epochs')\n",
    "    plt.ylabel('Accuracy')\n",
    "\n",
    "    plt.show()\n",
    "\n",
    "def compare_acc(hist1, hist2, title1, title2): \n",
    "    min_epochs = min(len(hist1.history['accuracy']), len(hist2.history['accuracy']))\n",
    "    acc = hist1.history['accuracy'][:min_epochs]\n",
    "    val_acc = hist1.history['val_accuracy'][:min_epochs]\n",
    "    acc_drop = hist2.history['accuracy'][:min_epochs]\n",
    "    val_acc_drop = hist2.history['val_accuracy'][:min_epochs]\n",
    "    \n",
    "    epochs = range(1, min_epochs + 1)\n",
    "\n",
    "    blue_dots = 'bo'\n",
    "    solid_blue_line = 'b'\n",
    "    red_dots = 'ro'\n",
    "    solid_red_line = 'r'\n",
    "\n",
    "    plt.plot(epochs, acc, blue_dots, label = f'{title1} Training Accuracy')\n",
    "    plt.plot(epochs, val_acc, solid_blue_line, label = f'{title1} Validation Accuracy')\n",
    "    plt.plot(epochs, acc_drop, red_dots, label = f'{title2} Training Accuracy')\n",
    "    plt.plot(epochs, val_acc_drop, solid_red_line, label = f'{title2} Validation Accuracy')\n",
    "    # plt.title('Accuracy With Dropout Layers')\n",
    "    plt.xlabel('Epochs')\n",
    "    plt.ylabel('Accuracy')\n",
    "    plt.legend()\n",
    "\n",
    "    plt.show()"
   ]
  }
 ],
 "metadata": {
  "kernelspec": {
   "display_name": "Python 3",
   "language": "python",
   "name": "python3"
  },
  "language_info": {
   "codemirror_mode": {
    "name": "ipython",
    "version": 3
   },
   "file_extension": ".py",
   "mimetype": "text/x-python",
   "name": "python",
   "nbconvert_exporter": "python",
   "pygments_lexer": "ipython3",
   "version": "3.10.2"
  },
  "orig_nbformat": 4,
  "vscode": {
   "interpreter": {
    "hash": "2fc6efb3340bf4aae142c4471c3414bb5b17e6e80ba42a259676c40f0503db89"
   }
  }
 },
 "nbformat": 4,
 "nbformat_minor": 2
}
