{
 "cells": [
  {
   "attachments": {},
   "cell_type": "markdown",
   "metadata": {},
   "source": [
    "## Filter out remaining multiple hashtag tweets\n",
    "When getting tweets from twitter query limited to 512 characters\n",
    "Could only limit up to hashtag #chiefs for each query\n",
    "Now need to create a filter for tweets collected for any tweets containing more than one team hashtag  \n",
    "\n",
    "1. Figure out list of hashtags left\n",
    "Ended on #chiefs for each query"
   ]
  },
  {
   "cell_type": "code",
   "execution_count": 93,
   "metadata": {},
   "outputs": [],
   "source": [
    "from hashtags_all import hashtags\n",
    "from hashtags_stripped import ht_flat, ht_half_1, ht_half_2\n",
    "import pandas as pd\n"
   ]
  },
  {
   "attachments": {},
   "cell_type": "markdown",
   "metadata": {},
   "source": [
    "2. Read into dataframe tweets"
   ]
  },
  {
   "cell_type": "code",
   "execution_count": 94,
   "metadata": {},
   "outputs": [],
   "source": [
    "# get team names into list\n",
    "team_list = hashtags.keys()\n"
   ]
  },
  {
   "cell_type": "code",
   "execution_count": 96,
   "metadata": {},
   "outputs": [
    {
     "data": {
      "text/html": [
       "<div>\n",
       "<style scoped>\n",
       "    .dataframe tbody tr th:only-of-type {\n",
       "        vertical-align: middle;\n",
       "    }\n",
       "\n",
       "    .dataframe tbody tr th {\n",
       "        vertical-align: top;\n",
       "    }\n",
       "\n",
       "    .dataframe thead th {\n",
       "        text-align: right;\n",
       "    }\n",
       "</style>\n",
       "<table border=\"1\" class=\"dataframe\">\n",
       "  <thead>\n",
       "    <tr style=\"text-align: right;\">\n",
       "      <th></th>\n",
       "      <th>team</th>\n",
       "      <th>timestamp</th>\n",
       "      <th>tweet_text</th>\n",
       "      <th>userid</th>\n",
       "    </tr>\n",
       "  </thead>\n",
       "  <tbody>\n",
       "    <tr>\n",
       "      <th>0</th>\n",
       "      <td>bears</td>\n",
       "      <td>2022-11-27 16:58:58+00:00</td>\n",
       "      <td>b'For the rest of the season, lol. #DaBears #B...</td>\n",
       "      <td>718550336575815680</td>\n",
       "    </tr>\n",
       "    <tr>\n",
       "      <th>1</th>\n",
       "      <td>bears</td>\n",
       "      <td>2022-11-27 16:58:31+00:00</td>\n",
       "      <td>b'\\xf0\\x9f\\x9a\\xa8BREAKING NEWS: Justin Fields...</td>\n",
       "      <td>1100098670324838403</td>\n",
       "    </tr>\n",
       "    <tr>\n",
       "      <th>2</th>\n",
       "      <td>bears</td>\n",
       "      <td>2022-11-27 16:57:45+00:00</td>\n",
       "      <td>b'#Jets RB James Robinson is a healthy inactiv...</td>\n",
       "      <td>1395552062650437635</td>\n",
       "    </tr>\n",
       "    <tr>\n",
       "      <th>3</th>\n",
       "      <td>bears</td>\n",
       "      <td>2022-11-27 16:55:18+00:00</td>\n",
       "      <td>b'AdamRonis: Justin Fields is inactive for the...</td>\n",
       "      <td>11221412</td>\n",
       "    </tr>\n",
       "    <tr>\n",
       "      <th>4</th>\n",
       "      <td>bears</td>\n",
       "      <td>2022-11-27 16:54:32+00:00</td>\n",
       "      <td>b'Now- my subscription is 7,77 cause I like it...</td>\n",
       "      <td>1239072082077667328</td>\n",
       "    </tr>\n",
       "  </tbody>\n",
       "</table>\n",
       "</div>"
      ],
      "text/plain": [
       "    team                  timestamp  \\\n",
       "0  bears  2022-11-27 16:58:58+00:00   \n",
       "1  bears  2022-11-27 16:58:31+00:00   \n",
       "2  bears  2022-11-27 16:57:45+00:00   \n",
       "3  bears  2022-11-27 16:55:18+00:00   \n",
       "4  bears  2022-11-27 16:54:32+00:00   \n",
       "\n",
       "                                          tweet_text               userid  \n",
       "0  b'For the rest of the season, lol. #DaBears #B...   718550336575815680  \n",
       "1  b'\\xf0\\x9f\\x9a\\xa8BREAKING NEWS: Justin Fields...  1100098670324838403  \n",
       "2  b'#Jets RB James Robinson is a healthy inactiv...  1395552062650437635  \n",
       "3  b'AdamRonis: Justin Fields is inactive for the...             11221412  \n",
       "4  b'Now- my subscription is 7,77 cause I like it...  1239072082077667328  "
      ]
     },
     "execution_count": 96,
     "metadata": {},
     "output_type": "execute_result"
    }
   ],
   "source": [
    "test_df = pd.read_csv('./team_data/wk_12/wk_12_bears_tweets.csv')\n",
    "test_df.head()"
   ]
  },
  {
   "attachments": {},
   "cell_type": "markdown",
   "metadata": {},
   "source": [
    "3. Filter out current team hashtags from list of all hashtags left to filter\n",
    "Should be left last half hashtags - team hashtags"
   ]
  },
  {
   "cell_type": "code",
   "execution_count": 97,
   "metadata": {},
   "outputs": [],
   "source": [
    "team_name = 'bears'\n",
    "def get_rest_hashtags(team_hashtags):\n",
    "    output = [b for b in ht_half_2 if all(a not in b for a in team_hashtags)]\n",
    "    return output\n",
    "\n",
    "def list_to_lowercase(list):\n",
    "    return [x.lower() for x in list]\n",
    "\n",
    "\n",
    "def get_non_team_hashtags_to_negate(team_name, hashtags):\n",
    "    team_hashtags = hashtags[str(team_name)]\n",
    "    print(team_hashtags)\n",
    "    non_team_hashtags = get_rest_hashtags(team_hashtags)\n",
    "    non_team_hashtags_lowercase = list_to_lowercase(non_team_hashtags)\n",
    "    return non_team_hashtags_lowercase"
   ]
  },
  {
   "cell_type": "code",
   "execution_count": 98,
   "metadata": {},
   "outputs": [],
   "source": [
    "def df_column_to_lowercase(df, column):\n",
    "    df[column].apply(lambda x: x.lower())\n",
    "    return df\n",
    "\n",
    "def filter_rows_df(df, hashtags):\n",
    "    return df[~df['tweet_text'].str.contains('|'.join(hashtags))]"
   ]
  },
  {
   "attachments": {},
   "cell_type": "markdown",
   "metadata": {},
   "source": [
    "# need to deal with lowercase - make all tweets lowercase then do search with lowercase hashtags"
   ]
  },
  {
   "cell_type": "code",
   "execution_count": 99,
   "metadata": {},
   "outputs": [],
   "source": [
    "\n",
    "def get_cleaned_df(filename, wk):\n",
    "    # get info\n",
    "    df = pd.read_csv(f'./team_data/wk_{wk}/{filename}')\n",
    "    # get team name\n",
    "    team_name = df.team[0]\n",
    "    print(team_name)\n",
    "    # get other team hashtags\n",
    "    negate_hashtags = get_non_team_hashtags_to_negate(team_name, hashtags)\n",
    "    # convert df tweets to lowercase\n",
    "    df_lc = df_column_to_lowercase(df, 'tweet_text')\n",
    "    \n",
    "    # new df with only tweets with team hashtags\n",
    "    clean_df = filter_rows_df(df, negate_hashtags)\n",
    "\n",
    "    # inital length\n",
    "    init_row_length = len(df.index)\n",
    "    new_row_length = len(clean_df.index)\n",
    "    num_rows_removed = init_row_length - new_row_length\n",
    "    # get rows removed\n",
    "    print(str(num_rows_removed), 'rows removed \\t', new_row_length, ' remaining')\n",
    "    # create info about rows removed\n",
    "    info = [team_name, wk, init_row_length, num_rows_removed, new_row_length]\n",
    "    \n",
    "    return clean_df, team_name, info"
   ]
  },
  {
   "cell_type": "code",
   "execution_count": 91,
   "metadata": {},
   "outputs": [],
   "source": [
    "def get_cleaned_df_2(df, wk):\n",
    "    # get team name\n",
    "    team_name = df.team[0]\n",
    "    print(team_name)\n",
    "    # get other team hashtags\n",
    "    negate_hashtags = get_non_team_hashtags_to_negate(team_name, hashtags)\n",
    "    \n",
    "    # convert df tweets to lowercase\n",
    "    df_lc = df_column_to_lowercase(df, 'tweet_text')\n",
    "\n",
    "    # new df with only tweets with team hashtags\n",
    "    clean_df = filter_rows_df(df_lc, negate_hashtags)\n",
    "\n",
    "\n",
    "    # inital length\n",
    "    init_row_length = len(df.index)\n",
    "    new_row_length = len(clean_df.index)\n",
    "    num_rows_removed = init_row_length - new_row_length\n",
    "    # get rows removed\n",
    "    print(str(num_rows_removed), 'rows removed \\t', new_row_length, ' remaining')\n",
    "    # create info about rows removed\n",
    "    info = [team_name, wk, init_row_length, num_rows_removed, new_row_length]\n",
    "    \n",
    "    return clean_df, team_name, info"
   ]
  },
  {
   "attachments": {},
   "cell_type": "markdown",
   "metadata": {},
   "source": [
    "### get file names for each week folder"
   ]
  },
  {
   "cell_type": "code",
   "execution_count": 101,
   "metadata": {},
   "outputs": [
    {
     "data": {
      "text/plain": [
       "['wk_12_49ers_tweets.csv',\n",
       " 'wk_12_bears_tweets.csv',\n",
       " 'wk_12_bengals_tweets.csv']"
      ]
     },
     "execution_count": 101,
     "metadata": {},
     "output_type": "execute_result"
    }
   ],
   "source": [
    "import os \n",
    "def iterate_through_files(week):\n",
    "    path = f'./team_data/wk_{week}'\n",
    "    results = os.listdir(path)\n",
    "    return results\n",
    "\n",
    "iterate_through_files('12')[:3]"
   ]
  },
  {
   "attachments": {},
   "cell_type": "markdown",
   "metadata": {},
   "source": [
    "### Run through folder and filter hashtags for each file\n",
    "1. get filenames from folder by week number [12:18]\n",
    "2. for each file name get dataframe\n",
    "3. filter by hashtags for each dataframe\n",
    "4. Return new df, team name, info\n",
    "5. Put info into array (info about how many tweets were removed)\n",
    "6. Save new dataframe to csv file\n",
    "7. Save info data to csv file"
   ]
  },
  {
   "cell_type": "code",
   "execution_count": 106,
   "metadata": {},
   "outputs": [],
   "source": [
    "import csv \n",
    "\n",
    "def clean_all_files(week):\n",
    "    file_paths = iterate_through_files(week)\n",
    "    \n",
    "    cleaning_info = []\n",
    "    for path in file_paths:\n",
    "        df,team, info = get_cleaned_df(path, week)\n",
    "        cleaning_info.append(info)\n",
    "        new_path = f'./team_tweets/wk_{week}/wk_{week}_{team}_hash_filtered.csv'\n",
    "        df.to_csv(new_path)\n",
    "    with open('cleaning_info_results.csv', 'a') as f:\n",
    "        write = csv.writer(f)\n",
    "        # write.writerow(['team','week','rows_initial','rows_removed','rows_remaining'])\n",
    "        write.writerows(cleaning_info)\n"
   ]
  },
  {
   "cell_type": "code",
   "execution_count": 113,
   "metadata": {},
   "outputs": [
    {
     "name": "stdout",
     "output_type": "stream",
     "text": [
      "49ers\n",
      "['#FTTB', '#49ers']\n",
      "17 rows removed \t 3188  remaining\n",
      "bears\n",
      "['#DaBears', '#BearsNation', '#Bears']\n",
      "24 rows removed \t 3091  remaining\n",
      "bengals\n",
      "['#RuleTheJungle', '#Bengals', '#WhoDey']\n",
      "8 rows removed \t 5537  remaining\n",
      "bills\n",
      "['#billsmafia', '#gobills', '#bills']\n",
      "61 rows removed \t 7932  remaining\n",
      "broncos\n",
      "['#BroncosCountry', '#LetsRide', '#Broncos']\n",
      "24 rows removed \t 2587  remaining\n",
      "browns\n",
      "['#Browns', '#ClevelandBrowns ', '#DawgPound']\n",
      "25 rows removed \t 4275  remaining\n",
      "buccaneers\n",
      "['#GoBucs', '#bucs', '#buccaneers']\n",
      "3 rows removed \t 1458  remaining\n",
      "cardinals\n",
      "['#BirdCityFootball', '#cardinals', '#AZCardinals']\n",
      "109 rows removed \t 949  remaining\n",
      "chargers\n",
      "['#BoltUp', '#Chargers']\n",
      "9 rows removed \t 1555  remaining\n",
      "chiefs\n",
      "['#ChiefsKingdom', '#Chiefs']\n",
      "42 rows removed \t 4684  remaining\n",
      "colts\n",
      "['#ForTheShoe', '#Colts']\n",
      "9 rows removed \t 1294  remaining\n",
      "commanders\n",
      "['#commanders', 'httc']\n",
      "192 rows removed \t 1869  remaining\n",
      "cowboys\n",
      "['#DallasCowboys', '#Cowboys']\n",
      "39 rows removed \t 2954  remaining\n",
      "dolphins\n",
      "['#FinsUp', '#dolphins']\n",
      "30 rows removed \t 4446  remaining\n",
      "eagles\n",
      "['#FlyEaglesFly', '#Eagles']\n",
      "52 rows removed \t 4475  remaining\n",
      "falcons\n",
      "['#DirtyBirds', '#Falcons']\n",
      "3 rows removed \t 802  remaining\n",
      "giants\n",
      "['#TogetherBlue', '#giants']\n",
      "52 rows removed \t 2774  remaining\n",
      "jaguars\n",
      "['#DUUUVAL', '#Jags', '#Jaguars']\n",
      "58 rows removed \t 4455  remaining\n",
      "jets\n",
      "['#TakeFlight', '#Jets']\n",
      "36 rows removed \t 3176  remaining\n",
      "lions\n",
      "['#OnePride', '#Lions ']\n",
      "37 rows removed \t 5196  remaining\n",
      "packers\n",
      "['#GoPackGo', '#Packers']\n",
      "24 rows removed \t 5112  remaining\n",
      "panthers\n",
      "['#keeppounding', '#panthers']\n",
      "8 rows removed \t 1214  remaining\n",
      "patriots\n",
      "['#ForeverNE', '#Patriots']\n",
      "6 rows removed \t 2706  remaining\n",
      "raiders\n",
      "['#RaiderNation', '#Raiders']\n",
      "33 rows removed \t 3779  remaining\n",
      "rams\n",
      "['#RamsHouse', '#Rams']\n",
      "19 rows removed \t 1117  remaining\n",
      "ravens\n",
      "['#ravens']\n",
      "7 rows removed \t 897  remaining\n",
      "saints\n",
      "['#Saints']\n",
      "8 rows removed \t 1167  remaining\n",
      "seahawks\n",
      "['#seahawks']\n",
      "93 rows removed \t 1069  remaining\n",
      "steelers\n",
      "['#HereWeGo', '#Steelers']\n",
      "12 rows removed \t 4464  remaining\n",
      "texans\n",
      "['#WeAreTexans', '#Texans']\n",
      "6 rows removed \t 1156  remaining\n",
      "titans\n",
      "['#titans']\n",
      "207 rows removed \t 2090  remaining\n",
      "vikings\n",
      "['#SKOL', '#vikings']\n",
      "15 rows removed \t 2687  remaining\n"
     ]
    }
   ],
   "source": [
    "# week numbers\n",
    "weeks = ['12', '13', '14','15','16','17','18']\n",
    "\n",
    "clean_all_files(18)\n"
   ]
  }
 ],
 "metadata": {
  "kernelspec": {
   "display_name": "Python 3",
   "language": "python",
   "name": "python3"
  },
  "language_info": {
   "codemirror_mode": {
    "name": "ipython",
    "version": 3
   },
   "file_extension": ".py",
   "mimetype": "text/x-python",
   "name": "python",
   "nbconvert_exporter": "python",
   "pygments_lexer": "ipython3",
   "version": "3.10.2"
  },
  "orig_nbformat": 4,
  "vscode": {
   "interpreter": {
    "hash": "2fc6efb3340bf4aae142c4471c3414bb5b17e6e80ba42a259676c40f0503db89"
   }
  }
 },
 "nbformat": 4,
 "nbformat_minor": 2
}
