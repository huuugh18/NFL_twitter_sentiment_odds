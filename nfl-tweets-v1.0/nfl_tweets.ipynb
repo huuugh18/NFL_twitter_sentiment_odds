{
 "cells": [
  {
   "cell_type": "code",
   "execution_count": 2,
   "metadata": {},
   "outputs": [],
   "source": [
    "import pandas as pd\n"
   ]
  },
  {
   "cell_type": "code",
   "execution_count": 14,
   "metadata": {},
   "outputs": [],
   "source": [
    "names = ['twitter_id','date','home','away','week', 'wts_winner','home_points','away_points','spread_line','total_points_line']\n",
    "data_weekly_2010 = pd.read_csv('./tweets.nfl.2010.weekly.csv', header=None, names=names)\n",
    "\n"
   ]
  },
  {
   "cell_type": "markdown",
   "metadata": {},
   "source": []
  },
  {
   "cell_type": "code",
   "execution_count": 19,
   "metadata": {},
   "outputs": [
    {
     "data": {
      "text/html": [
       "<div>\n",
       "<style scoped>\n",
       "    .dataframe tbody tr th:only-of-type {\n",
       "        vertical-align: middle;\n",
       "    }\n",
       "\n",
       "    .dataframe tbody tr th {\n",
       "        vertical-align: top;\n",
       "    }\n",
       "\n",
       "    .dataframe thead th {\n",
       "        text-align: right;\n",
       "    }\n",
       "</style>\n",
       "<table border=\"1\" class=\"dataframe\">\n",
       "  <thead>\n",
       "    <tr style=\"text-align: right;\">\n",
       "      <th></th>\n",
       "      <th>twitter_id</th>\n",
       "      <th>date</th>\n",
       "      <th>home</th>\n",
       "      <th>away</th>\n",
       "      <th>week</th>\n",
       "      <th>wts_winner</th>\n",
       "      <th>home_points</th>\n",
       "      <th>away_points</th>\n",
       "      <th>spread_line</th>\n",
       "      <th>total_points_line</th>\n",
       "    </tr>\n",
       "  </thead>\n",
       "  <tbody>\n",
       "    <tr>\n",
       "      <th>0</th>\n",
       "      <td>22662042404</td>\n",
       "      <td>2010-9-01T00:18:50</td>\n",
       "      <td>SEA</td>\n",
       "      <td>SF</td>\n",
       "      <td>1</td>\n",
       "      <td>HOME</td>\n",
       "      <td>31</td>\n",
       "      <td>6</td>\n",
       "      <td>3.0</td>\n",
       "      <td>37.0</td>\n",
       "    </tr>\n",
       "    <tr>\n",
       "      <th>1</th>\n",
       "      <td>22662135903</td>\n",
       "      <td>2010-9-01T00:20:06</td>\n",
       "      <td>KC</td>\n",
       "      <td>SD</td>\n",
       "      <td>1</td>\n",
       "      <td>HOME</td>\n",
       "      <td>21</td>\n",
       "      <td>14</td>\n",
       "      <td>5.0</td>\n",
       "      <td>44.5</td>\n",
       "    </tr>\n",
       "    <tr>\n",
       "      <th>2</th>\n",
       "      <td>22662138503</td>\n",
       "      <td>2010-9-01T00:20:08</td>\n",
       "      <td>NE</td>\n",
       "      <td>CIN</td>\n",
       "      <td>1</td>\n",
       "      <td>HOME</td>\n",
       "      <td>38</td>\n",
       "      <td>24</td>\n",
       "      <td>-5.5</td>\n",
       "      <td>44.5</td>\n",
       "    </tr>\n",
       "    <tr>\n",
       "      <th>3</th>\n",
       "      <td>22662142404</td>\n",
       "      <td>2010-9-01T00:20:11</td>\n",
       "      <td>NYG</td>\n",
       "      <td>CAR</td>\n",
       "      <td>1</td>\n",
       "      <td>HOME</td>\n",
       "      <td>31</td>\n",
       "      <td>18</td>\n",
       "      <td>-6.0</td>\n",
       "      <td>41.0</td>\n",
       "    </tr>\n",
       "    <tr>\n",
       "      <th>4</th>\n",
       "      <td>22662225702</td>\n",
       "      <td>2010-9-01T00:21:18</td>\n",
       "      <td>DEN</td>\n",
       "      <td>JAX</td>\n",
       "      <td>1</td>\n",
       "      <td>AWAY</td>\n",
       "      <td>17</td>\n",
       "      <td>24</td>\n",
       "      <td>3.0</td>\n",
       "      <td>41.0</td>\n",
       "    </tr>\n",
       "  </tbody>\n",
       "</table>\n",
       "</div>"
      ],
      "text/plain": [
       "    twitter_id                date home away  week wts_winner  home_points  \\\n",
       "0  22662042404  2010-9-01T00:18:50  SEA   SF     1       HOME           31   \n",
       "1  22662135903  2010-9-01T00:20:06   KC   SD     1       HOME           21   \n",
       "2  22662138503  2010-9-01T00:20:08   NE  CIN     1       HOME           38   \n",
       "3  22662142404  2010-9-01T00:20:11  NYG  CAR     1       HOME           31   \n",
       "4  22662225702  2010-9-01T00:21:18  DEN  JAX     1       AWAY           17   \n",
       "\n",
       "   away_points  spread_line  total_points_line  \n",
       "0            6          3.0               37.0  \n",
       "1           14          5.0               44.5  \n",
       "2           24         -5.5               44.5  \n",
       "3           18         -6.0               41.0  \n",
       "4           24          3.0               41.0  "
      ]
     },
     "execution_count": 19,
     "metadata": {},
     "output_type": "execute_result"
    }
   ],
   "source": [
    "data_weekly_2010.head()\n",
    "data_weekly_2010_week1 = data_weekly_2010[data_weekly_2010['week']==1]\n",
    "data_weekly_2010_week1.head()\n"
   ]
  }
 ],
 "metadata": {
  "kernelspec": {
   "display_name": "Python 3.10.2 64-bit",
   "language": "python",
   "name": "python3"
  },
  "language_info": {
   "codemirror_mode": {
    "name": "ipython",
    "version": 3
   },
   "file_extension": ".py",
   "mimetype": "text/x-python",
   "name": "python",
   "nbconvert_exporter": "python",
   "pygments_lexer": "ipython3",
   "version": "3.10.2"
  },
  "orig_nbformat": 4,
  "vscode": {
   "interpreter": {
    "hash": "2fc6efb3340bf4aae142c4471c3414bb5b17e6e80ba42a259676c40f0503db89"
   }
  }
 },
 "nbformat": 4,
 "nbformat_minor": 2
}
