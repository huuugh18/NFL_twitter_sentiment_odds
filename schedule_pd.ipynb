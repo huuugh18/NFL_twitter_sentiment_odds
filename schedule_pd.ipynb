{
 "cells": [
  {
   "cell_type": "code",
   "execution_count": 3,
   "metadata": {},
   "outputs": [],
   "source": [
    "import pandas as pd\n",
    "import numpy as np"
   ]
  },
  {
   "cell_type": "code",
   "execution_count": 2,
   "metadata": {},
   "outputs": [
    {
     "data": {
      "text/html": [
       "<div>\n",
       "<style scoped>\n",
       "    .dataframe tbody tr th:only-of-type {\n",
       "        vertical-align: middle;\n",
       "    }\n",
       "\n",
       "    .dataframe tbody tr th {\n",
       "        vertical-align: top;\n",
       "    }\n",
       "\n",
       "    .dataframe thead th {\n",
       "        text-align: right;\n",
       "    }\n",
       "</style>\n",
       "<table border=\"1\" class=\"dataframe\">\n",
       "  <thead>\n",
       "    <tr style=\"text-align: right;\">\n",
       "      <th></th>\n",
       "      <th>Week</th>\n",
       "      <th>Day</th>\n",
       "      <th>Date</th>\n",
       "      <th>Time</th>\n",
       "      <th>Winner/tie</th>\n",
       "      <th>home/away</th>\n",
       "      <th>Loser/tie</th>\n",
       "      <th>PtsW</th>\n",
       "      <th>PtsL</th>\n",
       "    </tr>\n",
       "  </thead>\n",
       "  <tbody>\n",
       "    <tr>\n",
       "      <th>0</th>\n",
       "      <td>13</td>\n",
       "      <td>Thu</td>\n",
       "      <td>2022-12-01</td>\n",
       "      <td>8:15 PM</td>\n",
       "      <td>Buffalo Bills</td>\n",
       "      <td>@</td>\n",
       "      <td>New England Patriots</td>\n",
       "      <td>24</td>\n",
       "      <td>10</td>\n",
       "    </tr>\n",
       "    <tr>\n",
       "      <th>1</th>\n",
       "      <td>13</td>\n",
       "      <td>Sun</td>\n",
       "      <td>2022-12-04</td>\n",
       "      <td>1:00 PM</td>\n",
       "      <td>Cleveland Browns</td>\n",
       "      <td>@</td>\n",
       "      <td>Houston Texans</td>\n",
       "      <td>27</td>\n",
       "      <td>14</td>\n",
       "    </tr>\n",
       "    <tr>\n",
       "      <th>2</th>\n",
       "      <td>13</td>\n",
       "      <td>Sun</td>\n",
       "      <td>2022-12-04</td>\n",
       "      <td>1:00 PM</td>\n",
       "      <td>Baltimore Ravens</td>\n",
       "      <td>NaN</td>\n",
       "      <td>Denver Broncos</td>\n",
       "      <td>10</td>\n",
       "      <td>9</td>\n",
       "    </tr>\n",
       "    <tr>\n",
       "      <th>3</th>\n",
       "      <td>13</td>\n",
       "      <td>Sun</td>\n",
       "      <td>2022-12-04</td>\n",
       "      <td>1:00 PM</td>\n",
       "      <td>Detroit Lions</td>\n",
       "      <td>NaN</td>\n",
       "      <td>Jacksonville Jaguars</td>\n",
       "      <td>40</td>\n",
       "      <td>14</td>\n",
       "    </tr>\n",
       "    <tr>\n",
       "      <th>4</th>\n",
       "      <td>13</td>\n",
       "      <td>Sun</td>\n",
       "      <td>2022-12-04</td>\n",
       "      <td>1:00 PM</td>\n",
       "      <td>Minnesota Vikings</td>\n",
       "      <td>NaN</td>\n",
       "      <td>New York Jets</td>\n",
       "      <td>27</td>\n",
       "      <td>22</td>\n",
       "    </tr>\n",
       "  </tbody>\n",
       "</table>\n",
       "</div>"
      ],
      "text/plain": [
       "   Week  Day        Date     Time         Winner/tie home/away  \\\n",
       "0    13  Thu  2022-12-01  8:15 PM      Buffalo Bills         @   \n",
       "1    13  Sun  2022-12-04  1:00 PM   Cleveland Browns         @   \n",
       "2    13  Sun  2022-12-04  1:00 PM   Baltimore Ravens       NaN   \n",
       "3    13  Sun  2022-12-04  1:00 PM      Detroit Lions       NaN   \n",
       "4    13  Sun  2022-12-04  1:00 PM  Minnesota Vikings       NaN   \n",
       "\n",
       "              Loser/tie  PtsW  PtsL  \n",
       "0  New England Patriots    24    10  \n",
       "1        Houston Texans    27    14  \n",
       "2        Denver Broncos    10     9  \n",
       "3  Jacksonville Jaguars    40    14  \n",
       "4         New York Jets    27    22  "
      ]
     },
     "execution_count": 2,
     "metadata": {},
     "output_type": "execute_result"
    }
   ],
   "source": [
    "sched_df = pd.read_csv('./schedules/schedule_wk_13.csv')\n",
    "sched_df = sched_df.drop(['YdsW','TOW','YdsL','TOL', 'Unnamed: 7'], axis=1)\n",
    "sched_df = sched_df.rename(columns={\"Unnamed: 5\": \"home/away\"})\n",
    "sched_df.head()"
   ]
  },
  {
   "cell_type": "markdown",
   "metadata": {},
   "source": [
    "Will have to make some code here to handle the original file format if use an updated version  \n",
    "Think I manually dropped the first week 1 - 11 games in excel  \n",
    "Also deleted some columns \n",
    "Manually gave the home/away column name - OG data has no column name for it"
   ]
  },
  {
   "cell_type": "markdown",
   "metadata": {},
   "source": [
    "### Create home and away team columns from data\n",
    "Data comes in with winner and loser teams vs home and away  \n",
    "Have to use the home/away column"
   ]
  },
  {
   "cell_type": "code",
   "execution_count": 3,
   "metadata": {},
   "outputs": [],
   "source": [
    "sched_df['home'] = np.where(\n",
    "    sched_df['home/away'] == '@', \n",
    "    sched_df['Loser/tie'], \n",
    "    sched_df['Winner/tie']\n",
    "    )\n",
    "sched_df['away'] = np.where(\n",
    "    sched_df['home/away'] == '@', \n",
    "    sched_df['Winner/tie'], \n",
    "    sched_df['Loser/tie']\n",
    "    )\n"
   ]
  },
  {
   "cell_type": "code",
   "execution_count": 6,
   "metadata": {},
   "outputs": [],
   "source": [
    "\n",
    "def get_home_and_away_columns(sched_df):\n",
    "    sched_df['home'] = np.where(\n",
    "        sched_df['home/away'] == '@', \n",
    "        sched_df['Loser/tie'], \n",
    "        sched_df['Winner/tie']\n",
    "    )\n",
    "    sched_df['away'] = np.where(\n",
    "        sched_df['home/away'] == '@', \n",
    "        sched_df['Winner/tie'], \n",
    "        sched_df['Loser/tie']\n",
    "    )\n",
    "\n",
    "    return sched_df"
   ]
  },
  {
   "cell_type": "markdown",
   "metadata": {},
   "source": [
    "### Check if any home and away teams are the same value\n",
    "If ```True in Same``` returns True than have an issue "
   ]
  },
  {
   "cell_type": "code",
   "execution_count": 7,
   "metadata": {},
   "outputs": [
    {
     "ename": "NameError",
     "evalue": "name 'sched_df' is not defined",
     "output_type": "error",
     "traceback": [
      "\u001b[1;31m---------------------------------------------------------------------------\u001b[0m",
      "\u001b[1;31mNameError\u001b[0m                                 Traceback (most recent call last)",
      "\u001b[1;32mc:\\Users\\hugho\\Documents\\datascience\\500RP\\schedule_pd.ipynb Cell 8\u001b[0m in \u001b[0;36m<cell line: 1>\u001b[1;34m()\u001b[0m\n\u001b[1;32m----> <a href='vscode-notebook-cell:/c%3A/Users/hugho/Documents/datascience/500RP/schedule_pd.ipynb#W6sZmlsZQ%3D%3D?line=0'>1</a>\u001b[0m same \u001b[39m=\u001b[39m np\u001b[39m.\u001b[39mwhere(sched_df[\u001b[39m'\u001b[39m\u001b[39mhome\u001b[39m\u001b[39m'\u001b[39m] \u001b[39m==\u001b[39m sched_df[\u001b[39m'\u001b[39m\u001b[39maway\u001b[39m\u001b[39m'\u001b[39m], \u001b[39mTrue\u001b[39;00m, \u001b[39mFalse\u001b[39;00m)\n\u001b[0;32m      <a href='vscode-notebook-cell:/c%3A/Users/hugho/Documents/datascience/500RP/schedule_pd.ipynb#W6sZmlsZQ%3D%3D?line=1'>2</a>\u001b[0m \u001b[39mTrue\u001b[39;00m \u001b[39min\u001b[39;00m same\n",
      "\u001b[1;31mNameError\u001b[0m: name 'sched_df' is not defined"
     ]
    }
   ],
   "source": [
    "same = np.where(sched_df['home'] == sched_df['away'], True, False)\n",
    "True in same"
   ]
  },
  {
   "cell_type": "markdown",
   "metadata": {},
   "source": [
    "### Remove City from Team Name\n",
    "Also convert to all lowercase"
   ]
  },
  {
   "cell_type": "code",
   "execution_count": 8,
   "metadata": {},
   "outputs": [],
   "source": [
    "\n",
    "def get_short_team_name(full_team_name):\n",
    "    short_name = full_team_name.rsplit(None, 1)[-1]\n",
    "    lc_short_name = short_name.lower()\n",
    "    return lc_short_name\n"
   ]
  },
  {
   "cell_type": "code",
   "execution_count": 6,
   "metadata": {},
   "outputs": [],
   "source": [
    "sched_df['home'] = sched_df['home'].apply(lambda x: get_short_team_name(x))\n",
    "sched_df['away'] = sched_df['away'].apply(lambda x: get_short_team_name(x))"
   ]
  },
  {
   "cell_type": "markdown",
   "metadata": {},
   "source": [
    "### Get Home and Away Score \n",
    "Stored in original file as Points Winner (PtsW) and Points Loser (PtsL)"
   ]
  },
  {
   "cell_type": "code",
   "execution_count": 7,
   "metadata": {},
   "outputs": [],
   "source": [
    "sched_df['home_score'] = np.where(sched_df['home/away'] == '@', sched_df['PtsL'], sched_df['PtsW'])\n",
    "sched_df['away_score'] = np.where(sched_df['home/away'] == '@', sched_df['PtsW'], sched_df['PtsL'])\n"
   ]
  },
  {
   "cell_type": "markdown",
   "metadata": {},
   "source": [
    "#### Drop unused columns"
   ]
  },
  {
   "cell_type": "code",
   "execution_count": 8,
   "metadata": {},
   "outputs": [],
   "source": [
    "sched_df = sched_df.drop(columns=['Winner/tie','home/away','Loser/tie','PtsW','PtsL'])\n"
   ]
  },
  {
   "cell_type": "markdown",
   "metadata": {},
   "source": [
    "### [datetime docs]('https://pandas.pydata.org/docs/reference/api/pandas.to_datetime.html')"
   ]
  },
  {
   "cell_type": "markdown",
   "metadata": {},
   "source": [
    "## Create Game Time Column based on date and time columns"
   ]
  },
  {
   "cell_type": "code",
   "execution_count": 9,
   "metadata": {},
   "outputs": [
    {
     "name": "stdout",
     "output_type": "stream",
     "text": [
      "Week                        int64\n",
      "Day                        object\n",
      "Date                       object\n",
      "Time                       object\n",
      "home                       object\n",
      "away                       object\n",
      "home_score                  int64\n",
      "away_score                  int64\n",
      "GameTime      datetime64[ns, UTC]\n",
      "dtype: object\n"
     ]
    },
    {
     "data": {
      "text/html": [
       "<div>\n",
       "<style scoped>\n",
       "    .dataframe tbody tr th:only-of-type {\n",
       "        vertical-align: middle;\n",
       "    }\n",
       "\n",
       "    .dataframe tbody tr th {\n",
       "        vertical-align: top;\n",
       "    }\n",
       "\n",
       "    .dataframe thead th {\n",
       "        text-align: right;\n",
       "    }\n",
       "</style>\n",
       "<table border=\"1\" class=\"dataframe\">\n",
       "  <thead>\n",
       "    <tr style=\"text-align: right;\">\n",
       "      <th></th>\n",
       "      <th>Week</th>\n",
       "      <th>Day</th>\n",
       "      <th>Date</th>\n",
       "      <th>Time</th>\n",
       "      <th>home</th>\n",
       "      <th>away</th>\n",
       "      <th>home_score</th>\n",
       "      <th>away_score</th>\n",
       "      <th>GameTime</th>\n",
       "    </tr>\n",
       "  </thead>\n",
       "  <tbody>\n",
       "    <tr>\n",
       "      <th>0</th>\n",
       "      <td>13</td>\n",
       "      <td>Thu</td>\n",
       "      <td>2022-12-01</td>\n",
       "      <td>8:15 PM</td>\n",
       "      <td>patriots</td>\n",
       "      <td>bills</td>\n",
       "      <td>10</td>\n",
       "      <td>24</td>\n",
       "      <td>2022-12-02 01:15:00+00:00</td>\n",
       "    </tr>\n",
       "    <tr>\n",
       "      <th>1</th>\n",
       "      <td>13</td>\n",
       "      <td>Sun</td>\n",
       "      <td>2022-12-04</td>\n",
       "      <td>1:00 PM</td>\n",
       "      <td>texans</td>\n",
       "      <td>browns</td>\n",
       "      <td>14</td>\n",
       "      <td>27</td>\n",
       "      <td>2022-12-04 18:00:00+00:00</td>\n",
       "    </tr>\n",
       "    <tr>\n",
       "      <th>2</th>\n",
       "      <td>13</td>\n",
       "      <td>Sun</td>\n",
       "      <td>2022-12-04</td>\n",
       "      <td>1:00 PM</td>\n",
       "      <td>ravens</td>\n",
       "      <td>broncos</td>\n",
       "      <td>10</td>\n",
       "      <td>9</td>\n",
       "      <td>2022-12-04 18:00:00+00:00</td>\n",
       "    </tr>\n",
       "    <tr>\n",
       "      <th>3</th>\n",
       "      <td>13</td>\n",
       "      <td>Sun</td>\n",
       "      <td>2022-12-04</td>\n",
       "      <td>1:00 PM</td>\n",
       "      <td>lions</td>\n",
       "      <td>jaguars</td>\n",
       "      <td>40</td>\n",
       "      <td>14</td>\n",
       "      <td>2022-12-04 18:00:00+00:00</td>\n",
       "    </tr>\n",
       "    <tr>\n",
       "      <th>4</th>\n",
       "      <td>13</td>\n",
       "      <td>Sun</td>\n",
       "      <td>2022-12-04</td>\n",
       "      <td>1:00 PM</td>\n",
       "      <td>vikings</td>\n",
       "      <td>jets</td>\n",
       "      <td>27</td>\n",
       "      <td>22</td>\n",
       "      <td>2022-12-04 18:00:00+00:00</td>\n",
       "    </tr>\n",
       "  </tbody>\n",
       "</table>\n",
       "</div>"
      ],
      "text/plain": [
       "   Week  Day        Date     Time      home     away  home_score  away_score  \\\n",
       "0    13  Thu  2022-12-01  8:15 PM  patriots    bills          10          24   \n",
       "1    13  Sun  2022-12-04  1:00 PM    texans   browns          14          27   \n",
       "2    13  Sun  2022-12-04  1:00 PM    ravens  broncos          10           9   \n",
       "3    13  Sun  2022-12-04  1:00 PM     lions  jaguars          40          14   \n",
       "4    13  Sun  2022-12-04  1:00 PM   vikings     jets          27          22   \n",
       "\n",
       "                   GameTime  \n",
       "0 2022-12-02 01:15:00+00:00  \n",
       "1 2022-12-04 18:00:00+00:00  \n",
       "2 2022-12-04 18:00:00+00:00  \n",
       "3 2022-12-04 18:00:00+00:00  \n",
       "4 2022-12-04 18:00:00+00:00  "
      ]
     },
     "execution_count": 9,
     "metadata": {},
     "output_type": "execute_result"
    }
   ],
   "source": [
    "sched_df['GameTime'] = pd.to_datetime(sched_df['Date'] + 'T' + sched_df['Time'] + '-0500', utc=True )\n",
    "print(sched_df.dtypes)\n",
    "sched_df.head()"
   ]
  },
  {
   "cell_type": "markdown",
   "metadata": {},
   "source": [
    "### Create Start and End Times based off Game Time\n",
    "Start time is 4 days 1 hour before start of game  \n",
    "End time is 1 hour before start of game"
   ]
  },
  {
   "cell_type": "code",
   "execution_count": 10,
   "metadata": {},
   "outputs": [
    {
     "data": {
      "text/html": [
       "<div>\n",
       "<style scoped>\n",
       "    .dataframe tbody tr th:only-of-type {\n",
       "        vertical-align: middle;\n",
       "    }\n",
       "\n",
       "    .dataframe tbody tr th {\n",
       "        vertical-align: top;\n",
       "    }\n",
       "\n",
       "    .dataframe thead th {\n",
       "        text-align: right;\n",
       "    }\n",
       "</style>\n",
       "<table border=\"1\" class=\"dataframe\">\n",
       "  <thead>\n",
       "    <tr style=\"text-align: right;\">\n",
       "      <th></th>\n",
       "      <th>Week</th>\n",
       "      <th>Day</th>\n",
       "      <th>Date</th>\n",
       "      <th>Time</th>\n",
       "      <th>home</th>\n",
       "      <th>away</th>\n",
       "      <th>home_score</th>\n",
       "      <th>away_score</th>\n",
       "      <th>GameTime</th>\n",
       "      <th>SearchStartTime</th>\n",
       "      <th>SearchEndTime</th>\n",
       "    </tr>\n",
       "  </thead>\n",
       "  <tbody>\n",
       "    <tr>\n",
       "      <th>0</th>\n",
       "      <td>13</td>\n",
       "      <td>Thu</td>\n",
       "      <td>2022-12-01</td>\n",
       "      <td>8:15 PM</td>\n",
       "      <td>patriots</td>\n",
       "      <td>bills</td>\n",
       "      <td>10</td>\n",
       "      <td>24</td>\n",
       "      <td>2022-12-02 01:15:00+00:00</td>\n",
       "      <td>2022-11-28 00:15:00+00:00</td>\n",
       "      <td>2022-12-02 00:15:00+00:00</td>\n",
       "    </tr>\n",
       "    <tr>\n",
       "      <th>1</th>\n",
       "      <td>13</td>\n",
       "      <td>Sun</td>\n",
       "      <td>2022-12-04</td>\n",
       "      <td>1:00 PM</td>\n",
       "      <td>texans</td>\n",
       "      <td>browns</td>\n",
       "      <td>14</td>\n",
       "      <td>27</td>\n",
       "      <td>2022-12-04 18:00:00+00:00</td>\n",
       "      <td>2022-11-30 17:00:00+00:00</td>\n",
       "      <td>2022-12-04 17:00:00+00:00</td>\n",
       "    </tr>\n",
       "    <tr>\n",
       "      <th>2</th>\n",
       "      <td>13</td>\n",
       "      <td>Sun</td>\n",
       "      <td>2022-12-04</td>\n",
       "      <td>1:00 PM</td>\n",
       "      <td>ravens</td>\n",
       "      <td>broncos</td>\n",
       "      <td>10</td>\n",
       "      <td>9</td>\n",
       "      <td>2022-12-04 18:00:00+00:00</td>\n",
       "      <td>2022-11-30 17:00:00+00:00</td>\n",
       "      <td>2022-12-04 17:00:00+00:00</td>\n",
       "    </tr>\n",
       "    <tr>\n",
       "      <th>3</th>\n",
       "      <td>13</td>\n",
       "      <td>Sun</td>\n",
       "      <td>2022-12-04</td>\n",
       "      <td>1:00 PM</td>\n",
       "      <td>lions</td>\n",
       "      <td>jaguars</td>\n",
       "      <td>40</td>\n",
       "      <td>14</td>\n",
       "      <td>2022-12-04 18:00:00+00:00</td>\n",
       "      <td>2022-11-30 17:00:00+00:00</td>\n",
       "      <td>2022-12-04 17:00:00+00:00</td>\n",
       "    </tr>\n",
       "    <tr>\n",
       "      <th>4</th>\n",
       "      <td>13</td>\n",
       "      <td>Sun</td>\n",
       "      <td>2022-12-04</td>\n",
       "      <td>1:00 PM</td>\n",
       "      <td>vikings</td>\n",
       "      <td>jets</td>\n",
       "      <td>27</td>\n",
       "      <td>22</td>\n",
       "      <td>2022-12-04 18:00:00+00:00</td>\n",
       "      <td>2022-11-30 17:00:00+00:00</td>\n",
       "      <td>2022-12-04 17:00:00+00:00</td>\n",
       "    </tr>\n",
       "  </tbody>\n",
       "</table>\n",
       "</div>"
      ],
      "text/plain": [
       "   Week  Day        Date     Time      home     away  home_score  away_score  \\\n",
       "0    13  Thu  2022-12-01  8:15 PM  patriots    bills          10          24   \n",
       "1    13  Sun  2022-12-04  1:00 PM    texans   browns          14          27   \n",
       "2    13  Sun  2022-12-04  1:00 PM    ravens  broncos          10           9   \n",
       "3    13  Sun  2022-12-04  1:00 PM     lions  jaguars          40          14   \n",
       "4    13  Sun  2022-12-04  1:00 PM   vikings     jets          27          22   \n",
       "\n",
       "                   GameTime           SearchStartTime  \\\n",
       "0 2022-12-02 01:15:00+00:00 2022-11-28 00:15:00+00:00   \n",
       "1 2022-12-04 18:00:00+00:00 2022-11-30 17:00:00+00:00   \n",
       "2 2022-12-04 18:00:00+00:00 2022-11-30 17:00:00+00:00   \n",
       "3 2022-12-04 18:00:00+00:00 2022-11-30 17:00:00+00:00   \n",
       "4 2022-12-04 18:00:00+00:00 2022-11-30 17:00:00+00:00   \n",
       "\n",
       "              SearchEndTime  \n",
       "0 2022-12-02 00:15:00+00:00  \n",
       "1 2022-12-04 17:00:00+00:00  \n",
       "2 2022-12-04 17:00:00+00:00  \n",
       "3 2022-12-04 17:00:00+00:00  \n",
       "4 2022-12-04 17:00:00+00:00  "
      ]
     },
     "execution_count": 10,
     "metadata": {},
     "output_type": "execute_result"
    }
   ],
   "source": [
    "sched_df['SearchStartTime'] = sched_df['GameTime'] - pd.to_timedelta('4 days 01:00:00')\n",
    "sched_df['SearchEndTime'] = sched_df['GameTime'] - pd.to_timedelta('01:00:00')\n",
    "sched_df.head()"
   ]
  },
  {
   "cell_type": "markdown",
   "metadata": {},
   "source": [
    "### Save to CSV"
   ]
  },
  {
   "cell_type": "code",
   "execution_count": 11,
   "metadata": {},
   "outputs": [],
   "source": [
    "\n",
    "sched_df.to_csv('./2022_schedule_cleaned.csv', index=False)"
   ]
  },
  {
   "cell_type": "code",
   "execution_count": 9,
   "metadata": {},
   "outputs": [],
   "source": [
    "pathname = './schedules/schedule_wk_14.csv'\n",
    "week = '14'\n",
    "\n",
    "def get_weekly_df(filepath, week):\n",
    "    # import schedule\n",
    "    sched_df = pd.read_csv(filepath)\n",
    "\n",
    "    # drop columns\n",
    "    sched_df = sched_df.drop(['YdsW','TOW','YdsL','TOL', 'Unnamed: 7'], axis=1)\n",
    "\n",
    "    #rename home/away column    \n",
    "    sched_df = sched_df.rename(columns={\"Unnamed: 5\": \"home/away\"})\n",
    "\n",
    "    sched_df = get_home_and_away_columns(sched_df)\n",
    "\n",
    "    # verify no home and away teams the same\n",
    "    same = np.where(sched_df['home'] == sched_df['away'], True, False)\n",
    "    if (True in same):\n",
    "        print('error, same team name in home and away')\n",
    "        return\n",
    "\n",
    "    # remove city from team names\n",
    "    sched_df['home'] = sched_df['home'].apply(lambda x: get_short_team_name(x))\n",
    "    sched_df['away'] = sched_df['away'].apply(lambda x: get_short_team_name(x))\n",
    "    \n",
    "    # create home and away score columns frm ptsl& ptsw\n",
    "    sched_df['home_score'] = np.where(sched_df['home/away'] == '@', sched_df['PtsL'], sched_df['PtsW'])\n",
    "    sched_df['away_score'] = np.where(sched_df['home/away'] == '@', sched_df['PtsW'], sched_df['PtsL'])\n",
    "\n",
    "    # drop remaining unused columns\n",
    "    sched_df = sched_df.drop(columns=['Winner/tie','home/away','Loser/tie','PtsW','PtsL'])\n",
    "    \n",
    "    # create game time column from date and time col in UTC format\n",
    "    sched_df['GameTime'] = pd.to_datetime(sched_df['Date'] + 'T' + sched_df['Time'] + '-0500', utc=True )\n",
    "\n",
    "    # create search start and end time columns\n",
    "    sched_df['SearchStartTime'] = sched_df['GameTime'] - pd.to_timedelta('4 days 01:00:00')\n",
    "    sched_df['SearchEndTime'] = sched_df['GameTime'] - pd.to_timedelta('01:00:00')\n",
    "\n",
    "    # save as csv\n",
    "    save_filepath = f'./schedules/schedule_wk_{week}_cleaned.csv'\n",
    "\n",
    "    sched_df.to_csv(save_filepath, index=False)\n",
    "\n",
    "    return sched_df\n",
    "    \n",
    "    \n",
    "    \n"
   ]
  },
  {
   "cell_type": "code",
   "execution_count": 10,
   "metadata": {},
   "outputs": [
    {
     "data": {
      "text/html": [
       "<div>\n",
       "<style scoped>\n",
       "    .dataframe tbody tr th:only-of-type {\n",
       "        vertical-align: middle;\n",
       "    }\n",
       "\n",
       "    .dataframe tbody tr th {\n",
       "        vertical-align: top;\n",
       "    }\n",
       "\n",
       "    .dataframe thead th {\n",
       "        text-align: right;\n",
       "    }\n",
       "</style>\n",
       "<table border=\"1\" class=\"dataframe\">\n",
       "  <thead>\n",
       "    <tr style=\"text-align: right;\">\n",
       "      <th></th>\n",
       "      <th>Week</th>\n",
       "      <th>Day</th>\n",
       "      <th>Date</th>\n",
       "      <th>Time</th>\n",
       "      <th>home</th>\n",
       "      <th>away</th>\n",
       "      <th>home_score</th>\n",
       "      <th>away_score</th>\n",
       "      <th>GameTime</th>\n",
       "      <th>SearchStartTime</th>\n",
       "      <th>SearchEndTime</th>\n",
       "    </tr>\n",
       "  </thead>\n",
       "  <tbody>\n",
       "    <tr>\n",
       "      <th>0</th>\n",
       "      <td>14</td>\n",
       "      <td>Thu</td>\n",
       "      <td>2022-12-08</td>\n",
       "      <td>8:15 PM</td>\n",
       "      <td>rams</td>\n",
       "      <td>raiders</td>\n",
       "      <td>17</td>\n",
       "      <td>16</td>\n",
       "      <td>2022-12-09 01:15:00+00:00</td>\n",
       "      <td>2022-12-05 00:15:00+00:00</td>\n",
       "      <td>2022-12-09 00:15:00+00:00</td>\n",
       "    </tr>\n",
       "  </tbody>\n",
       "</table>\n",
       "</div>"
      ],
      "text/plain": [
       "   Week  Day        Date     Time  home     away  home_score  away_score  \\\n",
       "0    14  Thu  2022-12-08  8:15 PM  rams  raiders          17          16   \n",
       "\n",
       "                   GameTime           SearchStartTime  \\\n",
       "0 2022-12-09 01:15:00+00:00 2022-12-05 00:15:00+00:00   \n",
       "\n",
       "              SearchEndTime  \n",
       "0 2022-12-09 00:15:00+00:00  "
      ]
     },
     "execution_count": 10,
     "metadata": {},
     "output_type": "execute_result"
    }
   ],
   "source": [
    "wk13 = get_weekly_df(pathname, '14')\n",
    "wk13"
   ]
  }
 ],
 "metadata": {
  "kernelspec": {
   "display_name": "Python 3.10.2 64-bit",
   "language": "python",
   "name": "python3"
  },
  "language_info": {
   "codemirror_mode": {
    "name": "ipython",
    "version": 3
   },
   "file_extension": ".py",
   "mimetype": "text/x-python",
   "name": "python",
   "nbconvert_exporter": "python",
   "pygments_lexer": "ipython3",
   "version": "3.10.2"
  },
  "orig_nbformat": 4,
  "vscode": {
   "interpreter": {
    "hash": "2fc6efb3340bf4aae142c4471c3414bb5b17e6e80ba42a259676c40f0503db89"
   }
  }
 },
 "nbformat": 4,
 "nbformat_minor": 2
}
