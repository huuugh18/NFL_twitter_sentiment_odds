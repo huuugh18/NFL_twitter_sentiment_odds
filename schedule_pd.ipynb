{
 "cells": [
  {
   "cell_type": "code",
   "execution_count": 126,
   "metadata": {},
   "outputs": [],
   "source": [
    "import pandas as pd\n",
    "import numpy as np"
   ]
  },
  {
   "cell_type": "code",
   "execution_count": 127,
   "metadata": {},
   "outputs": [],
   "source": [
    "sched_df = pd.read_csv('./2022_schedule.csv')"
   ]
  },
  {
   "cell_type": "markdown",
   "metadata": {},
   "source": [
    "Will have to make some code here to handle the original file format if use an updated version  \n",
    "Think I manually dropped the first week 1 - 11 games in excel  \n",
    "Also deleted some columns \n",
    "Manually gave the home/away column name - OG data has no column name for it"
   ]
  },
  {
   "cell_type": "markdown",
   "metadata": {},
   "source": [
    "### Create home and away team columns from data\n",
    "Data comes in with winner and loser teams vs home and away  \n",
    "Have to use the home/away column"
   ]
  },
  {
   "cell_type": "code",
   "execution_count": 128,
   "metadata": {},
   "outputs": [],
   "source": [
    "sched_df['home'] = np.where(\n",
    "    sched_df['home/away'] == '@', \n",
    "    sched_df['Loser/tie'], \n",
    "    sched_df['Winner/tie']\n",
    "    )\n",
    "sched_df['away'] = np.where(\n",
    "    sched_df['home/away'] == '@', \n",
    "    sched_df['Winner/tie'], \n",
    "    sched_df['Loser/tie']\n",
    "    )\n"
   ]
  },
  {
   "cell_type": "markdown",
   "metadata": {},
   "source": [
    "### Check if any home and away teams are the same value\n",
    "If ```True in Same``` returns True than have an issue "
   ]
  },
  {
   "cell_type": "code",
   "execution_count": 129,
   "metadata": {},
   "outputs": [
    {
     "data": {
      "text/plain": [
       "False"
      ]
     },
     "execution_count": 129,
     "metadata": {},
     "output_type": "execute_result"
    }
   ],
   "source": [
    "same = np.where(sched_df['home'] == sched_df['away'], True, False)\n",
    "True in same"
   ]
  },
  {
   "cell_type": "markdown",
   "metadata": {},
   "source": [
    "### Remove City from Team Name\n",
    "Also convert to all lowercase"
   ]
  },
  {
   "cell_type": "code",
   "execution_count": 130,
   "metadata": {},
   "outputs": [],
   "source": [
    "\n",
    "def get_short_team_name(full_team_name):\n",
    "    short_name = full_team_name.rsplit(None, 1)[-1]\n",
    "    lc_short_name = short_name.lower()\n",
    "    return lc_short_name\n"
   ]
  },
  {
   "cell_type": "code",
   "execution_count": 131,
   "metadata": {},
   "outputs": [],
   "source": [
    "sched_df['home'] = sched_df['home'].apply(lambda x: get_short_team_name(x))\n",
    "sched_df['away'] = sched_df['away'].apply(lambda x: get_short_team_name(x))"
   ]
  },
  {
   "cell_type": "markdown",
   "metadata": {},
   "source": [
    "### Get Home and Away Score \n",
    "Stored in original file as Points Winner (PtsW) and Points Loser (PtsL)"
   ]
  },
  {
   "cell_type": "code",
   "execution_count": 132,
   "metadata": {},
   "outputs": [],
   "source": [
    "sched_df['home_score'] = np.where(sched_df['home/away'] == '@', sched_df['PtsL'], sched_df['PtsW'])\n",
    "sched_df['away_score'] = np.where(sched_df['home/away'] == '@', sched_df['PtsW'], sched_df['PtsL'])\n"
   ]
  },
  {
   "cell_type": "markdown",
   "metadata": {},
   "source": [
    "#### Drop unused columns"
   ]
  },
  {
   "cell_type": "code",
   "execution_count": 133,
   "metadata": {},
   "outputs": [],
   "source": [
    "sched_df = sched_df.drop(columns=['Winner/tie','home/away','Loser/tie','PtsW','PtsL'])\n"
   ]
  },
  {
   "cell_type": "markdown",
   "metadata": {},
   "source": [
    "### [datetime docs]('https://pandas.pydata.org/docs/reference/api/pandas.to_datetime.html')"
   ]
  },
  {
   "cell_type": "markdown",
   "metadata": {},
   "source": [
    "## Create Game Time Column based on date and time columns"
   ]
  },
  {
   "cell_type": "code",
   "execution_count": 134,
   "metadata": {},
   "outputs": [
    {
     "name": "stdout",
     "output_type": "stream",
     "text": [
      "Week                        int64\n",
      "Day                        object\n",
      "Date                       object\n",
      "Time                       object\n",
      "home                       object\n",
      "away                       object\n",
      "home_score                float64\n",
      "away_score                float64\n",
      "GameTime      datetime64[ns, UTC]\n",
      "dtype: object\n"
     ]
    },
    {
     "data": {
      "text/html": [
       "<div>\n",
       "<style scoped>\n",
       "    .dataframe tbody tr th:only-of-type {\n",
       "        vertical-align: middle;\n",
       "    }\n",
       "\n",
       "    .dataframe tbody tr th {\n",
       "        vertical-align: top;\n",
       "    }\n",
       "\n",
       "    .dataframe thead th {\n",
       "        text-align: right;\n",
       "    }\n",
       "</style>\n",
       "<table border=\"1\" class=\"dataframe\">\n",
       "  <thead>\n",
       "    <tr style=\"text-align: right;\">\n",
       "      <th></th>\n",
       "      <th>Week</th>\n",
       "      <th>Day</th>\n",
       "      <th>Date</th>\n",
       "      <th>Time</th>\n",
       "      <th>home</th>\n",
       "      <th>away</th>\n",
       "      <th>home_score</th>\n",
       "      <th>away_score</th>\n",
       "      <th>GameTime</th>\n",
       "    </tr>\n",
       "  </thead>\n",
       "  <tbody>\n",
       "    <tr>\n",
       "      <th>0</th>\n",
       "      <td>12</td>\n",
       "      <td>Thu</td>\n",
       "      <td>2022-11-24</td>\n",
       "      <td>12:30PM</td>\n",
       "      <td>lions</td>\n",
       "      <td>bills</td>\n",
       "      <td>25.0</td>\n",
       "      <td>28.0</td>\n",
       "      <td>2022-11-24 17:30:00+00:00</td>\n",
       "    </tr>\n",
       "    <tr>\n",
       "      <th>1</th>\n",
       "      <td>12</td>\n",
       "      <td>Thu</td>\n",
       "      <td>2022-11-24</td>\n",
       "      <td>4:30PM</td>\n",
       "      <td>cowboys</td>\n",
       "      <td>giants</td>\n",
       "      <td>28.0</td>\n",
       "      <td>20.0</td>\n",
       "      <td>2022-11-24 21:30:00+00:00</td>\n",
       "    </tr>\n",
       "    <tr>\n",
       "      <th>2</th>\n",
       "      <td>12</td>\n",
       "      <td>Thu</td>\n",
       "      <td>2022-11-24</td>\n",
       "      <td>8:20PM</td>\n",
       "      <td>vikings</td>\n",
       "      <td>patriots</td>\n",
       "      <td>33.0</td>\n",
       "      <td>26.0</td>\n",
       "      <td>2022-11-25 01:20:00+00:00</td>\n",
       "    </tr>\n",
       "    <tr>\n",
       "      <th>3</th>\n",
       "      <td>12</td>\n",
       "      <td>Sun</td>\n",
       "      <td>2022-11-27</td>\n",
       "      <td>1:00PM</td>\n",
       "      <td>titans</td>\n",
       "      <td>bengals</td>\n",
       "      <td>16.0</td>\n",
       "      <td>20.0</td>\n",
       "      <td>2022-11-27 18:00:00+00:00</td>\n",
       "    </tr>\n",
       "    <tr>\n",
       "      <th>4</th>\n",
       "      <td>12</td>\n",
       "      <td>Sun</td>\n",
       "      <td>2022-11-27</td>\n",
       "      <td>1:00PM</td>\n",
       "      <td>browns</td>\n",
       "      <td>buccaneers</td>\n",
       "      <td>23.0</td>\n",
       "      <td>17.0</td>\n",
       "      <td>2022-11-27 18:00:00+00:00</td>\n",
       "    </tr>\n",
       "  </tbody>\n",
       "</table>\n",
       "</div>"
      ],
      "text/plain": [
       "   Week  Day        Date     Time     home        away  home_score  \\\n",
       "0    12  Thu  2022-11-24  12:30PM    lions       bills        25.0   \n",
       "1    12  Thu  2022-11-24   4:30PM  cowboys      giants        28.0   \n",
       "2    12  Thu  2022-11-24   8:20PM  vikings    patriots        33.0   \n",
       "3    12  Sun  2022-11-27   1:00PM   titans     bengals        16.0   \n",
       "4    12  Sun  2022-11-27   1:00PM   browns  buccaneers        23.0   \n",
       "\n",
       "   away_score                  GameTime  \n",
       "0        28.0 2022-11-24 17:30:00+00:00  \n",
       "1        20.0 2022-11-24 21:30:00+00:00  \n",
       "2        26.0 2022-11-25 01:20:00+00:00  \n",
       "3        20.0 2022-11-27 18:00:00+00:00  \n",
       "4        17.0 2022-11-27 18:00:00+00:00  "
      ]
     },
     "execution_count": 134,
     "metadata": {},
     "output_type": "execute_result"
    }
   ],
   "source": [
    "sched_df['GameTime'] = pd.to_datetime(sched_df['Date'] + 'T' + sched_df['Time'] + '-0500', utc=True )\n",
    "print(sched_df.dtypes)\n",
    "sched_df.head()"
   ]
  },
  {
   "cell_type": "markdown",
   "metadata": {},
   "source": [
    "### Create Start and End Times based off Game Time\n",
    "Start time is 4 days 1 hour before start of game  \n",
    "End time is 1 hour before start of game"
   ]
  },
  {
   "cell_type": "code",
   "execution_count": 135,
   "metadata": {},
   "outputs": [
    {
     "data": {
      "text/html": [
       "<div>\n",
       "<style scoped>\n",
       "    .dataframe tbody tr th:only-of-type {\n",
       "        vertical-align: middle;\n",
       "    }\n",
       "\n",
       "    .dataframe tbody tr th {\n",
       "        vertical-align: top;\n",
       "    }\n",
       "\n",
       "    .dataframe thead th {\n",
       "        text-align: right;\n",
       "    }\n",
       "</style>\n",
       "<table border=\"1\" class=\"dataframe\">\n",
       "  <thead>\n",
       "    <tr style=\"text-align: right;\">\n",
       "      <th></th>\n",
       "      <th>Week</th>\n",
       "      <th>Day</th>\n",
       "      <th>Date</th>\n",
       "      <th>Time</th>\n",
       "      <th>home</th>\n",
       "      <th>away</th>\n",
       "      <th>home_score</th>\n",
       "      <th>away_score</th>\n",
       "      <th>GameTime</th>\n",
       "      <th>SearchStartTime</th>\n",
       "      <th>SearchEndTime</th>\n",
       "    </tr>\n",
       "  </thead>\n",
       "  <tbody>\n",
       "    <tr>\n",
       "      <th>0</th>\n",
       "      <td>12</td>\n",
       "      <td>Thu</td>\n",
       "      <td>2022-11-24</td>\n",
       "      <td>12:30PM</td>\n",
       "      <td>lions</td>\n",
       "      <td>bills</td>\n",
       "      <td>25.0</td>\n",
       "      <td>28.0</td>\n",
       "      <td>2022-11-24 17:30:00+00:00</td>\n",
       "      <td>2022-11-20 16:30:00+00:00</td>\n",
       "      <td>2022-11-24 16:30:00+00:00</td>\n",
       "    </tr>\n",
       "    <tr>\n",
       "      <th>1</th>\n",
       "      <td>12</td>\n",
       "      <td>Thu</td>\n",
       "      <td>2022-11-24</td>\n",
       "      <td>4:30PM</td>\n",
       "      <td>cowboys</td>\n",
       "      <td>giants</td>\n",
       "      <td>28.0</td>\n",
       "      <td>20.0</td>\n",
       "      <td>2022-11-24 21:30:00+00:00</td>\n",
       "      <td>2022-11-20 20:30:00+00:00</td>\n",
       "      <td>2022-11-24 20:30:00+00:00</td>\n",
       "    </tr>\n",
       "    <tr>\n",
       "      <th>2</th>\n",
       "      <td>12</td>\n",
       "      <td>Thu</td>\n",
       "      <td>2022-11-24</td>\n",
       "      <td>8:20PM</td>\n",
       "      <td>vikings</td>\n",
       "      <td>patriots</td>\n",
       "      <td>33.0</td>\n",
       "      <td>26.0</td>\n",
       "      <td>2022-11-25 01:20:00+00:00</td>\n",
       "      <td>2022-11-21 00:20:00+00:00</td>\n",
       "      <td>2022-11-25 00:20:00+00:00</td>\n",
       "    </tr>\n",
       "    <tr>\n",
       "      <th>3</th>\n",
       "      <td>12</td>\n",
       "      <td>Sun</td>\n",
       "      <td>2022-11-27</td>\n",
       "      <td>1:00PM</td>\n",
       "      <td>titans</td>\n",
       "      <td>bengals</td>\n",
       "      <td>16.0</td>\n",
       "      <td>20.0</td>\n",
       "      <td>2022-11-27 18:00:00+00:00</td>\n",
       "      <td>2022-11-23 17:00:00+00:00</td>\n",
       "      <td>2022-11-27 17:00:00+00:00</td>\n",
       "    </tr>\n",
       "    <tr>\n",
       "      <th>4</th>\n",
       "      <td>12</td>\n",
       "      <td>Sun</td>\n",
       "      <td>2022-11-27</td>\n",
       "      <td>1:00PM</td>\n",
       "      <td>browns</td>\n",
       "      <td>buccaneers</td>\n",
       "      <td>23.0</td>\n",
       "      <td>17.0</td>\n",
       "      <td>2022-11-27 18:00:00+00:00</td>\n",
       "      <td>2022-11-23 17:00:00+00:00</td>\n",
       "      <td>2022-11-27 17:00:00+00:00</td>\n",
       "    </tr>\n",
       "  </tbody>\n",
       "</table>\n",
       "</div>"
      ],
      "text/plain": [
       "   Week  Day        Date     Time     home        away  home_score  \\\n",
       "0    12  Thu  2022-11-24  12:30PM    lions       bills        25.0   \n",
       "1    12  Thu  2022-11-24   4:30PM  cowboys      giants        28.0   \n",
       "2    12  Thu  2022-11-24   8:20PM  vikings    patriots        33.0   \n",
       "3    12  Sun  2022-11-27   1:00PM   titans     bengals        16.0   \n",
       "4    12  Sun  2022-11-27   1:00PM   browns  buccaneers        23.0   \n",
       "\n",
       "   away_score                  GameTime           SearchStartTime  \\\n",
       "0        28.0 2022-11-24 17:30:00+00:00 2022-11-20 16:30:00+00:00   \n",
       "1        20.0 2022-11-24 21:30:00+00:00 2022-11-20 20:30:00+00:00   \n",
       "2        26.0 2022-11-25 01:20:00+00:00 2022-11-21 00:20:00+00:00   \n",
       "3        20.0 2022-11-27 18:00:00+00:00 2022-11-23 17:00:00+00:00   \n",
       "4        17.0 2022-11-27 18:00:00+00:00 2022-11-23 17:00:00+00:00   \n",
       "\n",
       "              SearchEndTime  \n",
       "0 2022-11-24 16:30:00+00:00  \n",
       "1 2022-11-24 20:30:00+00:00  \n",
       "2 2022-11-25 00:20:00+00:00  \n",
       "3 2022-11-27 17:00:00+00:00  \n",
       "4 2022-11-27 17:00:00+00:00  "
      ]
     },
     "execution_count": 135,
     "metadata": {},
     "output_type": "execute_result"
    }
   ],
   "source": [
    "sched_df['SearchStartTime'] = sched_df['GameTime'] - pd.to_timedelta('4 days 01:00:00')\n",
    "sched_df['SearchEndTime'] = sched_df['GameTime'] - pd.to_timedelta('01:00:00')\n",
    "sched_df.head()"
   ]
  },
  {
   "cell_type": "markdown",
   "metadata": {},
   "source": [
    "### Save to CSV"
   ]
  },
  {
   "cell_type": "code",
   "execution_count": 136,
   "metadata": {},
   "outputs": [],
   "source": [
    "\n",
    "sched_df.to_csv('./2022_schedule_cleaned.csv', index=False)"
   ]
  }
 ],
 "metadata": {
  "kernelspec": {
   "display_name": "Python 3.10.2 64-bit",
   "language": "python",
   "name": "python3"
  },
  "language_info": {
   "codemirror_mode": {
    "name": "ipython",
    "version": 3
   },
   "file_extension": ".py",
   "mimetype": "text/x-python",
   "name": "python",
   "nbconvert_exporter": "python",
   "pygments_lexer": "ipython3",
   "version": "3.10.2"
  },
  "orig_nbformat": 4,
  "vscode": {
   "interpreter": {
    "hash": "2fc6efb3340bf4aae142c4471c3414bb5b17e6e80ba42a259676c40f0503db89"
   }
  }
 },
 "nbformat": 4,
 "nbformat_minor": 2
}
