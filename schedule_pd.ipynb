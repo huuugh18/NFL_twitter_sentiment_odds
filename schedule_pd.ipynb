{
 "cells": [
  {
   "cell_type": "code",
   "execution_count": 2,
   "metadata": {},
   "outputs": [],
   "source": [
    "import pandas as pd\n",
    "import numpy as np"
   ]
  },
  {
   "cell_type": "markdown",
   "metadata": {},
   "source": [
    "Will have to make some code here to handle the original file format if use an updated version  \n",
    "Think I manually dropped the first week 1 - 11 games in excel  \n",
    "Also deleted some columns \n",
    "Manually gave the home/away column name - OG data has no column name for it"
   ]
  },
  {
   "cell_type": "markdown",
   "metadata": {},
   "source": [
    "### Create home and away team columns from data\n",
    "Data comes in with winner and loser teams vs home and away  \n",
    "Have to use the home/away column"
   ]
  },
  {
   "cell_type": "code",
   "execution_count": 3,
   "metadata": {},
   "outputs": [],
   "source": [
    "\n",
    "def get_home_and_away_columns(sched_df):\n",
    "    sched_df['home'] = np.where(\n",
    "        sched_df['home/away'] == '@', \n",
    "        sched_df['Loser/tie'], \n",
    "        sched_df['Winner/tie']\n",
    "    )\n",
    "    sched_df['away'] = np.where(\n",
    "        sched_df['home/away'] == '@', \n",
    "        sched_df['Winner/tie'], \n",
    "        sched_df['Loser/tie']\n",
    "    )\n",
    "\n",
    "    return sched_df"
   ]
  },
  {
   "cell_type": "markdown",
   "metadata": {},
   "source": [
    "### Check if any home and away teams are the same value\n",
    "If ```True in Same``` returns True than have an issue "
   ]
  },
  {
   "cell_type": "markdown",
   "metadata": {},
   "source": [
    "### Remove City from Team Name\n",
    "Also convert to all lowercase"
   ]
  },
  {
   "cell_type": "code",
   "execution_count": 4,
   "metadata": {},
   "outputs": [],
   "source": [
    "\n",
    "def get_short_team_name(full_team_name):\n",
    "    short_name = full_team_name.rsplit(None, 1)[-1]\n",
    "    lc_short_name = short_name.lower()\n",
    "    return lc_short_name\n"
   ]
  },
  {
   "cell_type": "markdown",
   "metadata": {},
   "source": [
    "### Get Home and Away Score \n",
    "Stored in original file as Points Winner (PtsW) and Points Loser (PtsL)"
   ]
  },
  {
   "cell_type": "code",
   "execution_count": 5,
   "metadata": {},
   "outputs": [],
   "source": [
    "# sched_df['home_score'] = np.where(sched_df['home/away'] == '@', sched_df['PtsL'], sched_df['PtsW'])\n",
    "# sched_df['away_score'] = np.where(sched_df['home/away'] == '@', sched_df['PtsW'], sched_df['PtsL'])\n"
   ]
  },
  {
   "cell_type": "markdown",
   "metadata": {},
   "source": [
    "#### Drop unused columns"
   ]
  },
  {
   "cell_type": "code",
   "execution_count": 6,
   "metadata": {},
   "outputs": [],
   "source": [
    "# sched_df = sched_df.drop(columns=['Winner/tie','home/away','Loser/tie','PtsW','PtsL'])\n"
   ]
  },
  {
   "cell_type": "markdown",
   "metadata": {},
   "source": [
    "### [datetime docs]('https://pandas.pydata.org/docs/reference/api/pandas.to_datetime.html')"
   ]
  },
  {
   "cell_type": "markdown",
   "metadata": {},
   "source": [
    "## Create Game Time Column based on date and time columns"
   ]
  },
  {
   "cell_type": "code",
   "execution_count": 7,
   "metadata": {},
   "outputs": [],
   "source": [
    "# sched_df['GameTime'] = pd.to_datetime(sched_df['Date'] + 'T' + sched_df['Time'] + '-0500', utc=True )\n",
    "# print(sched_df.dtypes)\n",
    "# sched_df.head()"
   ]
  },
  {
   "cell_type": "markdown",
   "metadata": {},
   "source": [
    "### Create Start and End Times based off Game Time\n",
    "Start time is 4 days 1 hour before start of game  \n",
    "End time is 1 hour before start of game"
   ]
  },
  {
   "cell_type": "code",
   "execution_count": 8,
   "metadata": {},
   "outputs": [],
   "source": [
    "# sched_df['SearchStartTime'] = sched_df['GameTime'] - pd.to_timedelta('4 days 01:00:00')\n",
    "# sched_df['SearchEndTime'] = sched_df['GameTime'] - pd.to_timedelta('01:00:00')\n",
    "# sched_df.head()"
   ]
  },
  {
   "cell_type": "markdown",
   "metadata": {},
   "source": [
    "### Save to CSV"
   ]
  },
  {
   "cell_type": "code",
   "execution_count": 9,
   "metadata": {},
   "outputs": [],
   "source": [
    "\n",
    "# sched_df.to_csv('./2022_schedule_cleaned.csv', index=False)"
   ]
  },
  {
   "cell_type": "code",
   "execution_count": 15,
   "metadata": {},
   "outputs": [],
   "source": [
    "\n",
    "\n",
    "def get_weekly_df(week):\n",
    "    filepath = f'./schedules/schedule_wk_{week}.csv'\n",
    "    # import schedule\n",
    "    sched_df = pd.read_csv(filepath)\n",
    "\n",
    "    # drop columns\n",
    "    sched_df = sched_df.drop(['YdsW','TOW','YdsL','TOL', 'Unnamed: 7'], axis=1)\n",
    "\n",
    "    #rename home/away column    \n",
    "    sched_df = sched_df.rename(columns={\"Unnamed: 5\": \"home/away\"})\n",
    "\n",
    "    sched_df = get_home_and_away_columns(sched_df)\n",
    "\n",
    "    # verify no home and away teams the same\n",
    "    same = np.where(sched_df['home'] == sched_df['away'], True, False)\n",
    "    if (True in same):\n",
    "        print('error, same team name in home and away')\n",
    "        return\n",
    "\n",
    "    # remove city from team names\n",
    "    sched_df['home'] = sched_df['home'].apply(lambda x: get_short_team_name(x))\n",
    "    sched_df['away'] = sched_df['away'].apply(lambda x: get_short_team_name(x))\n",
    "    \n",
    "    # create home and away score columns frm ptsl& ptsw\n",
    "    sched_df['home_score'] = np.where(sched_df['home/away'] == '@', sched_df['PtsL'], sched_df['PtsW'])\n",
    "    sched_df['away_score'] = np.where(sched_df['home/away'] == '@', sched_df['PtsW'], sched_df['PtsL'])\n",
    "\n",
    "    # drop remaining unused columns\n",
    "    sched_df = sched_df.drop(columns=['Winner/tie','home/away','Loser/tie','PtsW','PtsL'])\n",
    "    \n",
    "    # create game time column from date and time col in UTC format\n",
    "    sched_df['GameTime'] = pd.to_datetime(sched_df['Date'] + 'T' + sched_df['Time'] + '-0500', utc=True )\n",
    "\n",
    "    # create search start and end time columns\n",
    "    sched_df['SearchStartTime'] = sched_df['GameTime'] - pd.to_timedelta('4 days 01:00:00')\n",
    "    sched_df['SearchEndTime'] = sched_df['GameTime'] - pd.to_timedelta('01:00:00')\n",
    "\n",
    "    # save as csv\n",
    "    save_filepath = f'./schedules/schedule_wk_{week}_cleaned.csv'\n",
    "\n",
    "    sched_df.to_csv(save_filepath, index=False)\n",
    "\n",
    "    return sched_df\n",
    "    "
   ]
  },
  {
   "attachments": {},
   "cell_type": "markdown",
   "metadata": {},
   "source": [
    "### Instructions\n",
    "\n",
    "May need to rerun code to get imports and whatnot\n",
    "\n",
    "Go to [pro-football.com](https://www.pro-football-reference.com/years/2022/games.htm)    \n",
    "Export to CSV, highlight the weeks required and copy and paste into sheets file on new sheet  \n",
    "[sheets-doc](https://docs.google.com/spreadsheets/d/1UHoydeYY3Yfw34PlSWOwtFeh4uwWb9TkUBCs-hY4yzQ/edit#gid=1220878348)  \n",
    "Download as csv and save into schedules folder in this repo with filename ```schedule_wk_##.csv```\n",
    "Set pathname to ```schedule_wk_##.csv```  \n",
    "Set week to correct week  \n",
    "\n",
    "Run Code"
   ]
  },
  {
   "cell_type": "code",
   "execution_count": 18,
   "metadata": {},
   "outputs": [
    {
     "data": {
      "text/plain": [
       "[1, 2, 3, 4, 5, 6, 7, 8, 9, 10]"
      ]
     },
     "execution_count": 18,
     "metadata": {},
     "output_type": "execute_result"
    }
   ],
   "source": [
    "weeks = list(range(1,11))\n",
    "weeks"
   ]
  },
  {
   "cell_type": "code",
   "execution_count": 19,
   "metadata": {},
   "outputs": [],
   "source": [
    "for week in weeks:\n",
    "    get_weekly_df(str(week))\n",
    "\n",
    "# pathname = './schedules/schedule_wk_11.csv'\n",
    "# week = '11'\n",
    "\n",
    "# sched = get_weekly_df(pathname, '11')\n",
    "# sched\n",
    "\n",
    "\n",
    "\n",
    "     \n"
   ]
  }
 ],
 "metadata": {
  "kernelspec": {
   "display_name": "Python 3.10.2 64-bit",
   "language": "python",
   "name": "python3"
  },
  "language_info": {
   "codemirror_mode": {
    "name": "ipython",
    "version": 3
   },
   "file_extension": ".py",
   "mimetype": "text/x-python",
   "name": "python",
   "nbconvert_exporter": "python",
   "pygments_lexer": "ipython3",
   "version": "3.10.2"
  },
  "orig_nbformat": 4,
  "vscode": {
   "interpreter": {
    "hash": "2fc6efb3340bf4aae142c4471c3414bb5b17e6e80ba42a259676c40f0503db89"
   }
  }
 },
 "nbformat": 4,
 "nbformat_minor": 2
}
